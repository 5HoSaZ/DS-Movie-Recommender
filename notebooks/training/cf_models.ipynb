{
 "cells": [
  {
   "cell_type": "code",
   "execution_count": 16,
   "metadata": {},
   "outputs": [
    {
     "name": "stdout",
     "output_type": "stream",
     "text": [
      "Using cuda\n"
     ]
    }
   ],
   "source": [
    "import torch\n",
    "import torch.nn as nn\n",
    "import torch.nn.functional as F\n",
    "import torch.optim as optim\n",
    "from torch.utils.data import DataLoader\n",
    "\n",
    "import time\n",
    "import wandb\n",
    "import pandas as pd\n",
    "\n",
    "from models.cf import EmbededRatingNet, EmbededDotNet\n",
    "from models.custom import RatingDataset\n",
    "from models.training import train_model, test_model\n",
    "from utility import Mapper\n",
    "\n",
    "DEVICE = \"cuda\" if torch.cuda.is_available() else \"cpu\"\n",
    "print(\"Using \" + DEVICE)"
   ]
  },
  {
   "cell_type": "code",
   "execution_count": 17,
   "metadata": {},
   "outputs": [
    {
     "data": {
      "text/plain": [
       "True"
      ]
     },
     "execution_count": 17,
     "metadata": {},
     "output_type": "execute_result"
    }
   ],
   "source": [
    "wandb.login()"
   ]
  },
  {
   "cell_type": "markdown",
   "metadata": {},
   "source": [
    "## Dataset"
   ]
  },
  {
   "cell_type": "code",
   "execution_count": 18,
   "metadata": {},
   "outputs": [
    {
     "name": "stdout",
     "output_type": "stream",
     "text": [
      "Number of users: 200948\n",
      "Number of items: 84432\n"
     ]
    }
   ],
   "source": [
    "DATASET = \"merged/full\"\n",
    "mapper = Mapper.load(f\"./database/{DATASET}/pydata/mapper.pkl\")\n",
    "full_mapper = Mapper.load(f\"./database/merged/mapper.pkl\")\n",
    "data = RatingDataset(f\"./database/{DATASET}\", full_mapper, True)\n",
    "print(\"Number of users:\", NUM_USER := len(mapper.user_fwd_map))\n",
    "print(\"Number of items:\", NUM_ITEM := len(mapper.item_fwd_map))"
   ]
  },
  {
   "cell_type": "markdown",
   "metadata": {},
   "source": [
    "## Deep Model Training"
   ]
  },
  {
   "cell_type": "code",
   "execution_count": 19,
   "metadata": {},
   "outputs": [],
   "source": [
    "# Model parameters\n",
    "NUM_FACTOR = 12\n",
    "# Training parameters\n",
    "EPOCHS = 20\n",
    "BATCH = 4096\n",
    "SEED = 291124\n",
    "LR = 1.0"
   ]
  },
  {
   "cell_type": "code",
   "execution_count": 20,
   "metadata": {},
   "outputs": [
    {
     "data": {
      "application/vnd.jupyter.widget-view+json": {
       "model_id": "d65ce9c8e19a4a1db4cff58140c9ed36",
       "version_major": 2,
       "version_minor": 0
      },
      "text/plain": [
       "VBox(children=(Label(value='Waiting for wandb.init()...\\r'), FloatProgress(value=0.011112730422205964, max=1.0…"
      ]
     },
     "metadata": {},
     "output_type": "display_data"
    },
    {
     "data": {
      "text/html": [
       "Tracking run with wandb version 0.18.5"
      ],
      "text/plain": [
       "<IPython.core.display.HTML object>"
      ]
     },
     "metadata": {},
     "output_type": "display_data"
    },
    {
     "data": {
      "text/html": [
       "Run data is saved locally in <code>/home/zelinix_window/workspace/movie-recommendation/wandb/run-20241216_230742-ma9qs8ui</code>"
      ],
      "text/plain": [
       "<IPython.core.display.HTML object>"
      ]
     },
     "metadata": {},
     "output_type": "display_data"
    },
    {
     "data": {
      "text/html": [
       "Syncing run <strong><a href='https://wandb.ai/dat-tht225482-hust/movie-recommendation-models/runs/ma9qs8ui' target=\"_blank\">rural-butterfly-53</a></strong> to <a href='https://wandb.ai/dat-tht225482-hust/movie-recommendation-models' target=\"_blank\">Weights & Biases</a> (<a href='https://wandb.me/run' target=\"_blank\">docs</a>)<br/>"
      ],
      "text/plain": [
       "<IPython.core.display.HTML object>"
      ]
     },
     "metadata": {},
     "output_type": "display_data"
    },
    {
     "data": {
      "text/html": [
       " View project at <a href='https://wandb.ai/dat-tht225482-hust/movie-recommendation-models' target=\"_blank\">https://wandb.ai/dat-tht225482-hust/movie-recommendation-models</a>"
      ],
      "text/plain": [
       "<IPython.core.display.HTML object>"
      ]
     },
     "metadata": {},
     "output_type": "display_data"
    },
    {
     "data": {
      "text/html": [
       " View run at <a href='https://wandb.ai/dat-tht225482-hust/movie-recommendation-models/runs/ma9qs8ui' target=\"_blank\">https://wandb.ai/dat-tht225482-hust/movie-recommendation-models/runs/ma9qs8ui</a>"
      ],
      "text/plain": [
       "<IPython.core.display.HTML object>"
      ]
     },
     "metadata": {},
     "output_type": "display_data"
    },
    {
     "data": {
      "text/html": [
       "<button onClick=\"this.nextSibling.style.display='block';this.style.display='none';\">Display W&B run</button><iframe src='https://wandb.ai/dat-tht225482-hust/movie-recommendation-models/runs/ma9qs8ui?jupyter=true' style='border:none;width:100%;height:420px;display:none;'></iframe>"
      ],
      "text/plain": [
       "<wandb.sdk.wandb_run.Run at 0x7f58c1514b00>"
      ]
     },
     "execution_count": 20,
     "metadata": {},
     "output_type": "execute_result"
    }
   ],
   "source": [
    "wandb.init(\n",
    "    project=\"movie-recommendation-models\",\n",
    "    resume=\"allow\",\n",
    "    config={\n",
    "        \"dataset\": DATASET,\n",
    "        \"seed\": SEED,\n",
    "        \"batch_size\": BATCH,\n",
    "        \"epochs\": EPOCHS,\n",
    "        \"num_factor\": NUM_FACTOR,\n",
    "        \"device\": DEVICE,\n",
    "        \"learning_rate\": LR,\n",
    "    },\n",
    ")"
   ]
  },
  {
   "cell_type": "markdown",
   "metadata": {},
   "source": [
    "Train-Test Split"
   ]
  },
  {
   "cell_type": "code",
   "execution_count": 21,
   "metadata": {},
   "outputs": [],
   "source": [
    "train, test = data.split(0.8, seed=SEED)"
   ]
  },
  {
   "cell_type": "code",
   "execution_count": 22,
   "metadata": {},
   "outputs": [],
   "source": [
    "train_loader = DataLoader(train, batch_size=BATCH, shuffle=True, num_workers=3)\n",
    "test_loader = DataLoader(test, batch_size=BATCH, num_workers=3)"
   ]
  },
  {
   "cell_type": "markdown",
   "metadata": {},
   "source": [
    "### CF Embeded Rating"
   ]
  },
  {
   "cell_type": "code",
   "execution_count": 23,
   "metadata": {},
   "outputs": [],
   "source": [
    "# model = EmbededRatingNet(NUM_USER, NUM_ITEM, NUM_FACTOR).to(DEVICE)\n",
    "model = EmbededDotNet(NUM_USER, NUM_ITEM, NUM_FACTOR).to(DEVICE)\n",
    "loss_fn = nn.MSELoss()\n",
    "l1 = nn.L1Loss()\n",
    "optimizer = optim.SGD(model.parameters(), lr=LR)\n",
    "best_val_loss = float(\"inf\")\n",
    "wandb.watch(model)"
   ]
  },
  {
   "cell_type": "markdown",
   "metadata": {},
   "source": [
    "Model training"
   ]
  },
  {
   "cell_type": "code",
   "execution_count": 24,
   "metadata": {},
   "outputs": [],
   "source": [
    "def logging(epoch, train_loss, train_mae, test_loss, test_mae, time):\n",
    "    time  = int(time)\n",
    "    logs = \"\"\n",
    "    logs += f\"Epoch {epoch}: \"\n",
    "    logs += f\"Train Loss: {train_loss:.4e} | \"\n",
    "    logs += f\"Train MAE: {train_mae:.4e} | \"\n",
    "    logs += f\"Test Loss: {test_loss:.4e} | \"\n",
    "    logs += f\"Test MAE: {test_mae:.4e} | \"\n",
    "    logs += f\"Time Taken: {time // 60}m {time % 60:02d}s\"\n",
    "    wandb.log({\n",
    "        \"epoch\": epoch,\n",
    "        \"train_loss\": train_loss,\n",
    "        \"train_mae\": train_mae,\n",
    "        \"test_loss\": test_loss,\n",
    "        \"test_mae\": test_mae,\n",
    "    })\n",
    "    print(logs, end=\" \")"
   ]
  },
  {
   "cell_type": "code",
   "execution_count": 25,
   "metadata": {},
   "outputs": [
    {
     "name": "stdout",
     "output_type": "stream",
     "text": [
      "Epoch 1: Train Loss: 3.2025e+00 | Train MAE: 1.2714e+00 | Test Loss: 1.6514e+00 | Test MAE: 9.6372e-01 | Time Taken: 6m 35s > Checkpoint saved!\n",
      "Epoch 2: Train Loss: 1.3415e+00 | Train MAE: 8.9608e-01 | Test Loss: 1.1714e+00 | Test MAE: 8.5646e-01 | Time Taken: 7m 01s > Checkpoint saved!\n",
      "Epoch 3: Train Loss: 1.0438e+00 | Train MAE: 8.2817e-01 | Test Loss: 9.8987e-01 | Test MAE: 8.1426e-01 | Time Taken: 6m 12s > Checkpoint saved!\n",
      "Epoch 4: Train Loss: 9.0965e-01 | Train MAE: 7.9666e-01 | Test Loss: 8.9364e-01 | Test MAE: 7.9150e-01 | Time Taken: 5m 56s > Checkpoint saved!\n",
      "Epoch 5: Train Loss: 8.3258e-01 | Train MAE: 7.7824e-01 | Test Loss: 8.3377e-01 | Test MAE: 7.7723e-01 | Time Taken: 7m 01s > Checkpoint saved!\n",
      "Epoch 6: Train Loss: 7.8214e-01 | Train MAE: 7.6606e-01 | Test Loss: 7.9282e-01 | Test MAE: 7.6739e-01 | Time Taken: 7m 56s > Checkpoint saved!\n",
      "Epoch 7: Train Loss: 7.4645e-01 | Train MAE: 7.5734e-01 | Test Loss: 7.6300e-01 | Test MAE: 7.6014e-01 | Time Taken: 8m 45s > Checkpoint saved!\n",
      "Epoch 8: Train Loss: 7.1985e-01 | Train MAE: 7.5077e-01 | Test Loss: 7.4024e-01 | Test MAE: 7.5457e-01 | Time Taken: 8m 23s > Checkpoint saved!\n",
      "Epoch 9: Train Loss: 6.9918e-01 | Train MAE: 7.4562e-01 | Test Loss: 7.2226e-01 | Test MAE: 7.5012e-01 | Time Taken: 9m 14s > Checkpoint saved!\n",
      "Epoch 10: Train Loss: 6.8257e-01 | Train MAE: 7.4141e-01 | Test Loss: 7.0771e-01 | Test MAE: 7.4648e-01 | Time Taken: 9m 06s > Checkpoint saved!\n",
      "Epoch 11: Train Loss: 6.6897e-01 | Train MAE: 7.3791e-01 | Test Loss: 6.9562e-01 | Test MAE: 7.4342e-01 | Time Taken: 7m 42s > Checkpoint saved!\n",
      "Epoch 12: Train Loss: 6.5758e-01 | Train MAE: 7.3493e-01 | Test Loss: 6.8538e-01 | Test MAE: 7.4076e-01 | Time Taken: 9m 27s > Checkpoint saved!\n",
      "Epoch 13: Train Loss: 6.4791e-01 | Train MAE: 7.3234e-01 | Test Loss: 6.7672e-01 | Test MAE: 7.3848e-01 | Time Taken: 8m 45s > Checkpoint saved!\n",
      "Epoch 14: Train Loss: 6.3955e-01 | Train MAE: 7.3003e-01 | Test Loss: 6.6907e-01 | Test MAE: 7.3639e-01 | Time Taken: 8m 31s > Checkpoint saved!\n",
      "Epoch 15: Train Loss: 6.3221e-01 | Train MAE: 7.2792e-01 | Test Loss: 6.6232e-01 | Test MAE: 7.3444e-01 | Time Taken: 6m 30s > Checkpoint saved!\n",
      "Epoch 16: Train Loss: 6.2570e-01 | Train MAE: 7.2596e-01 | Test Loss: 6.5635e-01 | Test MAE: 7.3265e-01 | Time Taken: 6m 13s > Checkpoint saved!\n",
      "Epoch 17: Train Loss: 6.1985e-01 | Train MAE: 7.2409e-01 | Test Loss: 6.5098e-01 | Test MAE: 7.3090e-01 | Time Taken: 6m 20s > Checkpoint saved!\n",
      "Epoch 18: Train Loss: 6.1459e-01 | Train MAE: 7.2229e-01 | Test Loss: 6.4600e-01 | Test MAE: 7.2916e-01 | Time Taken: 6m 24s > Checkpoint saved!\n",
      "Epoch 19: Train Loss: 6.0965e-01 | Train MAE: 7.2044e-01 | Test Loss: 6.4137e-01 | Test MAE: 7.2744e-01 | Time Taken: 6m 26s > Checkpoint saved!\n",
      "Epoch 20: Train Loss: 6.0505e-01 | Train MAE: 7.1858e-01 | Test Loss: 6.3702e-01 | Test MAE: 7.2559e-01 | Time Taken: 6m 35s > Checkpoint saved!\n"
     ]
    }
   ],
   "source": [
    "for epoch in range(1, EPOCHS + 1):\n",
    "    start_time = time.time()\n",
    "    train_loss, train_mae = train_model(epoch, model, train_loader, loss_fn, optimizer, DEVICE)\n",
    "    test_loss, test_mae = test_model(epoch, model, test_loader, loss_fn, DEVICE)\n",
    "    time_taken = time.time() - start_time\n",
    "    logging(epoch, train_loss, train_mae, test_loss, test_mae, time_taken)\n",
    "    if test_loss < best_val_loss:\n",
    "        best_val_loss = test_loss\n",
    "        torch.save(model.state_dict(), \"model.pth\")\n",
    "        print(\"> Checkpoint saved!\")\n",
    "    else:\n",
    "        print()"
   ]
  },
  {
   "cell_type": "code",
   "execution_count": 26,
   "metadata": {},
   "outputs": [
    {
     "data": {
      "application/vnd.jupyter.widget-view+json": {
       "model_id": "2bfcddf2cdc54f2cbb4d1c9455918206",
       "version_major": 2,
       "version_minor": 0
      },
      "text/plain": [
       "VBox(children=(Label(value='0.012 MB of 0.012 MB uploaded\\r'), FloatProgress(value=1.0, max=1.0)))"
      ]
     },
     "metadata": {},
     "output_type": "display_data"
    },
    {
     "data": {
      "text/html": [
       "<style>\n",
       "    table.wandb td:nth-child(1) { padding: 0 10px; text-align: left ; width: auto;} td:nth-child(2) {text-align: left ; width: 100%}\n",
       "    .wandb-row { display: flex; flex-direction: row; flex-wrap: wrap; justify-content: flex-start; width: 100% }\n",
       "    .wandb-col { display: flex; flex-direction: column; flex-basis: 100%; flex: 1; padding: 10px; }\n",
       "    </style>\n",
       "<div class=\"wandb-row\"><div class=\"wandb-col\"><h3>Run history:</h3><br/><table class=\"wandb\"><tr><td>epoch</td><td>▁▁▂▂▂▃▃▄▄▄▅▅▅▆▆▇▇▇██</td></tr><tr><td>test_loss</td><td>█▅▃▃▂▂▂▂▂▁▁▁▁▁▁▁▁▁▁▁</td></tr><tr><td>test_mae</td><td>█▅▄▃▃▂▂▂▂▂▂▁▁▁▁▁▁▁▁▁</td></tr><tr><td>train_loss</td><td>█▃▂▂▂▁▁▁▁▁▁▁▁▁▁▁▁▁▁▁</td></tr><tr><td>train_mae</td><td>█▃▂▂▂▂▁▁▁▁▁▁▁▁▁▁▁▁▁▁</td></tr></table><br/></div><div class=\"wandb-col\"><h3>Run summary:</h3><br/><table class=\"wandb\"><tr><td>epoch</td><td>20</td></tr><tr><td>test_loss</td><td>0.63702</td></tr><tr><td>test_mae</td><td>0.72559</td></tr><tr><td>train_loss</td><td>0.60505</td></tr><tr><td>train_mae</td><td>0.71858</td></tr></table><br/></div></div>"
      ],
      "text/plain": [
       "<IPython.core.display.HTML object>"
      ]
     },
     "metadata": {},
     "output_type": "display_data"
    },
    {
     "data": {
      "text/html": [
       " View run <strong style=\"color:#cdcd00\">rural-butterfly-53</strong> at: <a href='https://wandb.ai/dat-tht225482-hust/movie-recommendation-models/runs/ma9qs8ui' target=\"_blank\">https://wandb.ai/dat-tht225482-hust/movie-recommendation-models/runs/ma9qs8ui</a><br/> View project at: <a href='https://wandb.ai/dat-tht225482-hust/movie-recommendation-models' target=\"_blank\">https://wandb.ai/dat-tht225482-hust/movie-recommendation-models</a><br/>Synced 5 W&B file(s), 0 media file(s), 2 artifact file(s) and 0 other file(s)"
      ],
      "text/plain": [
       "<IPython.core.display.HTML object>"
      ]
     },
     "metadata": {},
     "output_type": "display_data"
    },
    {
     "data": {
      "text/html": [
       "Find logs at: <code>./wandb/run-20241216_230742-ma9qs8ui/logs</code>"
      ],
      "text/plain": [
       "<IPython.core.display.HTML object>"
      ]
     },
     "metadata": {},
     "output_type": "display_data"
    }
   ],
   "source": [
    "wandb.finish()"
   ]
  },
  {
   "cell_type": "markdown",
   "metadata": {},
   "source": [
    "## Get recommendation"
   ]
  },
  {
   "cell_type": "code",
   "execution_count": 27,
   "metadata": {},
   "outputs": [
    {
     "data": {
      "text/plain": [
       "<All keys matched successfully>"
      ]
     },
     "execution_count": 27,
     "metadata": {},
     "output_type": "execute_result"
    }
   ],
   "source": [
    "movies = pd.read_csv(\"./database/merged/metadatas.csv\")\n",
    "full_mapper = Mapper.load(f\"./database/merged/mapper.pkl\")\n",
    "# model.load_state_dict(torch.load(\"models/cf/embeded_rating.pth\"))\n",
    "# model = EmbededRatingNet(NUM_USER, NUM_ITEM, NUM_FACTOR).to(DEVICE)\n",
    "model = EmbededDotNet(NUM_USER, NUM_ITEM, NUM_FACTOR).to(DEVICE)\n",
    "model.load_state_dict(torch.load(\"./model.pth\"))"
   ]
  },
  {
   "cell_type": "code",
   "execution_count": 28,
   "metadata": {},
   "outputs": [],
   "source": [
    "def get_recommendation(user, model: nn.Module, top: int = 10):\n",
    "    user_idx = int(mapper.user_fwd_map[user])\n",
    "    users = torch.tensor([user_idx] * NUM_ITEM, dtype=torch.int64, device=DEVICE)\n",
    "    movies = torch.tensor(range(NUM_ITEM), dtype=torch.int64, device=DEVICE)\n",
    "    model.eval()\n",
    "    with torch.no_grad():\n",
    "        ratings: torch.Tensor = model(users, movies)\n",
    "    ratings = [(mapper.item_inv_map[i], float(r.item())) for i, r in zip(range(NUM_ITEM), ratings.to(\"cpu\"))]\n",
    "    ratings = sorted(ratings, key=lambda x: x[1], reverse=True)[:top]\n",
    "    return ratings"
   ]
  },
  {
   "cell_type": "code",
   "execution_count": 29,
   "metadata": {},
   "outputs": [
    {
     "data": {
      "text/html": [
       "<div>\n",
       "<style scoped>\n",
       "    .dataframe tbody tr th:only-of-type {\n",
       "        vertical-align: middle;\n",
       "    }\n",
       "\n",
       "    .dataframe tbody tr th {\n",
       "        vertical-align: top;\n",
       "    }\n",
       "\n",
       "    .dataframe thead th {\n",
       "        text-align: right;\n",
       "    }\n",
       "</style>\n",
       "<table border=\"1\" class=\"dataframe\">\n",
       "  <thead>\n",
       "    <tr style=\"text-align: right;\">\n",
       "      <th></th>\n",
       "      <th>Title</th>\n",
       "      <th>MovieID</th>\n",
       "      <th>Rating</th>\n",
       "    </tr>\n",
       "  </thead>\n",
       "  <tbody>\n",
       "    <tr>\n",
       "      <th>86</th>\n",
       "      <td>Mask of Zorro, The (1998)</td>\n",
       "      <td>2006</td>\n",
       "      <td>4.0</td>\n",
       "    </tr>\n",
       "    <tr>\n",
       "      <th>94</th>\n",
       "      <td>Willow (1988)</td>\n",
       "      <td>2193</td>\n",
       "      <td>3.0</td>\n",
       "    </tr>\n",
       "    <tr>\n",
       "      <th>37</th>\n",
       "      <td>Princess Bride, The (1987)</td>\n",
       "      <td>1197</td>\n",
       "      <td>4.0</td>\n",
       "    </tr>\n",
       "    <tr>\n",
       "      <th>3</th>\n",
       "      <td>Waterworld (1995)</td>\n",
       "      <td>208</td>\n",
       "      <td>4.0</td>\n",
       "    </tr>\n",
       "    <tr>\n",
       "      <th>36</th>\n",
       "      <td>Star Wars: Episode V - The Empire Strikes Back...</td>\n",
       "      <td>1196</td>\n",
       "      <td>4.0</td>\n",
       "    </tr>\n",
       "    <tr>\n",
       "      <th>78</th>\n",
       "      <td>Deep Impact (1998)</td>\n",
       "      <td>1876</td>\n",
       "      <td>4.0</td>\n",
       "    </tr>\n",
       "    <tr>\n",
       "      <th>69</th>\n",
       "      <td>Conan the Barbarian (1982)</td>\n",
       "      <td>1587</td>\n",
       "      <td>3.0</td>\n",
       "    </tr>\n",
       "    <tr>\n",
       "      <th>133</th>\n",
       "      <td>Allan Quatermain and the Lost City of Gold (1987)</td>\n",
       "      <td>2748</td>\n",
       "      <td>2.0</td>\n",
       "    </tr>\n",
       "    <tr>\n",
       "      <th>31</th>\n",
       "      <td>Ghost and the Darkness, The (1996)</td>\n",
       "      <td>1049</td>\n",
       "      <td>4.0</td>\n",
       "    </tr>\n",
       "    <tr>\n",
       "      <th>19</th>\n",
       "      <td>Mission: Impossible (1996)</td>\n",
       "      <td>648</td>\n",
       "      <td>4.0</td>\n",
       "    </tr>\n",
       "  </tbody>\n",
       "</table>\n",
       "</div>"
      ],
      "text/plain": [
       "                                                 Title  MovieID  Rating\n",
       "86                           Mask of Zorro, The (1998)     2006     4.0\n",
       "94                                       Willow (1988)     2193     3.0\n",
       "37                          Princess Bride, The (1987)     1197     4.0\n",
       "3                                    Waterworld (1995)      208     4.0\n",
       "36   Star Wars: Episode V - The Empire Strikes Back...     1196     4.0\n",
       "78                                  Deep Impact (1998)     1876     4.0\n",
       "69                          Conan the Barbarian (1982)     1587     3.0\n",
       "133  Allan Quatermain and the Lost City of Gold (1987)     2748     2.0\n",
       "31                  Ghost and the Darkness, The (1996)     1049     4.0\n",
       "19                          Mission: Impossible (1996)      648     4.0"
      ]
     },
     "execution_count": 29,
     "metadata": {},
     "output_type": "execute_result"
    }
   ],
   "source": [
    "user_id = 102234\n",
    "user_rated = data.dataset[data.dataset[\"UserID\"] == user_id]\n",
    "user_rated = pd.merge(movies[[\"MovieID\", \"Title\"]], user_rated, on=\"MovieID\", how=\"right\")\n",
    "user_rated = user_rated.sort_values(by=\"Rating\", ascending=False)\n",
    "user_rated = user_rated.reindex(columns=[\"Title\", \"MovieID\", \"Rating\"])\n",
    "user_rated.sample(10)"
   ]
  },
  {
   "cell_type": "code",
   "execution_count": 30,
   "metadata": {},
   "outputs": [
    {
     "name": "stdout",
     "output_type": "stream",
     "text": [
      "261715 Help (Movie) (2021) 10.27344799041748\n",
      "270926 Reclaiming Amy (2021) 9.936103820800781\n",
      "261083 Dune World (2021) 9.629478454589844\n",
      "221728 Into The Void (2019) 9.330317497253418\n",
      "244512 The Kings of Appletown (2008) 9.250347137451172\n",
      "276975 Final Move (2006) 9.208444595336914\n",
      "122619 Nervous Ticks (1992) 9.187948226928711\n",
      "250376 Subject to Review (2019) 9.155195236206055\n",
      "194933 Funeralopolis : A Suburban Portrait (2017) 8.91994857788086\n",
      "164073 La macchinazione (2016) 8.904389381408691\n"
     ]
    }
   ],
   "source": [
    "for m_id, rate in get_recommendation(user_id, model):\n",
    "    print(m_id, movies[movies[\"MovieID\"] == m_id][\"Title\"].values[0], rate)"
   ]
  }
 ],
 "metadata": {
  "kernelspec": {
   "display_name": "vocalopy",
   "language": "python",
   "name": "python3"
  },
  "language_info": {
   "codemirror_mode": {
    "name": "ipython",
    "version": 3
   },
   "file_extension": ".py",
   "mimetype": "text/x-python",
   "name": "python",
   "nbconvert_exporter": "python",
   "pygments_lexer": "ipython3",
   "version": "3.12.2"
  }
 },
 "nbformat": 4,
 "nbformat_minor": 2
}
