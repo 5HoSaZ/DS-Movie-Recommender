{
 "cells": [
  {
   "cell_type": "code",
   "execution_count": 7,
   "metadata": {},
   "outputs": [
    {
     "name": "stdout",
     "output_type": "stream",
     "text": [
      "Using cuda\n"
     ]
    },
    {
     "data": {
      "text/plain": [
       "True"
      ]
     },
     "execution_count": 7,
     "metadata": {},
     "output_type": "execute_result"
    }
   ],
   "source": [
    "import torch\n",
    "import torch.nn as nn\n",
    "import torch.nn.functional as F\n",
    "import torch.optim as optim\n",
    "from torch.utils.data import DataLoader\n",
    "from torchsummary import summary\n",
    "import pandas as pd\n",
    "\n",
    "# Utility\n",
    "import time\n",
    "import wandb\n",
    "\n",
    "from models.custom import RatingDataset\n",
    "from models.cb import FeatureGenerator\n",
    "from models.training import train_model, test_model\n",
    "from utility import Mapper\n",
    "\n",
    "DEVICE = \"cuda\" if torch.cuda.is_available() else \"cpu\"\n",
    "print(\"Using \" + DEVICE)\n",
    "wandb.login()"
   ]
  },
  {
   "cell_type": "markdown",
   "metadata": {},
   "source": [
    "## Dataset"
   ]
  },
  {
   "cell_type": "code",
   "execution_count": 8,
   "metadata": {},
   "outputs": [
    {
     "name": "stdout",
     "output_type": "stream",
     "text": [
      "Number of users: 200948\n",
      "Number of items: 84432\n"
     ]
    }
   ],
   "source": [
    "DATASET = \"merged/full\"\n",
    "mapper = Mapper.load(f\"./database/{DATASET}/pydata/mapper.pkl\")\n",
    "full_mapper = Mapper.load(f\"./database/merged/mapper.pkl\")\n",
    "data = RatingDataset(f\"./database/{DATASET}\", full_mapper, True)\n",
    "print(\"Number of users:\", NUM_USER := len(mapper.user_fwd_map))\n",
    "print(\"Number of items:\", NUM_ITEM := len(mapper.item_fwd_map))"
   ]
  },
  {
   "cell_type": "markdown",
   "metadata": {},
   "source": [
    "## Hybrid Model Training"
   ]
  },
  {
   "cell_type": "code",
   "execution_count": 9,
   "metadata": {},
   "outputs": [],
   "source": [
    "# Training parameters\n",
    "EPOCHS = 20\n",
    "BATCH = 4096\n",
    "SEED = 291124"
   ]
  },
  {
   "cell_type": "code",
   "execution_count": 10,
   "metadata": {},
   "outputs": [
    {
     "data": {
      "application/vnd.jupyter.widget-view+json": {
       "model_id": "76243c0fb09447179d7f7fdaec9dbc4d",
       "version_major": 2,
       "version_minor": 0
      },
      "text/plain": [
       "VBox(children=(Label(value='Waiting for wandb.init()...\\r'), FloatProgress(value=0.011113026155554609, max=1.0…"
      ]
     },
     "metadata": {},
     "output_type": "display_data"
    },
    {
     "data": {
      "text/html": [
       "Tracking run with wandb version 0.18.5"
      ],
      "text/plain": [
       "<IPython.core.display.HTML object>"
      ]
     },
     "metadata": {},
     "output_type": "display_data"
    },
    {
     "data": {
      "text/html": [
       "Run data is saved locally in <code>/home/zelinix_window/workspace/movie-recommendation/wandb/run-20241207_094608-pllgofva</code>"
      ],
      "text/plain": [
       "<IPython.core.display.HTML object>"
      ]
     },
     "metadata": {},
     "output_type": "display_data"
    },
    {
     "data": {
      "text/html": [
       "Syncing run <strong><a href='https://wandb.ai/dat-tht225482-hust/movie-recommendation-models/runs/pllgofva' target=\"_blank\">upbeat-smoke-31</a></strong> to <a href='https://wandb.ai/dat-tht225482-hust/movie-recommendation-models' target=\"_blank\">Weights & Biases</a> (<a href='https://wandb.me/run' target=\"_blank\">docs</a>)<br/>"
      ],
      "text/plain": [
       "<IPython.core.display.HTML object>"
      ]
     },
     "metadata": {},
     "output_type": "display_data"
    },
    {
     "data": {
      "text/html": [
       " View project at <a href='https://wandb.ai/dat-tht225482-hust/movie-recommendation-models' target=\"_blank\">https://wandb.ai/dat-tht225482-hust/movie-recommendation-models</a>"
      ],
      "text/plain": [
       "<IPython.core.display.HTML object>"
      ]
     },
     "metadata": {},
     "output_type": "display_data"
    },
    {
     "data": {
      "text/html": [
       " View run at <a href='https://wandb.ai/dat-tht225482-hust/movie-recommendation-models/runs/pllgofva' target=\"_blank\">https://wandb.ai/dat-tht225482-hust/movie-recommendation-models/runs/pllgofva</a>"
      ],
      "text/plain": [
       "<IPython.core.display.HTML object>"
      ]
     },
     "metadata": {},
     "output_type": "display_data"
    },
    {
     "data": {
      "text/html": [
       "<button onClick=\"this.nextSibling.style.display='block';this.style.display='none';\">Display W&B run</button><iframe src='https://wandb.ai/dat-tht225482-hust/movie-recommendation-models/runs/pllgofva?jupyter=true' style='border:none;width:100%;height:420px;display:none;'></iframe>"
      ],
      "text/plain": [
       "<wandb.sdk.wandb_run.Run at 0x7fdf24cdbfb0>"
      ]
     },
     "execution_count": 10,
     "metadata": {},
     "output_type": "execute_result"
    }
   ],
   "source": [
    "wandb.init(\n",
    "    project=\"movie-recommendation-models\",\n",
    "    resume=\"allow\",\n",
    "    config={\n",
    "        \"dataset\": DATASET,\n",
    "        \"seed\": SEED,\n",
    "        \"batch_size\": BATCH,\n",
    "        \"epochs\": EPOCHS,\n",
    "        \"device\": DEVICE,\n",
    "    },\n",
    ")"
   ]
  },
  {
   "cell_type": "markdown",
   "metadata": {},
   "source": [
    "Train-Test Split"
   ]
  },
  {
   "cell_type": "code",
   "execution_count": 11,
   "metadata": {},
   "outputs": [],
   "source": [
    "train, test = data.split(0.8, seed=SEED)\n",
    "train_loader = DataLoader(train, batch_size=BATCH, shuffle=True, num_workers=3)\n",
    "test_loader = DataLoader(test, batch_size=BATCH, num_workers=3)"
   ]
  },
  {
   "cell_type": "code",
   "execution_count": 12,
   "metadata": {},
   "outputs": [],
   "source": [
    "f = FeatureGenerator(torch.load(\"./models/cb/genres_with_ratings.pt\")).to(DEVICE)\n",
    "n = nn.Embedding(NUM_USER, f.num_feature, sparse=True).to(DEVICE)"
   ]
  },
  {
   "cell_type": "code",
   "execution_count": 13,
   "metadata": {},
   "outputs": [],
   "source": [
    "class EmbededHybridNet(nn.Module):\n",
    "\n",
    "    def __init__(self, num_user: int, genres, titles_and_plots, directors_and_casts):\n",
    "        super(EmbededHybridNet, self).__init__()\n",
    "        # Item features\n",
    "        self.item_weighted_genres = FeatureGenerator(genres)\n",
    "        self.item_titles_plots = FeatureGenerator(titles_and_plots)\n",
    "        self.item_directors_casts = FeatureGenerator(directors_and_casts)\n",
    "        # User features\n",
    "        self.user_weighted_genres = nn.Embedding(num_user, self.item_weighted_genres.num_feature, sparse=True)\n",
    "        self.user_titles_plots = nn.Embedding(num_user, self.item_titles_plots.num_feature, sparse=True)\n",
    "        self.user_directors_casts = nn.Embedding(num_user, self.item_directors_casts.num_feature, sparse=True)\n",
    "        # Features dense layers\n",
    "        self.dense_weighted_genres = nn.Linear(self.item_weighted_genres.num_feature * 2, 2)\n",
    "        self.dense_titles_plots = nn.Linear(self.item_titles_plots.num_feature * 2, 2)\n",
    "        self.dense_directors_casts = nn.Linear(self.item_directors_casts.num_feature * 2, 2)\n",
    "        # Dense\n",
    "        self.out = nn.Linear(6, 1, dtype=torch.float32)\n",
    "        # Relu\n",
    "        self.relu = nn.ReLU()\n",
    "\n",
    "    def __call__(self, user, item):\n",
    "        # Weighted genres\n",
    "        user_weighted_genres = self.user_weighted_genres(user)\n",
    "        item_weighted_genres = self.item_weighted_genres(item)\n",
    "        weighted_genres = torch.cat([user_weighted_genres, item_weighted_genres], dim=1)\n",
    "        weighted_genres = self.dense_weighted_genres(weighted_genres)\n",
    "        # Tiltes and plots\n",
    "        user_titles_plots = self.user_titles_plots(user)\n",
    "        item_titles_plots = self.item_titles_plots(item)\n",
    "        titles_plots = torch.cat([user_titles_plots, item_titles_plots], dim=1)\n",
    "        titles_plots = self.dense_titles_plots(titles_plots)\n",
    "        # Directors and casts\n",
    "        user_directors_casts = self.user_directors_casts(user)\n",
    "        item_directors_casts = self.item_directors_casts(item)\n",
    "        directors_casts = torch.cat([user_directors_casts, item_directors_casts], dim=1)\n",
    "        directors_casts = self.dense_directors_casts(directors_casts)\n",
    "        # Final denses\n",
    "        x = self.relu(torch.cat([weighted_genres, titles_plots, directors_casts], dim=1))\n",
    "        return self.out(x)"
   ]
  },
  {
   "cell_type": "code",
   "execution_count": 14,
   "metadata": {},
   "outputs": [],
   "source": [
    "genres = torch.load(\"./models/cb/genres_with_ratings.pt\").to(DEVICE)\n",
    "titles_and_plots = torch.load(\"./models/cb/titles_and_plots.pt\").to(DEVICE)\n",
    "directors_and_casts = torch.load(\"./models/cb/directors_and_cast.pt\").to(DEVICE)\n",
    "model = EmbededHybridNet(NUM_USER, genres, titles_and_plots, directors_and_casts).to(DEVICE)\n",
    "loss_fn = nn.MSELoss()\n",
    "l1 = nn.L1Loss()\n",
    "optimizer = optim.SGD(model.parameters())\n",
    "best_val_loss = float(\"inf\")\n",
    "wandb.watch(model)"
   ]
  },
  {
   "cell_type": "code",
   "execution_count": 15,
   "metadata": {},
   "outputs": [],
   "source": [
    "def logging(epoch, train_loss, train_mae, test_loss, test_mae, time):\n",
    "    time = int(time)\n",
    "    logs = \"\"\n",
    "    logs += f\"Epoch {epoch}: \"\n",
    "    logs += f\"Train Loss: {train_loss:.4e} | \"\n",
    "    logs += f\"Train MAE: {train_mae:.4e} | \"\n",
    "    logs += f\"Test Loss: {test_loss:.4e} | \"\n",
    "    logs += f\"Test MAE: {test_mae:.4e} | \"\n",
    "    logs += f\"Time Taken: {time // 60}m {time % 60:02d}s\"\n",
    "    wandb.log(\n",
    "        {\n",
    "            \"epoch\": epoch,\n",
    "            \"train_loss\": train_loss,\n",
    "            \"train_mae\": train_mae,\n",
    "            \"test_loss\": test_loss,\n",
    "            \"test_mae\": test_mae,\n",
    "        }\n",
    "    )\n",
    "    print(logs, end=\" \")"
   ]
  },
  {
   "cell_type": "code",
   "execution_count": 16,
   "metadata": {},
   "outputs": [
    {
     "name": "stdout",
     "output_type": "stream",
     "text": [
      "Epoch 1: Train Loss: 5.8364e-02 | Train MAE: 1.8958e-01 | Test Loss: 4.6521e-02 | Test MAE: 1.7106e-01 | Time Taken: 5m 57s > Checkpoint saved!\n",
      "Epoch 2: Train Loss: 4.5904e-02 | Train MAE: 1.7009e-01 | Test Loss: 4.5425e-02 | Test MAE: 1.6924e-01 | Time Taken: 6m 03s > Checkpoint saved!\n",
      "Epoch 3: Train Loss: 4.5240e-02 | Train MAE: 1.6884e-01 | Test Loss: 4.5040e-02 | Test MAE: 1.6840e-01 | Time Taken: 6m 01s > Checkpoint saved!\n",
      "Epoch 4: Train Loss: 4.4983e-02 | Train MAE: 1.6824e-01 | Test Loss: 4.4875e-02 | Test MAE: 1.6798e-01 | Time Taken: 6m 13s > Checkpoint saved!\n",
      "Epoch 5: Train Loss: 4.4868e-02 | Train MAE: 1.6794e-01 | Test Loss: 4.4793e-02 | Test MAE: 1.6777e-01 | Time Taken: 6m 02s > Checkpoint saved!\n",
      "Epoch 6: Train Loss: 4.4806e-02 | Train MAE: 1.6778e-01 | Test Loss: 4.4747e-02 | Test MAE: 1.6764e-01 | Time Taken: 6m 06s > Checkpoint saved!\n",
      "Epoch 7: Train Loss: 4.4770e-02 | Train MAE: 1.6769e-01 | Test Loss: 4.4718e-02 | Test MAE: 1.6757e-01 | Time Taken: 6m 05s > Checkpoint saved!\n",
      "Epoch 8: Train Loss: 4.4743e-02 | Train MAE: 1.6763e-01 | Test Loss: 4.4697e-02 | Test MAE: 1.6753e-01 | Time Taken: 5m 59s > Checkpoint saved!\n",
      "Epoch 9: Train Loss: 4.4729e-02 | Train MAE: 1.6759e-01 | Test Loss: 4.4682e-02 | Test MAE: 1.6749e-01 | Time Taken: 6m 25s > Checkpoint saved!\n",
      "Epoch 10: Train Loss: 4.4714e-02 | Train MAE: 1.6756e-01 | Test Loss: 4.4668e-02 | Test MAE: 1.6746e-01 | Time Taken: 6m 08s > Checkpoint saved!\n",
      "Epoch 11: Train Loss: 4.4701e-02 | Train MAE: 1.6753e-01 | Test Loss: 4.4657e-02 | Test MAE: 1.6744e-01 | Time Taken: 6m 09s > Checkpoint saved!\n",
      "Epoch 12: Train Loss: 4.4690e-02 | Train MAE: 1.6751e-01 | Test Loss: 4.4647e-02 | Test MAE: 1.6742e-01 | Time Taken: 6m 11s > Checkpoint saved!\n",
      "Epoch 13: Train Loss: 4.4681e-02 | Train MAE: 1.6749e-01 | Test Loss: 4.4637e-02 | Test MAE: 1.6741e-01 | Time Taken: 6m 15s > Checkpoint saved!\n",
      "Epoch 14: Train Loss: 4.4671e-02 | Train MAE: 1.6748e-01 | Test Loss: 4.4629e-02 | Test MAE: 1.6739e-01 | Time Taken: 6m 18s > Checkpoint saved!\n",
      "Epoch 15: Train Loss: 4.4662e-02 | Train MAE: 1.6746e-01 | Test Loss: 4.4621e-02 | Test MAE: 1.6738e-01 | Time Taken: 6m 27s > Checkpoint saved!\n",
      "Epoch 16: Train Loss: 4.4655e-02 | Train MAE: 1.6745e-01 | Test Loss: 4.4613e-02 | Test MAE: 1.6737e-01 | Time Taken: 6m 23s > Checkpoint saved!\n",
      "Epoch 17: Train Loss: 4.4648e-02 | Train MAE: 1.6744e-01 | Test Loss: 4.4605e-02 | Test MAE: 1.6735e-01 | Time Taken: 6m 17s > Checkpoint saved!\n",
      "Epoch 18: Train Loss: 4.4642e-02 | Train MAE: 1.6743e-01 | Test Loss: 4.4599e-02 | Test MAE: 1.6734e-01 | Time Taken: 6m 05s > Checkpoint saved!\n",
      "Epoch 19: Train Loss: 4.4635e-02 | Train MAE: 1.6742e-01 | Test Loss: 4.4593e-02 | Test MAE: 1.6733e-01 | Time Taken: 6m 04s > Checkpoint saved!\n",
      "Epoch 20: Train Loss: 4.4628e-02 | Train MAE: 1.6741e-01 | Test Loss: 4.4587e-02 | Test MAE: 1.6732e-01 | Time Taken: 6m 01s > Checkpoint saved!\n"
     ]
    }
   ],
   "source": [
    "for epoch in range(1, EPOCHS + 1):\n",
    "    start_time = time.time()\n",
    "    train_loss, train_mae = train_model(\n",
    "        epoch, model, train_loader, loss_fn, optimizer, DEVICE\n",
    "    )\n",
    "    test_loss, test_mae = test_model(epoch, model, test_loader, loss_fn, DEVICE)\n",
    "    time_taken = time.time() - start_time\n",
    "    logging(epoch, train_loss, train_mae, test_loss, test_mae, time_taken)\n",
    "    if test_loss < best_val_loss:\n",
    "        best_val_loss = test_loss\n",
    "        torch.save(model.state_dict(), \"model.pth\")\n",
    "        print(\"> Checkpoint saved!\")\n",
    "    else:\n",
    "        print()"
   ]
  },
  {
   "cell_type": "code",
   "execution_count": 17,
   "metadata": {},
   "outputs": [
    {
     "data": {
      "application/vnd.jupyter.widget-view+json": {
       "model_id": "b6a0a539641040abb50a7c3ac406d7b3",
       "version_major": 2,
       "version_minor": 0
      },
      "text/plain": [
       "VBox(children=(Label(value='0.025 MB of 0.025 MB uploaded\\r'), FloatProgress(value=1.0, max=1.0)))"
      ]
     },
     "metadata": {},
     "output_type": "display_data"
    },
    {
     "data": {
      "text/html": [
       "<style>\n",
       "    table.wandb td:nth-child(1) { padding: 0 10px; text-align: left ; width: auto;} td:nth-child(2) {text-align: left ; width: 100%}\n",
       "    .wandb-row { display: flex; flex-direction: row; flex-wrap: wrap; justify-content: flex-start; width: 100% }\n",
       "    .wandb-col { display: flex; flex-direction: column; flex-basis: 100%; flex: 1; padding: 10px; }\n",
       "    </style>\n",
       "<div class=\"wandb-row\"><div class=\"wandb-col\"><h3>Run history:</h3><br/><table class=\"wandb\"><tr><td>epoch</td><td>▁▁▂▂▂▃▃▄▄▄▅▅▅▆▆▇▇▇██</td></tr><tr><td>test_loss</td><td>█▄▃▂▂▂▁▁▁▁▁▁▁▁▁▁▁▁▁▁</td></tr><tr><td>test_mae</td><td>█▅▃▂▂▂▁▁▁▁▁▁▁▁▁▁▁▁▁▁</td></tr><tr><td>train_loss</td><td>█▂▁▁▁▁▁▁▁▁▁▁▁▁▁▁▁▁▁▁</td></tr><tr><td>train_mae</td><td>█▂▁▁▁▁▁▁▁▁▁▁▁▁▁▁▁▁▁▁</td></tr></table><br/></div><div class=\"wandb-col\"><h3>Run summary:</h3><br/><table class=\"wandb\"><tr><td>epoch</td><td>20</td></tr><tr><td>test_loss</td><td>0.04459</td></tr><tr><td>test_mae</td><td>0.16732</td></tr><tr><td>train_loss</td><td>0.04463</td></tr><tr><td>train_mae</td><td>0.16741</td></tr></table><br/></div></div>"
      ],
      "text/plain": [
       "<IPython.core.display.HTML object>"
      ]
     },
     "metadata": {},
     "output_type": "display_data"
    },
    {
     "data": {
      "text/html": [
       " View run <strong style=\"color:#cdcd00\">upbeat-smoke-31</strong> at: <a href='https://wandb.ai/dat-tht225482-hust/movie-recommendation-models/runs/pllgofva' target=\"_blank\">https://wandb.ai/dat-tht225482-hust/movie-recommendation-models/runs/pllgofva</a><br/> View project at: <a href='https://wandb.ai/dat-tht225482-hust/movie-recommendation-models' target=\"_blank\">https://wandb.ai/dat-tht225482-hust/movie-recommendation-models</a><br/>Synced 5 W&B file(s), 0 media file(s), 2 artifact file(s) and 0 other file(s)"
      ],
      "text/plain": [
       "<IPython.core.display.HTML object>"
      ]
     },
     "metadata": {},
     "output_type": "display_data"
    },
    {
     "data": {
      "text/html": [
       "Find logs at: <code>./wandb/run-20241207_094608-pllgofva/logs</code>"
      ],
      "text/plain": [
       "<IPython.core.display.HTML object>"
      ]
     },
     "metadata": {},
     "output_type": "display_data"
    }
   ],
   "source": [
    "wandb.finish()"
   ]
  },
  {
   "cell_type": "markdown",
   "metadata": {},
   "source": [
    "## Get recommendation"
   ]
  },
  {
   "cell_type": "code",
   "execution_count": 23,
   "metadata": {},
   "outputs": [
    {
     "data": {
      "text/plain": [
       "<All keys matched successfully>"
      ]
     },
     "execution_count": 23,
     "metadata": {},
     "output_type": "execute_result"
    }
   ],
   "source": [
    "movies = pd.read_csv(\"./database/merged/metadatas.csv\")\n",
    "full_mapper = Mapper.load(f\"./database/merged/mapper.pkl\")\n",
    "model = EmbededHybridNet(NUM_USER, genres, titles_and_plots, directors_and_casts).to(DEVICE)\n",
    "# model.load_state_dict(torch.load(\"./models/hybrid/embeded_hybrid.pth\"))\n",
    "model.load_state_dict(torch.load(\"./model.pth\"))"
   ]
  },
  {
   "cell_type": "code",
   "execution_count": 24,
   "metadata": {},
   "outputs": [],
   "source": [
    "def get_recommendation(user, model: nn.Module, top: int = 10):\n",
    "    user_idx = int(full_mapper.user_fwd_map[user])\n",
    "    num_items = len(full_mapper.item_fwd_map)\n",
    "    users = torch.tensor([user_idx] * num_items, dtype=torch.int64, device=DEVICE)\n",
    "    movies = torch.tensor(range(num_items), dtype=torch.int64, device=DEVICE)\n",
    "    model.eval()\n",
    "    with torch.no_grad():\n",
    "        ratings: torch.Tensor = model(users, movies)\n",
    "    ratings = [\n",
    "        (full_mapper.item_inv_map[i], float(r.item()))\n",
    "        for i, r in zip(range(num_items), ratings.to(\"cpu\"))\n",
    "    ]\n",
    "    ratings = sorted(ratings, key=lambda x: x[1], reverse=True)[:top]\n",
    "    return ratings"
   ]
  },
  {
   "cell_type": "code",
   "execution_count": 25,
   "metadata": {},
   "outputs": [
    {
     "data": {
      "text/html": [
       "<div>\n",
       "<style scoped>\n",
       "    .dataframe tbody tr th:only-of-type {\n",
       "        vertical-align: middle;\n",
       "    }\n",
       "\n",
       "    .dataframe tbody tr th {\n",
       "        vertical-align: top;\n",
       "    }\n",
       "\n",
       "    .dataframe thead th {\n",
       "        text-align: right;\n",
       "    }\n",
       "</style>\n",
       "<table border=\"1\" class=\"dataframe\">\n",
       "  <thead>\n",
       "    <tr style=\"text-align: right;\">\n",
       "      <th></th>\n",
       "      <th>Title</th>\n",
       "      <th>MovieID</th>\n",
       "      <th>Rating</th>\n",
       "    </tr>\n",
       "  </thead>\n",
       "  <tbody>\n",
       "    <tr>\n",
       "      <th>23</th>\n",
       "      <td>War of the Worlds (2005)</td>\n",
       "      <td>34048</td>\n",
       "      <td>4.5</td>\n",
       "    </tr>\n",
       "    <tr>\n",
       "      <th>49</th>\n",
       "      <td>The Revenant (2015)</td>\n",
       "      <td>139385</td>\n",
       "      <td>5.0</td>\n",
       "    </tr>\n",
       "    <tr>\n",
       "      <th>41</th>\n",
       "      <td>Double, The (2013)</td>\n",
       "      <td>105835</td>\n",
       "      <td>5.0</td>\n",
       "    </tr>\n",
       "    <tr>\n",
       "      <th>27</th>\n",
       "      <td>Children of Men (2006)</td>\n",
       "      <td>48774</td>\n",
       "      <td>5.0</td>\n",
       "    </tr>\n",
       "    <tr>\n",
       "      <th>15</th>\n",
       "      <td>Amelie (Fabuleux destin d'Amélie Poulain, Le) ...</td>\n",
       "      <td>4973</td>\n",
       "      <td>5.0</td>\n",
       "    </tr>\n",
       "    <tr>\n",
       "      <th>32</th>\n",
       "      <td>Coraline (2009)</td>\n",
       "      <td>66097</td>\n",
       "      <td>5.0</td>\n",
       "    </tr>\n",
       "    <tr>\n",
       "      <th>50</th>\n",
       "      <td>Arrival (2016)</td>\n",
       "      <td>164179</td>\n",
       "      <td>5.0</td>\n",
       "    </tr>\n",
       "    <tr>\n",
       "      <th>56</th>\n",
       "      <td>The Ballad of Buster Scruggs (2018)</td>\n",
       "      <td>193944</td>\n",
       "      <td>4.5</td>\n",
       "    </tr>\n",
       "    <tr>\n",
       "      <th>48</th>\n",
       "      <td>Mad Max: Fury Road (2015)</td>\n",
       "      <td>122882</td>\n",
       "      <td>5.0</td>\n",
       "    </tr>\n",
       "    <tr>\n",
       "      <th>2</th>\n",
       "      <td>Star Wars: Episode V - The Empire Strikes Back...</td>\n",
       "      <td>1196</td>\n",
       "      <td>5.0</td>\n",
       "    </tr>\n",
       "  </tbody>\n",
       "</table>\n",
       "</div>"
      ],
      "text/plain": [
       "                                                Title  MovieID  Rating\n",
       "23                           War of the Worlds (2005)    34048     4.5\n",
       "49                                The Revenant (2015)   139385     5.0\n",
       "41                                 Double, The (2013)   105835     5.0\n",
       "27                             Children of Men (2006)    48774     5.0\n",
       "15  Amelie (Fabuleux destin d'Amélie Poulain, Le) ...     4973     5.0\n",
       "32                                    Coraline (2009)    66097     5.0\n",
       "50                                     Arrival (2016)   164179     5.0\n",
       "56                The Ballad of Buster Scruggs (2018)   193944     4.5\n",
       "48                          Mad Max: Fury Road (2015)   122882     5.0\n",
       "2   Star Wars: Episode V - The Empire Strikes Back...     1196     5.0"
      ]
     },
     "execution_count": 25,
     "metadata": {},
     "output_type": "execute_result"
    }
   ],
   "source": [
    "user_id = 10242\n",
    "user_rated = data.dataset[data.dataset[\"UserID\"] == user_id]\n",
    "user_rated = pd.merge(movies[[\"MovieID\", \"Title\"]], user_rated, on=\"MovieID\", how=\"right\")\n",
    "user_rated = user_rated.sort_values(by=\"Rating\", ascending=False)\n",
    "user_rated = user_rated.reindex(columns=[\"Title\", \"MovieID\", \"Rating\"])\n",
    "user_rated.sample(10)"
   ]
  },
  {
   "cell_type": "code",
   "execution_count": 26,
   "metadata": {},
   "outputs": [
    {
     "name": "stdout",
     "output_type": "stream",
     "text": [
      "26662 Kiki's Delivery Service (Majo no takkyûbin) (1989) 0.7105634808540344\n",
      "2138 Watership Down (1978) 0.7100299000740051\n",
      "76093 How to Train Your Dragon (2010) 0.7099891901016235\n",
      "68954 Up (2009) 0.7094910740852356\n",
      "5038 Flight of Dragons, The (1982) 0.7093707919120789\n",
      "5971 My Neighbor Totoro (Tonari no Totoro) (1988) 0.7093394994735718\n",
      "98243 Rise of the Guardians (2012) 0.7092991471290588\n",
      "71745 Where the Wild Things Are (2009) 0.7092979550361633\n",
      "364 Lion King, The (1994) 0.7090964913368225\n",
      "62729 Niko & the Way to the Stars (a.k.a. The Flight Before Christmas) (Niko - Lentäjän poika) (2008) 0.7090679407119751\n"
     ]
    }
   ],
   "source": [
    "for m_id, rate in get_recommendation(user_id, model):\n",
    "    print(m_id, movies[movies[\"MovieID\"] == m_id][\"Title\"].values[0], rate)"
   ]
  }
 ],
 "metadata": {
  "kernelspec": {
   "display_name": "vocalopy",
   "language": "python",
   "name": "python3"
  },
  "language_info": {
   "codemirror_mode": {
    "name": "ipython",
    "version": 3
   },
   "file_extension": ".py",
   "mimetype": "text/x-python",
   "name": "python",
   "nbconvert_exporter": "python",
   "pygments_lexer": "ipython3",
   "version": "3.12.2"
  }
 },
 "nbformat": 4,
 "nbformat_minor": 2
}
