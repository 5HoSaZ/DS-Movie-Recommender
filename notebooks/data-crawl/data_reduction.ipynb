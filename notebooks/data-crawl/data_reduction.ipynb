{
 "cells": [
  {
   "cell_type": "markdown",
   "metadata": {},
   "source": [
    "# Data Reduction"
   ]
  },
  {
   "cell_type": "code",
   "execution_count": 1,
   "metadata": {},
   "outputs": [],
   "source": [
    "import pandas as pd\n",
    "import numpy as np"
   ]
  },
  {
   "cell_type": "code",
   "execution_count": 2,
   "metadata": {},
   "outputs": [],
   "source": [
    "def print_data_count(ratings: pd.DataFrame):\n",
    "    s = [\"user\", \"movie\"]\n",
    "    for i, t in enumerate([\"UserID\", \"MovieID\"]):\n",
    "        group = ratings[[t, \"Rating\"]].groupby([t])\n",
    "        movie_count = group.count().values\n",
    "        print(f\"Each {s[i]} rated from {movie_count.min()}-{movie_count.max()} {s[1-i]}s.\")"
   ]
  },
  {
   "cell_type": "markdown",
   "metadata": {},
   "source": [
    "### Full Rating Dataset"
   ]
  },
  {
   "cell_type": "code",
   "execution_count": 3,
   "metadata": {},
   "outputs": [
    {
     "name": "stdout",
     "output_type": "stream",
     "text": [
      "Each user rated from 20-33332 movies.\n",
      "Each movie rated from 1-102929 users.\n"
     ]
    }
   ],
   "source": [
    "SOURCE_FILE = \"../database/merged/full/ratings.csv\"\n",
    "ratings = pd.read_csv(SOURCE_FILE)\n",
    "print_data_count(ratings)"
   ]
  },
  {
   "cell_type": "markdown",
   "metadata": {},
   "source": [
    "### Reduced Rating Dataset"
   ]
  },
  {
   "cell_type": "code",
   "execution_count": 4,
   "metadata": {},
   "outputs": [],
   "source": [
    "import os, sys\n",
    "sys.path.append(os.path.abspath(\"..\"))\n",
    "from utility import Mapper, prune_bigraph\n",
    "\n",
    "TARGET_FILE = \"../database/merged/small/ratings.csv\"\n",
    "SOURCE_MAPPER_FILE = \"../database/merged/full/pydata/mapper.pkl\"\n",
    "TARGET_MAPPER_FILE = \"../database/merged/small/pydata/mapper.pkl\"\n",
    "\n",
    "user_items = ratings.drop(columns=\"Rating\")\n",
    "ui_matrix = user_items.to_numpy()\n",
    "ui_mapper = Mapper(ui_matrix)"
   ]
  },
  {
   "cell_type": "code",
   "execution_count": 5,
   "metadata": {},
   "outputs": [
    {
     "name": "stdout",
     "output_type": "stream",
     "text": [
      "Loading mapper...\n",
      "Done\n"
     ]
    }
   ],
   "source": [
    "user_items = ratings.drop(columns=\"Rating\").to_numpy()\n",
    "mapper: Mapper = None\n",
    "if not os.path.isfile(SOURCE_MAPPER_FILE):\n",
    "    print(\"Creating mapper...\")\n",
    "    mapper = Mapper(user_items)\n",
    "    mapper.save(SOURCE_MAPPER_FILE)\n",
    "else:\n",
    "    print(\"Loading mapper...\")\n",
    "    mapper = Mapper.load(SOURCE_MAPPER_FILE)\n",
    "print(\"Done\")"
   ]
  },
  {
   "cell_type": "code",
   "execution_count": 6,
   "metadata": {},
   "outputs": [],
   "source": [
    "# Guarantee each user rated at least 20 movies\n",
    "user_threshold = 20\n",
    "# Guarantee each movie is rated by at least 20 users\n",
    "item_threshold = 20"
   ]
  },
  {
   "cell_type": "code",
   "execution_count": null,
   "metadata": {},
   "outputs": [
    {
     "name": "stdout",
     "output_type": "stream",
     "text": [
      "Mapping...\n"
     ]
    }
   ],
   "source": [
    "users = user_items[:, 0]\n",
    "items = user_items[:, 1]\n",
    "num_user, num_item = len(np.unique(users)), len(np.unique(items))\n",
    "print(\"Mapping...\")\n",
    "users = iter([mapper.user_fwd_map[int(u)] for u in users])\n",
    "items = iter([mapper.item_fwd_map[int(i)] for i in items])\n",
    "print(\"Start bigraph pruning...\")\n",
    "valid_users, valid_items = prune_bigraph(\n",
    "    a=users,\n",
    "    b=items,\n",
    "    counts=(num_user, num_item),\n",
    "    thresholds=(user_threshold, item_threshold),\n",
    ")\n",
    "print(\"Inverse Mapping...\")\n",
    "valid_users = [mapper.user_inv_map[u] for u in valid_users]\n",
    "valid_items = [mapper.item_inv_map[i] for i in valid_items]\n",
    "print(\"Reducing...\")\n",
    "reduced_ratings = ratings[\n",
    "    (ratings[\"UserID\"].isin(valid_users)) & (ratings[\"MovieID\"].isin(valid_items))\n",
    "]\n",
    "print(\"Saving...\")\n",
    "reduced_ratings.to_csv(TARGET_FILE, index=False)\n",
    "mapper = Mapper(reduced_ratings.drop(columns=\"Rating\").to_numpy())\n",
    "mapper.save(TARGET_MAPPER_FILE)\n",
    "print(\"Done\")"
   ]
  },
  {
   "cell_type": "code",
   "execution_count": null,
   "metadata": {},
   "outputs": [],
   "source": [
    "print_data_count(reduced_ratings)"
   ]
  }
 ],
 "metadata": {
  "kernelspec": {
   "display_name": "walapy",
   "language": "python",
   "name": "python3"
  },
  "language_info": {
   "codemirror_mode": {
    "name": "ipython",
    "version": 3
   },
   "file_extension": ".py",
   "mimetype": "text/x-python",
   "name": "python",
   "nbconvert_exporter": "python",
   "pygments_lexer": "ipython3",
   "version": "3.12.2"
  }
 },
 "nbformat": 4,
 "nbformat_minor": 2
}
