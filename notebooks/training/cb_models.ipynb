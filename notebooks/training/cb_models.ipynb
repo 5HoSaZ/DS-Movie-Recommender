{
 "cells": [
  {
   "cell_type": "code",
   "execution_count": 1,
   "metadata": {},
   "outputs": [],
   "source": [
    "import torch\n",
    "import torch.nn as nn\n",
    "import pandas as pd\n",
    "import numpy as np\n",
    "from ast import literal_eval"
   ]
  },
  {
   "cell_type": "code",
   "execution_count": 2,
   "metadata": {},
   "outputs": [],
   "source": [
    "from models.cb.vectstem import TFIDVectAndStem\n",
    "from utility import Mapper"
   ]
  },
  {
   "cell_type": "markdown",
   "metadata": {},
   "source": [
    "## Import Dataset"
   ]
  },
  {
   "cell_type": "code",
   "execution_count": 3,
   "metadata": {},
   "outputs": [],
   "source": [
    "metadatas = pd.read_csv(\"./database/merged/metadatas.csv\")\n",
    "mapper = Mapper.load(f\"./database/merged/mapper.pkl\")\n",
    "movie_ratings = pd.read_csv(\"./database/merged/global_ratings.csv\")\n",
    "movies = pd.merge(metadatas, movie_ratings, on=\"MovieID\")\n",
    "movies[\"ReleaseDate\"] = pd.to_datetime(movies[\"ReleaseDate\"])\n",
    "movies[\"Runtime\"] = pd.to_timedelta(movies[\"Runtime\"])\n",
    "movies[\"Runtime\"] = movies[\"Runtime\"] / pd.Timedelta(hours=1)\n",
    "movies[\"Genres\"] = movies[\"Genres\"].apply(lambda x: literal_eval(x))\n",
    "movies[\"Directors\"] = movies[\"Directors\"].apply(lambda x: literal_eval(x))\n",
    "movies[\"Cast\"] = movies[\"Cast\"].apply(lambda x: literal_eval(x))\n",
    "movies[\"OriginCountries\"] = movies[\"OriginCountries\"].apply(lambda x: literal_eval(x))\n",
    "movies[\"Plot\"] = movies[\"Plot\"].fillna(\"\")\n",
    "movies[\"Index\"] = movies[\"MovieID\"].apply(lambda m: mapper.item_fwd_map[m])\n",
    "movies = movies.sort_values(by=\"Index\").reset_index(drop=True).drop(columns=\"Index\")"
   ]
  },
  {
   "cell_type": "code",
   "execution_count": 40,
   "metadata": {},
   "outputs": [
    {
     "data": {
      "text/html": [
       "<div>\n",
       "<style scoped>\n",
       "    .dataframe tbody tr th:only-of-type {\n",
       "        vertical-align: middle;\n",
       "    }\n",
       "\n",
       "    .dataframe tbody tr th {\n",
       "        vertical-align: top;\n",
       "    }\n",
       "\n",
       "    .dataframe thead th {\n",
       "        text-align: right;\n",
       "    }\n",
       "</style>\n",
       "<table border=\"1\" class=\"dataframe\">\n",
       "  <thead>\n",
       "    <tr style=\"text-align: right;\">\n",
       "      <th></th>\n",
       "      <th>MovieID</th>\n",
       "      <th>Title</th>\n",
       "      <th>Runtime</th>\n",
       "      <th>ReleaseDate</th>\n",
       "      <th>Genres</th>\n",
       "      <th>Directors</th>\n",
       "      <th>Cast</th>\n",
       "      <th>OriginCountries</th>\n",
       "      <th>Languages</th>\n",
       "      <th>Plot</th>\n",
       "      <th>AverageRating</th>\n",
       "      <th>VoteCount</th>\n",
       "    </tr>\n",
       "  </thead>\n",
       "  <tbody>\n",
       "    <tr>\n",
       "      <th>0</th>\n",
       "      <td>1</td>\n",
       "      <td>Toy Story (1995)</td>\n",
       "      <td>1.350000</td>\n",
       "      <td>1995-10-30</td>\n",
       "      <td>[Adventure, Animation, Children, Comedy, Fantasy]</td>\n",
       "      <td>[John Lasseter]</td>\n",
       "      <td>[Tom Hanks, Tim Allen, Don Rickles, Jim Varney...</td>\n",
       "      <td>[United States]</td>\n",
       "      <td>['English']</td>\n",
       "      <td>A cowboy doll is profoundly threatened and jea...</td>\n",
       "      <td>4.134552</td>\n",
       "      <td>1187323.0</td>\n",
       "    </tr>\n",
       "    <tr>\n",
       "      <th>1</th>\n",
       "      <td>2</td>\n",
       "      <td>Jumanji (1995)</td>\n",
       "      <td>1.733333</td>\n",
       "      <td>1995-12-15</td>\n",
       "      <td>[Adventure, Children, Fantasy]</td>\n",
       "      <td>[Joe Johnston]</td>\n",
       "      <td>[Robin Williams, Kirsten Dunst, Bonnie Hunt, J...</td>\n",
       "      <td>[United States]</td>\n",
       "      <td>['English', 'French']</td>\n",
       "      <td>When two kids find and play a magical board ga...</td>\n",
       "      <td>3.536073</td>\n",
       "      <td>426370.0</td>\n",
       "    </tr>\n",
       "    <tr>\n",
       "      <th>2</th>\n",
       "      <td>3</td>\n",
       "      <td>Grumpier Old Men (1995)</td>\n",
       "      <td>1.683333</td>\n",
       "      <td>1995-12-22</td>\n",
       "      <td>[Comedy, Romance]</td>\n",
       "      <td>[Howard Deutch]</td>\n",
       "      <td>[Walter Matthau, Jack Lemmon, Ann-Margret, Sop...</td>\n",
       "      <td>[United States]</td>\n",
       "      <td>['English', 'Italian', 'German']</td>\n",
       "      <td>John and Max resolve to save their beloved bai...</td>\n",
       "      <td>3.287087</td>\n",
       "      <td>43509.0</td>\n",
       "    </tr>\n",
       "  </tbody>\n",
       "</table>\n",
       "</div>"
      ],
      "text/plain": [
       "   MovieID                    Title   Runtime ReleaseDate  \\\n",
       "0        1         Toy Story (1995)  1.350000  1995-10-30   \n",
       "1        2           Jumanji (1995)  1.733333  1995-12-15   \n",
       "2        3  Grumpier Old Men (1995)  1.683333  1995-12-22   \n",
       "\n",
       "                                              Genres        Directors  \\\n",
       "0  [Adventure, Animation, Children, Comedy, Fantasy]  [John Lasseter]   \n",
       "1                     [Adventure, Children, Fantasy]   [Joe Johnston]   \n",
       "2                                  [Comedy, Romance]  [Howard Deutch]   \n",
       "\n",
       "                                                Cast  OriginCountries  \\\n",
       "0  [Tom Hanks, Tim Allen, Don Rickles, Jim Varney...  [United States]   \n",
       "1  [Robin Williams, Kirsten Dunst, Bonnie Hunt, J...  [United States]   \n",
       "2  [Walter Matthau, Jack Lemmon, Ann-Margret, Sop...  [United States]   \n",
       "\n",
       "                          Languages  \\\n",
       "0                       ['English']   \n",
       "1             ['English', 'French']   \n",
       "2  ['English', 'Italian', 'German']   \n",
       "\n",
       "                                                Plot  AverageRating  VoteCount  \n",
       "0  A cowboy doll is profoundly threatened and jea...       4.134552  1187323.0  \n",
       "1  When two kids find and play a magical board ga...       3.536073   426370.0  \n",
       "2  John and Max resolve to save their beloved bai...       3.287087    43509.0  "
      ]
     },
     "execution_count": 40,
     "metadata": {},
     "output_type": "execute_result"
    }
   ],
   "source": [
    "movies.head(3)"
   ]
  },
  {
   "cell_type": "markdown",
   "metadata": {},
   "source": [
    "## TFIDVectorizer + Stemmer"
   ]
  },
  {
   "cell_type": "markdown",
   "metadata": {},
   "source": [
    "### Utility"
   ]
  },
  {
   "cell_type": "code",
   "execution_count": 4,
   "metadata": {},
   "outputs": [],
   "source": [
    "def repeat_text(text: str, time: int):\n",
    "    result = text\n",
    "    for _ in range(time - 1):\n",
    "        result += \" \" + text\n",
    "    return result\n",
    "\n",
    "def merge_text(l_text_1, l_text_2, weights=(1, 1)):\n",
    "    result = []\n",
    "    for title, plot in zip(l_text_1, l_text_2):\n",
    "        title = repeat_text(str(title), weights[0])\n",
    "        l_text_2 = repeat_text(str(plot), weights[1])\n",
    "        result.append(title + \" \" + l_text_2)\n",
    "    return result\n",
    "\n",
    "\n",
    "def get_recommendation(movie, mapper: Mapper, tf_mat: torch.Tensor, top: int = 10):\n",
    "    movie_idx = mapper.item_fwd_map[movie]\n",
    "    movie_vect = tf_mat[movie_idx].unsqueeze(0)\n",
    "    values, indices = torch.nn.CosineSimilarity()(movie_vect, tf_mat).sort()\n",
    "    indices, values = (\n",
    "        [\n",
    "            mapper.item_inv_map[int(i)]\n",
    "            for i in reversed(indices[indices != movie_idx][-top:])\n",
    "        ],\n",
    "        [float(s) for s in reversed(values[indices != movie_idx][-top:])],\n",
    "    )\n",
    "    return indices, values"
   ]
  },
  {
   "cell_type": "markdown",
   "metadata": {},
   "source": [
    "### On genres and ratings"
   ]
  },
  {
   "cell_type": "markdown",
   "metadata": {},
   "source": [
    "Ratings"
   ]
  },
  {
   "cell_type": "code",
   "execution_count": 9,
   "metadata": {},
   "outputs": [],
   "source": [
    "R_bar = movies[\"AverageRating\"].mean()\n",
    "c = movies[\"VoteCount\"].quantile(0.95)\n",
    "def average_rating(row):\n",
    "    R = row[\"AverageRating\"]\n",
    "    v = row[\"VoteCount\"]\n",
    "    return (v * R + c * R_bar) / (v + c)\n",
    "weighted = movies.apply(average_rating, axis=1)\n",
    "weighted_max = weighted.max()\n",
    "weighted_min = weighted.min()\n",
    "weighted_range = weighted_max - weighted_min\n",
    "normalized = (weighted - weighted_min) / weighted_range"
   ]
  },
  {
   "cell_type": "markdown",
   "metadata": {},
   "source": [
    "Genres"
   ]
  },
  {
   "cell_type": "code",
   "execution_count": 15,
   "metadata": {},
   "outputs": [],
   "source": [
    "movies_genres = (\n",
    "    movies[[\"MovieID\", \"Genres\"]].explode(column=\"Genres\")\n",
    "    .groupby(\"Genres\").count().drop(\"(no genres listed)\")\n",
    ")\n",
    "movies_genres_mapper = {genre: i for i, genre in enumerate(movies_genres.index)}"
   ]
  },
  {
   "cell_type": "code",
   "execution_count": 28,
   "metadata": {},
   "outputs": [],
   "source": [
    "def one_hot_genres_encode(entries, weights=None):\n",
    "    result = []\n",
    "    if weights is None:\n",
    "        weights = [1.0] * len(entries)\n",
    "    for genres, w in zip(entries, weights):\n",
    "        genres_vect = [0.0] * len(movies_genres_mapper)\n",
    "        for g in genres:\n",
    "            if g == \"(no genres listed)\":\n",
    "                continue\n",
    "            genres_vect[movies_genres_mapper[g]] = 1.0\n",
    "        genres_vect = [w] + genres_vect\n",
    "        result.append(genres_vect)\n",
    "    return torch.FloatTensor(result)"
   ]
  },
  {
   "cell_type": "code",
   "execution_count": 29,
   "metadata": {},
   "outputs": [
    {
     "data": {
      "text/plain": [
       "torch.Size([87585, 20])"
      ]
     },
     "execution_count": 29,
     "metadata": {},
     "output_type": "execute_result"
    }
   ],
   "source": [
    "tf_genres_mat = one_hot_genres_encode(movies[\"Genres\"], normalized)\n",
    "torch.save(tf_genres_mat, \"./models/cb/genres_with_ratings.pt\")\n",
    "tf_genres_mat.shape"
   ]
  },
  {
   "cell_type": "code",
   "execution_count": 38,
   "metadata": {},
   "outputs": [
    {
     "name": "stdout",
     "output_type": "stream",
     "text": [
      "Recommendation for Puss in Boots: The Last Wish (2022)\n",
      "166461 Moana (2016) 0.9999973773956299\n",
      "3114 Toy Story 2 (1999) 0.9998486638069153\n",
      "4016 Emperor's New Groove, The (2000) 0.9998302459716797\n",
      "247988 Luca (2021) 0.9998108744621277\n",
      "225173 Soul (2020) 0.9998044967651367\n",
      "213207 Onward (2020) 0.9997608661651611\n",
      "4886 Monsters, Inc. (2001) 0.9995051622390747\n",
      "286131 The Super Mario Bros. Movie (2023) 0.9992679357528687\n",
      "1 Toy Story (1995) 0.9990704655647278\n",
      "206959 Frozen II (2019) 0.9987330436706543\n"
     ]
    }
   ],
   "source": [
    "movie_id = 281096\n",
    "print(\"Recommendation for\", movies[movies[\"MovieID\"] == movie_id][\"Title\"].values[0])\n",
    "for m_id, sim in zip(*get_recommendation(movie_id, mapper, tf_genres_mat, 10)):\n",
    "    print(m_id, movies[movies[\"MovieID\"] == m_id][\"Title\"].values[0], sim)"
   ]
  },
  {
   "cell_type": "markdown",
   "metadata": {},
   "source": [
    "### On title and plot"
   ]
  },
  {
   "cell_type": "code",
   "execution_count": 41,
   "metadata": {},
   "outputs": [
    {
     "data": {
      "text/plain": [
       "torch.Size([87585, 702])"
      ]
     },
     "execution_count": 41,
     "metadata": {},
     "output_type": "execute_result"
    }
   ],
   "source": [
    "titles_and_plots = merge_text(movies[\"Title\"], movies[\"Plot\"], (1, 1))\n",
    "vectstem = TFIDVectAndStem(0.005, 1.0)\n",
    "vectstem.fit(titles_and_plots)\n",
    "tf_plot_mat = vectstem(titles_and_plots)\n",
    "torch.save(tf_plot_mat, \"./models/cb/titles_and_plots.pt\")\n",
    "tf_plot_mat.shape"
   ]
  },
  {
   "cell_type": "code",
   "execution_count": 42,
   "metadata": {},
   "outputs": [
    {
     "name": "stdout",
     "output_type": "stream",
     "text": [
      "Recommendation for Soul (2020)\n",
      "120410 From Above (2013) 0.4838382303714752\n",
      "275795 Why We Ride (2013) 0.47731947898864746\n",
      "213894 Hungry Soul, Part II (1956) 0.4502737820148468\n",
      "182973 Güneşin Oğlu (2008) 0.44501250982284546\n",
      "209159 Window of the Soul (2001) 0.43867963552474976\n",
      "182209 Cannibal Capers (1930) 0.42764735221862793\n",
      "189617 Soul Food Junkies (2012) 0.41078197956085205\n",
      "188059 Kashtanka (1952) 0.41040924191474915\n",
      "170111 The Puppet Syndrome (2015) 0.40646958351135254\n",
      "279288 The Swearing Jar (2022) 0.38764044642448425\n"
     ]
    }
   ],
   "source": [
    "movie_id = 225173\n",
    "print(\"Recommendation for\", movies[movies[\"MovieID\"] == movie_id][\"Title\"].values[0])\n",
    "for m_id, sim in zip(*get_recommendation(movie_id, mapper, tf_plot_mat, 10)):\n",
    "    print(m_id, movies[movies[\"MovieID\"] == m_id][\"Title\"].values[0], sim)"
   ]
  },
  {
   "cell_type": "markdown",
   "metadata": {},
   "source": [
    "### On directors and cast"
   ]
  },
  {
   "cell_type": "markdown",
   "metadata": {},
   "source": [
    "Mention directors 2 times and only the first 5 (or less) members in cast"
   ]
  },
  {
   "cell_type": "code",
   "execution_count": 39,
   "metadata": {},
   "outputs": [
    {
     "data": {
      "text/plain": [
       "torch.Size([87585, 485])"
      ]
     },
     "execution_count": 39,
     "metadata": {},
     "output_type": "execute_result"
    }
   ],
   "source": [
    "directors = movies[\"Directors\"].apply(lambda x: \" \".join(x))\n",
    "cast = movies[\"Cast\"].apply(lambda x: \" \".join(x[:10]))\n",
    "directors_and_cast = merge_text(directors, cast, (2, 1))\n",
    "vectstem = TFIDVectAndStem(0.005, 1.0)\n",
    "vectstem.fit(directors_and_cast)\n",
    "tf_dircast_mat = vectstem(directors_and_cast)\n",
    "torch.save(tf_dircast_mat, \"./models/cb/directors_and_cast.pt\")\n",
    "tf_dircast_mat.shape"
   ]
  },
  {
   "cell_type": "code",
   "execution_count": 40,
   "metadata": {},
   "outputs": [
    {
     "name": "stdout",
     "output_type": "stream",
     "text": [
      "Recommendation for Toy Story (1995)\n"
     ]
    },
    {
     "name": "stdout",
     "output_type": "stream",
     "text": [
      "3114 Toy Story 2 (1999) 0.7406386137008667\n",
      "78499 Toy Story 3 (2010) 0.6615656018257141\n",
      "169318 Theo Von: No Offense (2016) 0.5818730592727661\n",
      "123200 Jim Jefferies: I Swear to God (2009) 0.5722253322601318\n",
      "168474 Ukonvaaja (2016) 0.5556421279907227\n",
      "281708 Come Back Anytime (2021) 0.5556421279907227\n",
      "169552 Ralphie May: Unruly (2015) 0.5556421279907227\n",
      "95856 Knick Knack (1989) 0.5556421279907227\n",
      "169648 John Pinette: I'm Starvin'! (2007) 0.5556421279907227\n",
      "170159 The Bridge on the River Kwai: An Appreciation by Filmmaker John Milius (2000) 0.5556421279907227\n"
     ]
    }
   ],
   "source": [
    "movie_id = 1\n",
    "print(\"Recommendation for\", movies[movies[\"MovieID\"] == movie_id][\"Title\"].values[0])\n",
    "for m_id, sim in zip(*get_recommendation(movie_id, mapper, tf_dircast_mat, 10)):\n",
    "    print(m_id, movies[movies[\"MovieID\"] == m_id][\"Title\"].values[0], sim)"
   ]
  }
 ],
 "metadata": {
  "kernelspec": {
   "display_name": "vocalopy",
   "language": "python",
   "name": "python3"
  },
  "language_info": {
   "codemirror_mode": {
    "name": "ipython",
    "version": 3
   },
   "file_extension": ".py",
   "mimetype": "text/x-python",
   "name": "python",
   "nbconvert_exporter": "python",
   "pygments_lexer": "ipython3",
   "version": "3.12.2"
  }
 },
 "nbformat": 4,
 "nbformat_minor": 2
}
