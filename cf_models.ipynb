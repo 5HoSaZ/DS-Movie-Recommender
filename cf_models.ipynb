{
 "cells": [
  {
   "cell_type": "code",
   "execution_count": 1,
   "metadata": {},
   "outputs": [
    {
     "name": "stdout",
     "output_type": "stream",
     "text": [
      "Using cuda\n"
     ]
    }
   ],
   "source": [
    "import torch\n",
    "import torch.nn as nn\n",
    "import torch.nn.functional as F\n",
    "import torch.optim as optim\n",
    "from torch.utils.data import DataLoader\n",
    "from torchsummary import summary\n",
    "\n",
    "import time\n",
    "import wandb\n",
    "import pandas as pd\n",
    "\n",
    "from models.cf import EmbededRatingNet, EmbededDotNet\n",
    "from models.custom import RatingDataset\n",
    "from models.training import train_model, test_model\n",
    "from utility import Mapper\n",
    "\n",
    "DEVICE = \"cuda\" if torch.cuda.is_available() else \"cpu\"\n",
    "print(\"Using \" + DEVICE)"
   ]
  },
  {
   "cell_type": "code",
   "execution_count": 2,
   "metadata": {},
   "outputs": [
    {
     "name": "stderr",
     "output_type": "stream",
     "text": [
      "\u001b[34m\u001b[1mwandb\u001b[0m: Using wandb-core as the SDK backend. Please refer to https://wandb.me/wandb-core for more information.\n",
      "\u001b[34m\u001b[1mwandb\u001b[0m: W&B API key is configured. Use \u001b[1m`wandb login --relogin`\u001b[0m to force relogin\n"
     ]
    },
    {
     "data": {
      "text/plain": [
       "True"
      ]
     },
     "execution_count": 2,
     "metadata": {},
     "output_type": "execute_result"
    }
   ],
   "source": [
    "wandb.login()"
   ]
  },
  {
   "cell_type": "markdown",
   "metadata": {},
   "source": [
    "## Dataset"
   ]
  },
  {
   "cell_type": "code",
   "execution_count": 3,
   "metadata": {},
   "outputs": [
    {
     "name": "stdout",
     "output_type": "stream",
     "text": [
      "Number of users: 200948\n",
      "Number of items: 84432\n"
     ]
    }
   ],
   "source": [
    "DATASET = \"merged/full\"\n",
    "mapper = Mapper.load(f\"./database/{DATASET}/pydata/mapper.pkl\")\n",
    "full_mapper = Mapper.load(f\"./database/merged/mapper.pkl\")\n",
    "data = RatingDataset(f\"./database/{DATASET}\", full_mapper, True)\n",
    "print(\"Number of users:\", NUM_USER := len(mapper.user_fwd_map))\n",
    "print(\"Number of items:\", NUM_ITEM := len(mapper.item_fwd_map))"
   ]
  },
  {
   "cell_type": "markdown",
   "metadata": {},
   "source": [
    "## Deep Model Training"
   ]
  },
  {
   "cell_type": "code",
   "execution_count": 4,
   "metadata": {},
   "outputs": [],
   "source": [
    "# Model parameters\n",
    "NUM_FACTOR = 8\n",
    "# Training parameters\n",
    "EPOCHS = 20\n",
    "BATCH = 4096\n",
    "SEED = 291124"
   ]
  },
  {
   "cell_type": "code",
   "execution_count": 5,
   "metadata": {},
   "outputs": [
    {
     "data": {
      "application/vnd.jupyter.widget-view+json": {
       "model_id": "55f08b7364684f3e8013512b1be552d2",
       "version_major": 2,
       "version_minor": 0
      },
      "text/plain": [
       "VBox(children=(Label(value='Waiting for wandb.init()...\\r'), FloatProgress(value=0.011113895699963905, max=1.0…"
      ]
     },
     "metadata": {},
     "output_type": "display_data"
    },
    {
     "data": {
      "text/html": [
       "Tracking run with wandb version 0.18.5"
      ],
      "text/plain": [
       "<IPython.core.display.HTML object>"
      ]
     },
     "metadata": {},
     "output_type": "display_data"
    },
    {
     "data": {
      "text/html": [
       "Run data is saved locally in <code>/home/zelinix_window/workspace/movie-recommendation/wandb/run-20241207_185429-qsbgq01r</code>"
      ],
      "text/plain": [
       "<IPython.core.display.HTML object>"
      ]
     },
     "metadata": {},
     "output_type": "display_data"
    },
    {
     "data": {
      "text/html": [
       "Syncing run <strong><a href='https://wandb.ai/dat-tht225482-hust/movie-recommendation-models/runs/qsbgq01r' target=\"_blank\">vocal-rain-40</a></strong> to <a href='https://wandb.ai/dat-tht225482-hust/movie-recommendation-models' target=\"_blank\">Weights & Biases</a> (<a href='https://wandb.me/run' target=\"_blank\">docs</a>)<br/>"
      ],
      "text/plain": [
       "<IPython.core.display.HTML object>"
      ]
     },
     "metadata": {},
     "output_type": "display_data"
    },
    {
     "data": {
      "text/html": [
       " View project at <a href='https://wandb.ai/dat-tht225482-hust/movie-recommendation-models' target=\"_blank\">https://wandb.ai/dat-tht225482-hust/movie-recommendation-models</a>"
      ],
      "text/plain": [
       "<IPython.core.display.HTML object>"
      ]
     },
     "metadata": {},
     "output_type": "display_data"
    },
    {
     "data": {
      "text/html": [
       " View run at <a href='https://wandb.ai/dat-tht225482-hust/movie-recommendation-models/runs/qsbgq01r' target=\"_blank\">https://wandb.ai/dat-tht225482-hust/movie-recommendation-models/runs/qsbgq01r</a>"
      ],
      "text/plain": [
       "<IPython.core.display.HTML object>"
      ]
     },
     "metadata": {},
     "output_type": "display_data"
    },
    {
     "data": {
      "text/html": [
       "<button onClick=\"this.nextSibling.style.display='block';this.style.display='none';\">Display W&B run</button><iframe src='https://wandb.ai/dat-tht225482-hust/movie-recommendation-models/runs/qsbgq01r?jupyter=true' style='border:none;width:100%;height:420px;display:none;'></iframe>"
      ],
      "text/plain": [
       "<wandb.sdk.wandb_run.Run at 0x7f1d41baa600>"
      ]
     },
     "execution_count": 5,
     "metadata": {},
     "output_type": "execute_result"
    }
   ],
   "source": [
    "wandb.init(\n",
    "    project=\"movie-recommendation-models\",\n",
    "    resume=\"allow\",\n",
    "    config={\n",
    "        \"dataset\": DATASET,\n",
    "        \"seed\": SEED,\n",
    "        \"batch_size\": BATCH,\n",
    "        \"epochs\": EPOCHS,\n",
    "        \"num_factor\": NUM_FACTOR,\n",
    "        \"device\": DEVICE,\n",
    "    },\n",
    ")"
   ]
  },
  {
   "cell_type": "markdown",
   "metadata": {},
   "source": [
    "Train-Test Split"
   ]
  },
  {
   "cell_type": "code",
   "execution_count": 6,
   "metadata": {},
   "outputs": [],
   "source": [
    "train, test = data.split(0.8, seed=SEED)"
   ]
  },
  {
   "cell_type": "code",
   "execution_count": 7,
   "metadata": {},
   "outputs": [],
   "source": [
    "train_loader = DataLoader(train, batch_size=BATCH, shuffle=True, num_workers=3)\n",
    "test_loader = DataLoader(test, batch_size=BATCH, num_workers=3)"
   ]
  },
  {
   "cell_type": "markdown",
   "metadata": {},
   "source": [
    "### CF Embeded Rating"
   ]
  },
  {
   "cell_type": "code",
   "execution_count": 8,
   "metadata": {},
   "outputs": [],
   "source": [
    "# model = EmbededRatingNet(NUM_USER, NUM_ITEM, NUM_FACTOR).to(DEVICE)\n",
    "model = EmbededDotNet(NUM_USER, NUM_ITEM, NUM_FACTOR).to(DEVICE)\n",
    "loss_fn = nn.MSELoss()\n",
    "l1 = nn.L1Loss()\n",
    "optimizer = optim.SGD(model.parameters())\n",
    "best_val_loss = float(\"inf\")\n",
    "wandb.watch(model)"
   ]
  },
  {
   "cell_type": "markdown",
   "metadata": {},
   "source": [
    "Model training"
   ]
  },
  {
   "cell_type": "code",
   "execution_count": 9,
   "metadata": {},
   "outputs": [],
   "source": [
    "def logging(epoch, train_loss, train_mae, test_loss, test_mae, time):\n",
    "    time  = int(time)\n",
    "    logs = \"\"\n",
    "    logs += f\"Epoch {epoch}: \"\n",
    "    logs += f\"Train Loss: {train_loss:.4e} | \"\n",
    "    logs += f\"Train MAE: {train_mae:.4e} | \"\n",
    "    logs += f\"Test Loss: {test_loss:.4e} | \"\n",
    "    logs += f\"Test MAE: {test_mae:.4e} | \"\n",
    "    logs += f\"Time Taken: {time // 60}m {time % 60:02d}s\"\n",
    "    wandb.log({\n",
    "        \"epoch\": epoch,\n",
    "        \"train_loss\": train_loss,\n",
    "        \"train_mae\": train_mae,\n",
    "        \"test_loss\": test_loss,\n",
    "        \"test_mae\": test_mae,\n",
    "    })\n",
    "    print(logs, end=\" \")"
   ]
  },
  {
   "cell_type": "code",
   "execution_count": 10,
   "metadata": {},
   "outputs": [
    {
     "name": "stdout",
     "output_type": "stream",
     "text": [
      "Epoch 1: Train Loss: 8.3640e+00 | Train MAE: 2.2496e+00 | Test Loss: 8.3076e+00 | Test MAE: 2.2418e+00 | Time Taken: 5m 29s > Checkpoint saved!\n",
      "Epoch 2: Train Loss: 8.2560e+00 | Train MAE: 2.2349e+00 | Test Loss: 8.2015e+00 | Test MAE: 2.2272e+00 | Time Taken: 5m 36s > Checkpoint saved!\n",
      "Epoch 3: Train Loss: 8.1515e+00 | Train MAE: 2.2204e+00 | Test Loss: 8.0986e+00 | Test MAE: 2.2129e+00 | Time Taken: 5m 40s > Checkpoint saved!\n",
      "Epoch 4: Train Loss: 8.0497e+00 | Train MAE: 2.2062e+00 | Test Loss: 7.9987e+00 | Test MAE: 2.1989e+00 | Time Taken: 5m 38s > Checkpoint saved!\n",
      "Epoch 5: Train Loss: 7.9512e+00 | Train MAE: 2.1922e+00 | Test Loss: 7.9016e+00 | Test MAE: 2.1850e+00 | Time Taken: 5m 24s > Checkpoint saved!\n",
      "Epoch 6: Train Loss: 7.8553e+00 | Train MAE: 2.1785e+00 | Test Loss: 7.8072e+00 | Test MAE: 2.1715e+00 | Time Taken: 5m 24s > Checkpoint saved!\n",
      "Epoch 7: Train Loss: 7.7623e+00 | Train MAE: 2.1651e+00 | Test Loss: 7.7155e+00 | Test MAE: 2.1581e+00 | Time Taken: 5m 25s > Checkpoint saved!\n",
      "Epoch 8: Train Loss: 7.6713e+00 | Train MAE: 2.1517e+00 | Test Loss: 7.6262e+00 | Test MAE: 2.1450e+00 | Time Taken: 5m 44s > Checkpoint saved!\n",
      "Epoch 9: Train Loss: 7.5834e+00 | Train MAE: 2.1387e+00 | Test Loss: 7.5394e+00 | Test MAE: 2.1321e+00 | Time Taken: 5m 30s > Checkpoint saved!\n",
      "Epoch 10: Train Loss: 7.4977e+00 | Train MAE: 2.1259e+00 | Test Loss: 7.4549e+00 | Test MAE: 2.1194e+00 | Time Taken: 5m 27s > Checkpoint saved!\n",
      "Epoch 11: Train Loss: 7.4143e+00 | Train MAE: 2.1133e+00 | Test Loss: 7.3726e+00 | Test MAE: 2.1069e+00 | Time Taken: 5m 27s > Checkpoint saved!\n",
      "Epoch 12: Train Loss: 7.3329e+00 | Train MAE: 2.1009e+00 | Test Loss: 7.2925e+00 | Test MAE: 2.0946e+00 | Time Taken: 5m 27s > Checkpoint saved!\n",
      "Epoch 13: Train Loss: 7.2541e+00 | Train MAE: 2.0887e+00 | Test Loss: 7.2144e+00 | Test MAE: 2.0825e+00 | Time Taken: 5m 29s > Checkpoint saved!\n",
      "Epoch 14: Train Loss: 7.1767e+00 | Train MAE: 2.0767e+00 | Test Loss: 7.1384e+00 | Test MAE: 2.0707e+00 | Time Taken: 5m 34s > Checkpoint saved!\n",
      "Epoch 15: Train Loss: 7.1012e+00 | Train MAE: 2.0649e+00 | Test Loss: 7.0642e+00 | Test MAE: 2.0590e+00 | Time Taken: 5m 34s > Checkpoint saved!\n",
      "Epoch 16: Train Loss: 7.0281e+00 | Train MAE: 2.0533e+00 | Test Loss: 6.9918e+00 | Test MAE: 2.0475e+00 | Time Taken: 5m 27s > Checkpoint saved!\n",
      "Epoch 17: Train Loss: 6.9565e+00 | Train MAE: 2.0419e+00 | Test Loss: 6.9213e+00 | Test MAE: 2.0362e+00 | Time Taken: 5m 28s > Checkpoint saved!\n",
      "Epoch 18: Train Loss: 6.8868e+00 | Train MAE: 2.0307e+00 | Test Loss: 6.8524e+00 | Test MAE: 2.0251e+00 | Time Taken: 5m 31s > Checkpoint saved!\n",
      "Epoch 19: Train Loss: 6.8188e+00 | Train MAE: 2.0197e+00 | Test Loss: 6.7852e+00 | Test MAE: 2.0141e+00 | Time Taken: 5m 29s > Checkpoint saved!\n",
      "Epoch 20: Train Loss: 6.7521e+00 | Train MAE: 2.0088e+00 | Test Loss: 6.7196e+00 | Test MAE: 2.0034e+00 | Time Taken: 5m 23s > Checkpoint saved!\n"
     ]
    }
   ],
   "source": [
    "for epoch in range(1, EPOCHS + 1):\n",
    "    start_time = time.time()\n",
    "    train_loss, train_mae = train_model(epoch, model, train_loader, loss_fn, optimizer, DEVICE)\n",
    "    test_loss, test_mae = test_model(epoch, model, test_loader, loss_fn, DEVICE)\n",
    "    time_taken = time.time() - start_time\n",
    "    logging(epoch, train_loss, train_mae, test_loss, test_mae, time_taken)\n",
    "    if test_loss < best_val_loss:\n",
    "        best_val_loss = test_loss\n",
    "        torch.save(model.state_dict(), \"model.pth\")\n",
    "        print(\"> Checkpoint saved!\")\n",
    "    else:\n",
    "        print()"
   ]
  },
  {
   "cell_type": "code",
   "execution_count": 11,
   "metadata": {},
   "outputs": [
    {
     "data": {
      "application/vnd.jupyter.widget-view+json": {
       "model_id": "527da9d9a4344c0e9655d1b9c9d4e679",
       "version_major": 2,
       "version_minor": 0
      },
      "text/plain": [
       "VBox(children=(Label(value='0.005 MB of 0.005 MB uploaded\\r'), FloatProgress(value=1.0, max=1.0)))"
      ]
     },
     "metadata": {},
     "output_type": "display_data"
    },
    {
     "data": {
      "text/html": [
       "<style>\n",
       "    table.wandb td:nth-child(1) { padding: 0 10px; text-align: left ; width: auto;} td:nth-child(2) {text-align: left ; width: 100%}\n",
       "    .wandb-row { display: flex; flex-direction: row; flex-wrap: wrap; justify-content: flex-start; width: 100% }\n",
       "    .wandb-col { display: flex; flex-direction: column; flex-basis: 100%; flex: 1; padding: 10px; }\n",
       "    </style>\n",
       "<div class=\"wandb-row\"><div class=\"wandb-col\"><h3>Run history:</h3><br/><table class=\"wandb\"><tr><td>epoch</td><td>▁▁▂▂▂▃▃▄▄▄▅▅▅▆▆▇▇▇██</td></tr><tr><td>test_loss</td><td>██▇▇▆▆▅▅▅▄▄▄▃▃▃▂▂▂▁▁</td></tr><tr><td>test_mae</td><td>██▇▇▆▆▆▅▅▄▄▄▃▃▃▂▂▂▁▁</td></tr><tr><td>train_loss</td><td>██▇▇▆▆▅▅▅▄▄▄▃▃▃▂▂▂▁▁</td></tr><tr><td>train_mae</td><td>██▇▇▆▆▆▅▅▄▄▄▃▃▃▂▂▂▁▁</td></tr></table><br/></div><div class=\"wandb-col\"><h3>Run summary:</h3><br/><table class=\"wandb\"><tr><td>epoch</td><td>20</td></tr><tr><td>test_loss</td><td>6.71955</td></tr><tr><td>test_mae</td><td>2.00338</td></tr><tr><td>train_loss</td><td>6.75208</td></tr><tr><td>train_mae</td><td>2.00878</td></tr></table><br/></div></div>"
      ],
      "text/plain": [
       "<IPython.core.display.HTML object>"
      ]
     },
     "metadata": {},
     "output_type": "display_data"
    },
    {
     "data": {
      "text/html": [
       " View run <strong style=\"color:#cdcd00\">vocal-rain-40</strong> at: <a href='https://wandb.ai/dat-tht225482-hust/movie-recommendation-models/runs/qsbgq01r' target=\"_blank\">https://wandb.ai/dat-tht225482-hust/movie-recommendation-models/runs/qsbgq01r</a><br/> View project at: <a href='https://wandb.ai/dat-tht225482-hust/movie-recommendation-models' target=\"_blank\">https://wandb.ai/dat-tht225482-hust/movie-recommendation-models</a><br/>Synced 5 W&B file(s), 0 media file(s), 2 artifact file(s) and 0 other file(s)"
      ],
      "text/plain": [
       "<IPython.core.display.HTML object>"
      ]
     },
     "metadata": {},
     "output_type": "display_data"
    },
    {
     "data": {
      "text/html": [
       "Find logs at: <code>./wandb/run-20241207_185429-qsbgq01r/logs</code>"
      ],
      "text/plain": [
       "<IPython.core.display.HTML object>"
      ]
     },
     "metadata": {},
     "output_type": "display_data"
    }
   ],
   "source": [
    "wandb.finish()"
   ]
  },
  {
   "cell_type": "markdown",
   "metadata": {},
   "source": [
    "## Get recommendation"
   ]
  },
  {
   "cell_type": "code",
   "execution_count": 12,
   "metadata": {},
   "outputs": [
    {
     "data": {
      "text/plain": [
       "<All keys matched successfully>"
      ]
     },
     "execution_count": 12,
     "metadata": {},
     "output_type": "execute_result"
    }
   ],
   "source": [
    "movies = pd.read_csv(\"./database/merged/metadatas.csv\")\n",
    "full_mapper = Mapper.load(f\"./database/merged/mapper.pkl\")\n",
    "# model.load_state_dict(torch.load(\"models/cf/embeded_rating.pth\"))\n",
    "# model = EmbededRatingNet(NUM_USER, NUM_ITEM, NUM_FACTOR).to(DEVICE)\n",
    "model = EmbededDotNet(NUM_USER, NUM_ITEM, NUM_FACTOR).to(DEVICE)\n",
    "model.load_state_dict(torch.load(\"./model.pth\"))"
   ]
  },
  {
   "cell_type": "code",
   "execution_count": 13,
   "metadata": {},
   "outputs": [],
   "source": [
    "def get_recommendation(user, model: nn.Module, top: int = 10):\n",
    "    user_idx = int(mapper.user_fwd_map[user])\n",
    "    users = torch.tensor([user_idx] * NUM_ITEM, dtype=torch.int64, device=DEVICE)\n",
    "    movies = torch.tensor(range(NUM_ITEM), dtype=torch.int64, device=DEVICE)\n",
    "    model.eval()\n",
    "    with torch.no_grad():\n",
    "        ratings: torch.Tensor = model(users, movies)\n",
    "    ratings = [(mapper.item_inv_map[i], float(r.item())) for i, r in zip(range(NUM_ITEM), ratings.to(\"cpu\"))]\n",
    "    ratings = sorted(ratings, key=lambda x: x[1], reverse=True)[:top]\n",
    "    return ratings"
   ]
  },
  {
   "cell_type": "code",
   "execution_count": 14,
   "metadata": {},
   "outputs": [
    {
     "data": {
      "text/html": [
       "<div>\n",
       "<style scoped>\n",
       "    .dataframe tbody tr th:only-of-type {\n",
       "        vertical-align: middle;\n",
       "    }\n",
       "\n",
       "    .dataframe tbody tr th {\n",
       "        vertical-align: top;\n",
       "    }\n",
       "\n",
       "    .dataframe thead th {\n",
       "        text-align: right;\n",
       "    }\n",
       "</style>\n",
       "<table border=\"1\" class=\"dataframe\">\n",
       "  <thead>\n",
       "    <tr style=\"text-align: right;\">\n",
       "      <th></th>\n",
       "      <th>Title</th>\n",
       "      <th>MovieID</th>\n",
       "      <th>Rating</th>\n",
       "    </tr>\n",
       "  </thead>\n",
       "  <tbody>\n",
       "    <tr>\n",
       "      <th>128</th>\n",
       "      <td>Superman II (1980)</td>\n",
       "      <td>2641</td>\n",
       "      <td>3.0</td>\n",
       "    </tr>\n",
       "    <tr>\n",
       "      <th>141</th>\n",
       "      <td>Fistful of Dollars, A (Per un pugno di dollari...</td>\n",
       "      <td>2951</td>\n",
       "      <td>3.0</td>\n",
       "    </tr>\n",
       "    <tr>\n",
       "      <th>57</th>\n",
       "      <td>Star Trek II: The Wrath of Khan (1982)</td>\n",
       "      <td>1374</td>\n",
       "      <td>4.0</td>\n",
       "    </tr>\n",
       "    <tr>\n",
       "      <th>44</th>\n",
       "      <td>Godfather: Part II, The (1974)</td>\n",
       "      <td>1221</td>\n",
       "      <td>4.0</td>\n",
       "    </tr>\n",
       "    <tr>\n",
       "      <th>85</th>\n",
       "      <td>Lethal Weapon 3 (1992)</td>\n",
       "      <td>2002</td>\n",
       "      <td>3.0</td>\n",
       "    </tr>\n",
       "    <tr>\n",
       "      <th>38</th>\n",
       "      <td>Raiders of the Lost Ark (Indiana Jones and the...</td>\n",
       "      <td>1198</td>\n",
       "      <td>5.0</td>\n",
       "    </tr>\n",
       "    <tr>\n",
       "      <th>50</th>\n",
       "      <td>Indiana Jones and the Last Crusade (1989)</td>\n",
       "      <td>1291</td>\n",
       "      <td>4.0</td>\n",
       "    </tr>\n",
       "    <tr>\n",
       "      <th>104</th>\n",
       "      <td>Rambo: First Blood Part II (1985)</td>\n",
       "      <td>2402</td>\n",
       "      <td>4.0</td>\n",
       "    </tr>\n",
       "    <tr>\n",
       "      <th>144</th>\n",
       "      <td>For Your Eyes Only (1981)</td>\n",
       "      <td>2989</td>\n",
       "      <td>4.0</td>\n",
       "    </tr>\n",
       "    <tr>\n",
       "      <th>148</th>\n",
       "      <td>Longest Day, The (1962)</td>\n",
       "      <td>3062</td>\n",
       "      <td>4.0</td>\n",
       "    </tr>\n",
       "  </tbody>\n",
       "</table>\n",
       "</div>"
      ],
      "text/plain": [
       "                                                 Title  MovieID  Rating\n",
       "128                                 Superman II (1980)     2641     3.0\n",
       "141  Fistful of Dollars, A (Per un pugno di dollari...     2951     3.0\n",
       "57              Star Trek II: The Wrath of Khan (1982)     1374     4.0\n",
       "44                      Godfather: Part II, The (1974)     1221     4.0\n",
       "85                              Lethal Weapon 3 (1992)     2002     3.0\n",
       "38   Raiders of the Lost Ark (Indiana Jones and the...     1198     5.0\n",
       "50           Indiana Jones and the Last Crusade (1989)     1291     4.0\n",
       "104                  Rambo: First Blood Part II (1985)     2402     4.0\n",
       "144                          For Your Eyes Only (1981)     2989     4.0\n",
       "148                            Longest Day, The (1962)     3062     4.0"
      ]
     },
     "execution_count": 14,
     "metadata": {},
     "output_type": "execute_result"
    }
   ],
   "source": [
    "user_id = 102234\n",
    "user_rated = data.dataset[data.dataset[\"UserID\"] == user_id]\n",
    "user_rated = pd.merge(movies[[\"MovieID\", \"Title\"]], user_rated, on=\"MovieID\", how=\"right\")\n",
    "user_rated = user_rated.sort_values(by=\"Rating\", ascending=False)\n",
    "user_rated = user_rated.reindex(columns=[\"Title\", \"MovieID\", \"Rating\"])\n",
    "user_rated.sample(10)"
   ]
  },
  {
   "cell_type": "code",
   "execution_count": 15,
   "metadata": {},
   "outputs": [
    {
     "name": "stdout",
     "output_type": "stream",
     "text": [
      "155599 The Daughter (2016) 6.888847351074219\n",
      "211077 Invasion Planet Earth (2019) 6.566414833068848\n",
      "135613 Rabies (2010) 6.542375564575195\n",
      "131808 The Postman's White Nights (2014) 6.458860874176025\n",
      "851 Basquiat (1996) 6.401679992675781\n",
      "41564 Kid & I, The (2005) 6.330195426940918\n",
      "177269 Get the Girl (2017) 6.253493309020996\n",
      "144530 Overheard (2009) 6.134182929992676\n",
      "59895 Dust in the Wind (1987) 6.039362907409668\n",
      "146958 Camera D'Albergo (1981) 6.036156177520752\n"
     ]
    }
   ],
   "source": [
    "for m_id, rate in get_recommendation(user_id, model):\n",
    "    print(m_id, movies[movies[\"MovieID\"] == m_id][\"Title\"].values[0], rate)"
   ]
  }
 ],
 "metadata": {
  "kernelspec": {
   "display_name": "vocalopy",
   "language": "python",
   "name": "python3"
  },
  "language_info": {
   "codemirror_mode": {
    "name": "ipython",
    "version": 3
   },
   "file_extension": ".py",
   "mimetype": "text/x-python",
   "name": "python",
   "nbconvert_exporter": "python",
   "pygments_lexer": "ipython3",
   "version": "3.12.2"
  }
 },
 "nbformat": 4,
 "nbformat_minor": 2
}
