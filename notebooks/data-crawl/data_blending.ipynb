{
 "cells": [
  {
   "cell_type": "markdown",
   "metadata": {},
   "source": [
    "# Data Blending"
   ]
  },
  {
   "cell_type": "code",
   "execution_count": 406,
   "metadata": {},
   "outputs": [],
   "source": [
    "import pandas as pd\n",
    "import numpy as np\n",
    "import pickle as pkl\n",
    "from fuzzywuzzy import fuzz\n",
    "from ast import literal_eval\n",
    "from datetime import datetime"
   ]
  },
  {
   "cell_type": "code",
   "execution_count": 407,
   "metadata": {},
   "outputs": [],
   "source": [
    "def get_fuzz_similarity(s1: str, s2: str) -> float:\n",
    "    return fuzz.token_sort_ratio(s1, s2)\n",
    "\n",
    "\n",
    "def union_no_alias(l1: list[str], l2: list[str]) -> list[str]:\n",
    "    union = l1.copy()\n",
    "    l2 = l2.copy()\n",
    "    if len(l1) > 0:\n",
    "        for n1 in l1:\n",
    "            for n2 in l2:\n",
    "                if get_fuzz_similarity(n1, n2) > 80.0:\n",
    "                    l2.remove(n2)\n",
    "                    break\n",
    "    union.extend(l2)\n",
    "    return union"
   ]
  },
  {
   "cell_type": "markdown",
   "metadata": {},
   "source": [
    "Datasets"
   ]
  },
  {
   "cell_type": "code",
   "execution_count": 408,
   "metadata": {},
   "outputs": [],
   "source": [
    "links = pd.read_csv(\"./database/ml-32m/links.csv\").rename({\"movieId\": \"MovieID\", \"imdbId\": \"ImdbID\", \"tmdbId\": \"TmdbID\"}, axis=1)\n",
    "movies = pd.read_csv(\"./database/ml-32m/movies.csv\").rename({\"movieId\": \"MovieID\", \"title\": \"Title\", \"genres\": \"Genres\"}, axis=1)\n",
    "imdb = pd.read_csv(\"./database/imdb/movie_entries.csv\")\n",
    "tmdb = pd.read_csv(\"./database/tmdb/movie_entries.csv\")\n",
    "ratings = pd.read_csv(\"./database/ml-32m/ratings.csv\")"
   ]
  },
  {
   "cell_type": "code",
   "execution_count": 409,
   "metadata": {},
   "outputs": [
    {
     "name": "stdout",
     "output_type": "stream",
     "text": [
      "<class 'pandas.core.frame.DataFrame'>\n",
      "RangeIndex: 87585 entries, 0 to 87584\n",
      "Data columns (total 3 columns):\n",
      " #   Column   Non-Null Count  Dtype  \n",
      "---  ------   --------------  -----  \n",
      " 0   MovieID  87585 non-null  int64  \n",
      " 1   ImdbID   87585 non-null  int64  \n",
      " 2   TmdbID   87533 non-null  float64\n",
      "dtypes: float64(1), int64(2)\n",
      "memory usage: 2.0 MB\n"
     ]
    }
   ],
   "source": [
    "links.info()"
   ]
  },
  {
   "cell_type": "markdown",
   "metadata": {},
   "source": [
    "#### I. AverageRating"
   ]
  },
  {
   "cell_type": "markdown",
   "metadata": {},
   "source": [
    "Target: [global_ratings.csv](../database/merged/full/global_ratings.csv).\n",
    "\n",
    "|Columns|Source|By|\n",
    "|---|---|---|\n",
    "|MovieID              |MovieLens                    ||\n",
    "|AverageRating        |MovieLens + IMDB + TMDB      |Global Average|\n",
    "|VoteCount            |MovieLens + IMDB + TMDB      |Global Count   |"
   ]
  },
  {
   "cell_type": "markdown",
   "metadata": {},
   "source": [
    "##### MovieLens"
   ]
  },
  {
   "cell_type": "code",
   "execution_count": 442,
   "metadata": {},
   "outputs": [
    {
     "data": {
      "text/html": [
       "<div>\n",
       "<style scoped>\n",
       "    .dataframe tbody tr th:only-of-type {\n",
       "        vertical-align: middle;\n",
       "    }\n",
       "\n",
       "    .dataframe tbody tr th {\n",
       "        vertical-align: top;\n",
       "    }\n",
       "\n",
       "    .dataframe thead th {\n",
       "        text-align: right;\n",
       "    }\n",
       "</style>\n",
       "<table border=\"1\" class=\"dataframe\">\n",
       "  <thead>\n",
       "    <tr style=\"text-align: right;\">\n",
       "      <th></th>\n",
       "      <th>MovieID</th>\n",
       "      <th>MLRating</th>\n",
       "      <th>MLVoteCount</th>\n",
       "    </tr>\n",
       "  </thead>\n",
       "  <tbody>\n",
       "    <tr>\n",
       "      <th>0</th>\n",
       "      <td>1</td>\n",
       "      <td>3.897438</td>\n",
       "      <td>68997</td>\n",
       "    </tr>\n",
       "    <tr>\n",
       "      <th>1</th>\n",
       "      <td>2</td>\n",
       "      <td>3.275758</td>\n",
       "      <td>28904</td>\n",
       "    </tr>\n",
       "    <tr>\n",
       "      <th>2</th>\n",
       "      <td>3</td>\n",
       "      <td>3.139447</td>\n",
       "      <td>13134</td>\n",
       "    </tr>\n",
       "    <tr>\n",
       "      <th>3</th>\n",
       "      <td>4</td>\n",
       "      <td>2.845331</td>\n",
       "      <td>2806</td>\n",
       "    </tr>\n",
       "    <tr>\n",
       "      <th>4</th>\n",
       "      <td>5</td>\n",
       "      <td>3.059602</td>\n",
       "      <td>13154</td>\n",
       "    </tr>\n",
       "  </tbody>\n",
       "</table>\n",
       "</div>"
      ],
      "text/plain": [
       "   MovieID  MLRating  MLVoteCount\n",
       "0        1  3.897438        68997\n",
       "1        2  3.275758        28904\n",
       "2        3  3.139447        13134\n",
       "3        4  2.845331         2806\n",
       "4        5  3.059602        13154"
      ]
     },
     "execution_count": 442,
     "metadata": {},
     "output_type": "execute_result"
    }
   ],
   "source": [
    "ml_count = ratings[[\"movieId\", \"rating\"]].groupby([\"movieId\"]).count()\n",
    "ml_avg = ratings[[\"movieId\", \"rating\"]].groupby([\"movieId\"]).mean()\n",
    "movielens_ratings = pd.DataFrame({\"MovieID\": ml_count.index})\n",
    "movielens_ratings[\"MLRating\"] = ml_avg.values\n",
    "movielens_ratings[\"MLVoteCount\"] = ml_count.values\n",
    "movielens_ratings.head()"
   ]
  },
  {
   "cell_type": "markdown",
   "metadata": {},
   "source": [
    "##### IMDB"
   ]
  },
  {
   "cell_type": "code",
   "execution_count": 443,
   "metadata": {},
   "outputs": [
    {
     "data": {
      "text/html": [
       "<div>\n",
       "<style scoped>\n",
       "    .dataframe tbody tr th:only-of-type {\n",
       "        vertical-align: middle;\n",
       "    }\n",
       "\n",
       "    .dataframe tbody tr th {\n",
       "        vertical-align: top;\n",
       "    }\n",
       "\n",
       "    .dataframe thead th {\n",
       "        text-align: right;\n",
       "    }\n",
       "</style>\n",
       "<table border=\"1\" class=\"dataframe\">\n",
       "  <thead>\n",
       "    <tr style=\"text-align: right;\">\n",
       "      <th></th>\n",
       "      <th>ImdbID</th>\n",
       "      <th>ImdbRating</th>\n",
       "      <th>ImdbVoteCount</th>\n",
       "    </tr>\n",
       "  </thead>\n",
       "  <tbody>\n",
       "    <tr>\n",
       "      <th>0</th>\n",
       "      <td>114709</td>\n",
       "      <td>8.3</td>\n",
       "      <td>1.1M</td>\n",
       "    </tr>\n",
       "    <tr>\n",
       "      <th>1</th>\n",
       "      <td>114924</td>\n",
       "      <td>6.8</td>\n",
       "      <td>117K</td>\n",
       "    </tr>\n",
       "    <tr>\n",
       "      <th>2</th>\n",
       "      <td>113277</td>\n",
       "      <td>8.3</td>\n",
       "      <td>736K</td>\n",
       "    </tr>\n",
       "    <tr>\n",
       "      <th>3</th>\n",
       "      <td>112435</td>\n",
       "      <td>5.7</td>\n",
       "      <td>6.6K</td>\n",
       "    </tr>\n",
       "    <tr>\n",
       "      <th>4</th>\n",
       "      <td>111430</td>\n",
       "      <td>6.8</td>\n",
       "      <td>453</td>\n",
       "    </tr>\n",
       "  </tbody>\n",
       "</table>\n",
       "</div>"
      ],
      "text/plain": [
       "   ImdbID  ImdbRating ImdbVoteCount\n",
       "0  114709         8.3          1.1M\n",
       "1  114924         6.8          117K\n",
       "2  113277         8.3          736K\n",
       "3  112435         5.7          6.6K\n",
       "4  111430         6.8           453"
      ]
     },
     "execution_count": 443,
     "metadata": {},
     "output_type": "execute_result"
    }
   ],
   "source": [
    "imdb_ratings = imdb[[\"ImdbID\", \"Rating\", \"VoteCount\"]]\n",
    "imdb_ratings = imdb_ratings.rename({\n",
    "    \"Rating\": \"ImdbRating\", \n",
    "    \"VoteCount\": \"ImdbVoteCount\"\n",
    "}, axis=1)\n",
    "imdb_ratings.head()"
   ]
  },
  {
   "cell_type": "markdown",
   "metadata": {},
   "source": [
    "##### TMDB"
   ]
  },
  {
   "cell_type": "code",
   "execution_count": 444,
   "metadata": {},
   "outputs": [
    {
     "data": {
      "text/html": [
       "<div>\n",
       "<style scoped>\n",
       "    .dataframe tbody tr th:only-of-type {\n",
       "        vertical-align: middle;\n",
       "    }\n",
       "\n",
       "    .dataframe tbody tr th {\n",
       "        vertical-align: top;\n",
       "    }\n",
       "\n",
       "    .dataframe thead th {\n",
       "        text-align: right;\n",
       "    }\n",
       "</style>\n",
       "<table border=\"1\" class=\"dataframe\">\n",
       "  <thead>\n",
       "    <tr style=\"text-align: right;\">\n",
       "      <th></th>\n",
       "      <th>TmdbID</th>\n",
       "      <th>TmdbRating</th>\n",
       "      <th>TmdbVoteCount</th>\n",
       "    </tr>\n",
       "  </thead>\n",
       "  <tbody>\n",
       "    <tr>\n",
       "      <th>0</th>\n",
       "      <td>862</td>\n",
       "      <td>8.0</td>\n",
       "      <td>18326.0</td>\n",
       "    </tr>\n",
       "    <tr>\n",
       "      <th>1</th>\n",
       "      <td>47475</td>\n",
       "      <td>4.0</td>\n",
       "      <td>55.0</td>\n",
       "    </tr>\n",
       "    <tr>\n",
       "      <th>2</th>\n",
       "      <td>9614</td>\n",
       "      <td>6.6</td>\n",
       "      <td>2622.0</td>\n",
       "    </tr>\n",
       "    <tr>\n",
       "      <th>3</th>\n",
       "      <td>2292</td>\n",
       "      <td>7.4</td>\n",
       "      <td>2465.0</td>\n",
       "    </tr>\n",
       "    <tr>\n",
       "      <th>4</th>\n",
       "      <td>19819</td>\n",
       "      <td>6.1</td>\n",
       "      <td>175.0</td>\n",
       "    </tr>\n",
       "  </tbody>\n",
       "</table>\n",
       "</div>"
      ],
      "text/plain": [
       "   TmdbID  TmdbRating  TmdbVoteCount\n",
       "0     862         8.0        18326.0\n",
       "1   47475         4.0           55.0\n",
       "2    9614         6.6         2622.0\n",
       "3    2292         7.4         2465.0\n",
       "4   19819         6.1          175.0"
      ]
     },
     "execution_count": 444,
     "metadata": {},
     "output_type": "execute_result"
    }
   ],
   "source": [
    "tmdb_ratings = tmdb[[\"TmdbID\", \"Rating\", \"VoteCount\"]]\n",
    "tmdb_ratings = tmdb_ratings.rename({\n",
    "    \"Rating\": \"TmdbRating\", \n",
    "    \"VoteCount\": \"TmdbVoteCount\"\n",
    "}, axis=1)\n",
    "tmdb_ratings.head()"
   ]
  },
  {
   "cell_type": "markdown",
   "metadata": {},
   "source": [
    "##### Merged"
   ]
  },
  {
   "cell_type": "code",
   "execution_count": 445,
   "metadata": {},
   "outputs": [
    {
     "data": {
      "text/html": [
       "<div>\n",
       "<style scoped>\n",
       "    .dataframe tbody tr th:only-of-type {\n",
       "        vertical-align: middle;\n",
       "    }\n",
       "\n",
       "    .dataframe tbody tr th {\n",
       "        vertical-align: top;\n",
       "    }\n",
       "\n",
       "    .dataframe thead th {\n",
       "        text-align: right;\n",
       "    }\n",
       "</style>\n",
       "<table border=\"1\" class=\"dataframe\">\n",
       "  <thead>\n",
       "    <tr style=\"text-align: right;\">\n",
       "      <th></th>\n",
       "      <th>MovieID</th>\n",
       "      <th>MLRating</th>\n",
       "      <th>MLVoteCount</th>\n",
       "      <th>ImdbRating</th>\n",
       "      <th>ImdbVoteCount</th>\n",
       "      <th>TmdbRating</th>\n",
       "      <th>TmdbVoteCount</th>\n",
       "    </tr>\n",
       "  </thead>\n",
       "  <tbody>\n",
       "    <tr>\n",
       "      <th>0</th>\n",
       "      <td>1</td>\n",
       "      <td>3.897438</td>\n",
       "      <td>68997.0</td>\n",
       "      <td>8.3</td>\n",
       "      <td>1.1M</td>\n",
       "      <td>8.0</td>\n",
       "      <td>18326.0</td>\n",
       "    </tr>\n",
       "    <tr>\n",
       "      <th>1</th>\n",
       "      <td>2</td>\n",
       "      <td>3.275758</td>\n",
       "      <td>28904.0</td>\n",
       "      <td>7.1</td>\n",
       "      <td>387K</td>\n",
       "      <td>7.2</td>\n",
       "      <td>10466.0</td>\n",
       "    </tr>\n",
       "    <tr>\n",
       "      <th>2</th>\n",
       "      <td>3</td>\n",
       "      <td>3.139447</td>\n",
       "      <td>13134.0</td>\n",
       "      <td>6.7</td>\n",
       "      <td>30K</td>\n",
       "      <td>6.5</td>\n",
       "      <td>375.0</td>\n",
       "    </tr>\n",
       "    <tr>\n",
       "      <th>3</th>\n",
       "      <td>4</td>\n",
       "      <td>2.845331</td>\n",
       "      <td>2806.0</td>\n",
       "      <td>6.0</td>\n",
       "      <td>13K</td>\n",
       "      <td>6.3</td>\n",
       "      <td>162.0</td>\n",
       "    </tr>\n",
       "    <tr>\n",
       "      <th>4</th>\n",
       "      <td>5</td>\n",
       "      <td>3.059602</td>\n",
       "      <td>13154.0</td>\n",
       "      <td>6.1</td>\n",
       "      <td>42K</td>\n",
       "      <td>6.2</td>\n",
       "      <td>725.0</td>\n",
       "    </tr>\n",
       "  </tbody>\n",
       "</table>\n",
       "</div>"
      ],
      "text/plain": [
       "   MovieID  MLRating  MLVoteCount  ImdbRating ImdbVoteCount  TmdbRating  \\\n",
       "0        1  3.897438      68997.0         8.3          1.1M         8.0   \n",
       "1        2  3.275758      28904.0         7.1          387K         7.2   \n",
       "2        3  3.139447      13134.0         6.7           30K         6.5   \n",
       "3        4  2.845331       2806.0         6.0           13K         6.3   \n",
       "4        5  3.059602      13154.0         6.1           42K         6.2   \n",
       "\n",
       "   TmdbVoteCount  \n",
       "0        18326.0  \n",
       "1        10466.0  \n",
       "2          375.0  \n",
       "3          162.0  \n",
       "4          725.0  "
      ]
     },
     "execution_count": 445,
     "metadata": {},
     "output_type": "execute_result"
    }
   ],
   "source": [
    "agg_ratings = pd.merge(links, movielens_ratings, on=\"MovieID\", how=\"left\")\n",
    "agg_ratings = pd.merge(agg_ratings, imdb_ratings, on=\"ImdbID\", how=\"left\").drop([\"ImdbID\"], axis=1)\n",
    "agg_ratings = pd.merge(agg_ratings, tmdb_ratings, on=\"TmdbID\", how=\"left\").drop([\"TmdbID\"], axis=1)\n",
    "agg_ratings.head()"
   ]
  },
  {
   "cell_type": "code",
   "execution_count": 446,
   "metadata": {},
   "outputs": [
    {
     "name": "stdout",
     "output_type": "stream",
     "text": [
      "<class 'pandas.core.frame.DataFrame'>\n",
      "RangeIndex: 87585 entries, 0 to 87584\n",
      "Data columns (total 7 columns):\n",
      " #   Column         Non-Null Count  Dtype  \n",
      "---  ------         --------------  -----  \n",
      " 0   MovieID        87585 non-null  int64  \n",
      " 1   MLRating       84432 non-null  float64\n",
      " 2   MLVoteCount    84432 non-null  float64\n",
      " 3   ImdbRating     87433 non-null  float64\n",
      " 4   ImdbVoteCount  87433 non-null  object \n",
      " 5   TmdbRating     86495 non-null  float64\n",
      " 6   TmdbVoteCount  86495 non-null  float64\n",
      "dtypes: float64(5), int64(1), object(1)\n",
      "memory usage: 4.7+ MB\n"
     ]
    }
   ],
   "source": [
    "agg_ratings.info()"
   ]
  },
  {
   "cell_type": "code",
   "execution_count": 447,
   "metadata": {},
   "outputs": [
    {
     "name": "stdout",
     "output_type": "stream",
     "text": [
      "<class 'pandas.core.frame.DataFrame'>\n",
      "RangeIndex: 87585 entries, 0 to 87584\n",
      "Data columns (total 3 columns):\n",
      " #   Column         Non-Null Count  Dtype  \n",
      "---  ------         --------------  -----  \n",
      " 0   MovieID        87585 non-null  int64  \n",
      " 1   AverageRating  87585 non-null  float64\n",
      " 2   VoteCount      87585 non-null  float64\n",
      "dtypes: float64(2), int64(1)\n",
      "memory usage: 2.0 MB\n"
     ]
    }
   ],
   "source": [
    "def convert_ml_rating(row):\n",
    "    ml_rate, ml_vote = row[[\"MLRating\", \"MLVoteCount\"]]\n",
    "    ml_rate = 0.5 if np.isnan(ml_rate) else float(ml_rate)\n",
    "    ml_vote = 0 if np.isnan(ml_vote) else int(ml_vote)\n",
    "    return ml_rate, ml_vote\n",
    "\n",
    "\n",
    "def convert_imdb_ratings(row):\n",
    "    mapping = {\"K\": 1e3, \"M\": 1e6, \"B\": 1e9}\n",
    "    imdb_rate, imdb_vote = row[[\"ImdbRating\", \"ImdbVoteCount\"]]\n",
    "    imdb_rate = 1.0 if np.isnan(imdb_rate) else float(imdb_rate)\n",
    "    if isinstance(imdb_vote, str):\n",
    "        if imdb_vote[-1].isalpha():\n",
    "            imdb_vote = float(imdb_vote[:-1]) * mapping[imdb_vote[-1]]\n",
    "        imdb_vote = int(imdb_vote)\n",
    "    else:\n",
    "        imdb_vote = 0\n",
    "    return imdb_rate, imdb_vote\n",
    "\n",
    "\n",
    "def convert_tmdb_rating(row):\n",
    "    tmdb_rate, tmdb_vote = row[[\"TmdbRating\", \"TmdbVoteCount\"]]\n",
    "    tmdb_rate = 0 if np.isnan(tmdb_rate) else float(tmdb_rate)\n",
    "    tmdb_vote = 0 if np.isnan(tmdb_vote) else int(tmdb_vote)\n",
    "    return tmdb_rate, tmdb_vote\n",
    "\n",
    "\n",
    "def merge_rating(row):\n",
    "    movie_id = row[\"MovieID\"]\n",
    "    ml_rate, ml_vote = convert_ml_rating(row)           # 0.5 - 5.0\n",
    "    imdb_rate, imdb_vote = convert_imdb_ratings(row)    # 1.0 - 10.0\n",
    "    tmdb_rate, tmdb_vote = convert_tmdb_rating(row)     # 0.0 - 10.0\n",
    "    weights = [ml_vote, imdb_vote, tmdb_vote]\n",
    "    vote_count = sum(weights)\n",
    "    if vote_count:\n",
    "        avg_rating = np.average(a=[ml_rate, imdb_rate / 2, 0.5 + tmdb_rate * 4.5 / 10], weights=weights)\n",
    "    else:\n",
    "        avg_rating = 0.0\n",
    "    return pd.Series(\n",
    "        [movie_id, avg_rating, vote_count], \n",
    "        index=[\"MovieID\", \"AverageRating\", \"VoteCount\"]\n",
    "    )\n",
    "\n",
    "merged_ratings = agg_ratings.apply(merge_rating, axis=1).astype({\"MovieID\": \"int64\"})\n",
    "merged_ratings.info()"
   ]
  },
  {
   "cell_type": "code",
   "execution_count": null,
   "metadata": {},
   "outputs": [],
   "source": [
    "merged_ratings.to_csv(\"./database/merged/full/global_ratings.csv\", index=False)"
   ]
  },
  {
   "cell_type": "markdown",
   "metadata": {},
   "source": [
    "#### II. Metadata"
   ]
  },
  {
   "cell_type": "markdown",
   "metadata": {},
   "source": [
    "Target: [metadatas.csv](../database/merged/full/metadatas.csv).\n",
    "\n",
    "|Columns|Source|Priority|\n",
    "|---|---|---|\n",
    "|MovieID, Name              |MovieLens      ||\n",
    "|Runtime                    |IMDB + TMDB    |IMDB|\n",
    "|ReleaseDate                |IMDB + TMDB    |Earliest, Most Complete||\n",
    "|Genres                     |MovieLens      ||\n",
    "|Directors, Cast            |IMDB + TMDB    |IMDB|\n",
    "|OriginCountry, Languages   |IMDB + TMDB    |IMDB|\n",
    "|Plot                       |IMDB + TMDB    |IMDB|"
   ]
  },
  {
   "cell_type": "markdown",
   "metadata": {},
   "source": [
    "##### ReleaseDate"
   ]
  },
  {
   "cell_type": "code",
   "execution_count": 416,
   "metadata": {},
   "outputs": [
    {
     "name": "stdout",
     "output_type": "stream",
     "text": [
      "<class 'pandas.core.frame.DataFrame'>\n",
      "RangeIndex: 87585 entries, 0 to 87584\n",
      "Data columns (total 3 columns):\n",
      " #   Column   Non-Null Count  Dtype \n",
      "---  ------   --------------  ----- \n",
      " 0   MovieID  87585 non-null  int64 \n",
      " 1   IMDB     87567 non-null  object\n",
      " 2   TMDB     86443 non-null  object\n",
      "dtypes: int64(1), object(2)\n",
      "memory usage: 2.0+ MB\n"
     ]
    }
   ],
   "source": [
    "agg_releasedate = pd.merge(links,imdb[[\"ImdbID\", \"ReleaseDate\"]], on=\"ImdbID\", how=\"left\")\n",
    "agg_releasedate = agg_releasedate.drop([\"ImdbID\"], axis=1).rename({\"ReleaseDate\": \"IMDB\"}, axis=1)\n",
    "agg_releasedate = pd.merge(agg_releasedate, tmdb[[\"TmdbID\", \"ReleaseDate\"]], on=\"TmdbID\", how=\"left\")\n",
    "agg_releasedate = agg_releasedate.drop([\"TmdbID\"], axis=1).rename({\"ReleaseDate\": \"TMDB\"}, axis=1)\n",
    "agg_releasedate.info()"
   ]
  },
  {
   "cell_type": "code",
   "execution_count": 417,
   "metadata": {},
   "outputs": [],
   "source": [
    "def convert_to_date(date: str) -> tuple[datetime | None, int]:\n",
    "    if isinstance(date, str):\n",
    "        args_count = len(date.split(\"-\"))\n",
    "        if args_count == 1:\n",
    "            return datetime.strptime(date, \"%Y\"), 1\n",
    "        elif args_count == 2:\n",
    "            return datetime.strptime(date, \"%Y-%m\"), 2\n",
    "        else:\n",
    "            return datetime.strptime(date, \"%Y-%m-%d\"), 3\n",
    "    else:\n",
    "        return datetime(9999, 12, 31), 0"
   ]
  },
  {
   "cell_type": "code",
   "execution_count": 418,
   "metadata": {},
   "outputs": [
    {
     "name": "stdout",
     "output_type": "stream",
     "text": [
      "<class 'pandas.core.frame.DataFrame'>\n",
      "RangeIndex: 87585 entries, 0 to 87584\n",
      "Data columns (total 2 columns):\n",
      " #   Column       Non-Null Count  Dtype \n",
      "---  ------       --------------  ----- \n",
      " 0   MovieID      87585 non-null  int64 \n",
      " 1   ReleaseDate  87577 non-null  object\n",
      "dtypes: int64(1), object(1)\n",
      "memory usage: 1.3+ MB\n"
     ]
    }
   ],
   "source": [
    "def merge_releasedate(row):\n",
    "    movie_id, imdb, tmdb = row\n",
    "    imdb, p1 = convert_to_date(imdb)\n",
    "    tmdb, p2 = convert_to_date(tmdb)\n",
    "    if p1 == 0 and p2 == 0:\n",
    "        release_date = None\n",
    "    else:\n",
    "        if p1 > p2:\n",
    "            release_date = imdb\n",
    "        elif p1 < p2:\n",
    "            release_date = tmdb\n",
    "        else:\n",
    "            release_date = min(imdb, tmdb)\n",
    "        release_date = release_date.strftime(\"%Y-%m-%d\")\n",
    "    return pd.Series(\n",
    "        [int(movie_id), release_date],\n",
    "        index=[\"MovieID\", \"ReleaseDate\"],\n",
    "    )\n",
    "merged_releasedate = (agg_releasedate\n",
    "    .apply(merge_releasedate, axis=1)\n",
    "    .astype({\"MovieID\": \"int64\", \"ReleaseDate\": \"object\"})\n",
    "    )\n",
    "merged_releasedate.info()"
   ]
  },
  {
   "cell_type": "markdown",
   "metadata": {},
   "source": [
    "##### Runtime"
   ]
  },
  {
   "cell_type": "code",
   "execution_count": 421,
   "metadata": {},
   "outputs": [
    {
     "name": "stdout",
     "output_type": "stream",
     "text": [
      "<class 'pandas.core.frame.DataFrame'>\n",
      "RangeIndex: 87585 entries, 0 to 87584\n",
      "Data columns (total 3 columns):\n",
      " #   Column   Non-Null Count  Dtype \n",
      "---  ------   --------------  ----- \n",
      " 0   MovieID  87585 non-null  int64 \n",
      " 1   IMDB     87061 non-null  object\n",
      " 2   TMDB     86495 non-null  object\n",
      "dtypes: int64(1), object(2)\n",
      "memory usage: 2.0+ MB\n"
     ]
    }
   ],
   "source": [
    "agg_runtime = pd.merge(links, imdb[[\"ImdbID\", \"Runtime\"]], on=\"ImdbID\", how=\"left\")\n",
    "agg_runtime = agg_runtime.drop([\"ImdbID\"], axis=1).rename({\"Runtime\": \"IMDB\"}, axis=1)\n",
    "agg_runtime = pd.merge(agg_runtime, tmdb[[\"TmdbID\", \"Runtime\"]], on=\"TmdbID\", how=\"left\")\n",
    "agg_runtime = agg_runtime.drop([\"TmdbID\"], axis=1).rename({\"Runtime\": \"TMDB\"}, axis=1)\n",
    "agg_runtime.info()"
   ]
  },
  {
   "cell_type": "code",
   "execution_count": 422,
   "metadata": {},
   "outputs": [
    {
     "name": "stdout",
     "output_type": "stream",
     "text": [
      "<class 'pandas.core.frame.DataFrame'>\n",
      "RangeIndex: 87585 entries, 0 to 87584\n",
      "Data columns (total 2 columns):\n",
      " #   Column   Non-Null Count  Dtype \n",
      "---  ------   --------------  ----- \n",
      " 0   MovieID  87585 non-null  int64 \n",
      " 1   Runtime  87530 non-null  object\n",
      "dtypes: int64(1), object(1)\n",
      "memory usage: 1.3+ MB\n"
     ]
    }
   ],
   "source": [
    "def merge_runtime(row):\n",
    "    movie_id, imdb, tmdb = row\n",
    "    release_date = imdb if isinstance(imdb, str) else tmdb\n",
    "    return pd.Series(\n",
    "        [int(movie_id), release_date],\n",
    "        index=[\"MovieID\", \"Runtime\"],\n",
    "    )\n",
    "merged_runtime = (agg_runtime\n",
    "    .apply(merge_runtime, axis=1)\n",
    "    .astype({\"MovieID\": \"int64\", \"Runtime\": \"object\"})\n",
    "    )\n",
    "merged_runtime.info()"
   ]
  },
  {
   "cell_type": "markdown",
   "metadata": {},
   "source": [
    "##### Genres"
   ]
  },
  {
   "cell_type": "code",
   "execution_count": 423,
   "metadata": {},
   "outputs": [
    {
     "data": {
      "text/html": [
       "<div>\n",
       "<style scoped>\n",
       "    .dataframe tbody tr th:only-of-type {\n",
       "        vertical-align: middle;\n",
       "    }\n",
       "\n",
       "    .dataframe tbody tr th {\n",
       "        vertical-align: top;\n",
       "    }\n",
       "\n",
       "    .dataframe thead th {\n",
       "        text-align: right;\n",
       "    }\n",
       "</style>\n",
       "<table border=\"1\" class=\"dataframe\">\n",
       "  <thead>\n",
       "    <tr style=\"text-align: right;\">\n",
       "      <th></th>\n",
       "      <th>MovieID</th>\n",
       "      <th>Genres</th>\n",
       "    </tr>\n",
       "  </thead>\n",
       "  <tbody>\n",
       "    <tr>\n",
       "      <th>0</th>\n",
       "      <td>1</td>\n",
       "      <td>['Adventure', 'Animation', 'Children', 'Comedy...</td>\n",
       "    </tr>\n",
       "    <tr>\n",
       "      <th>1</th>\n",
       "      <td>2</td>\n",
       "      <td>['Adventure', 'Children', 'Fantasy']</td>\n",
       "    </tr>\n",
       "    <tr>\n",
       "      <th>2</th>\n",
       "      <td>3</td>\n",
       "      <td>['Comedy', 'Romance']</td>\n",
       "    </tr>\n",
       "    <tr>\n",
       "      <th>3</th>\n",
       "      <td>4</td>\n",
       "      <td>['Comedy', 'Drama', 'Romance']</td>\n",
       "    </tr>\n",
       "    <tr>\n",
       "      <th>4</th>\n",
       "      <td>5</td>\n",
       "      <td>['Comedy']</td>\n",
       "    </tr>\n",
       "  </tbody>\n",
       "</table>\n",
       "</div>"
      ],
      "text/plain": [
       "   MovieID                                             Genres\n",
       "0        1  ['Adventure', 'Animation', 'Children', 'Comedy...\n",
       "1        2               ['Adventure', 'Children', 'Fantasy']\n",
       "2        3                              ['Comedy', 'Romance']\n",
       "3        4                     ['Comedy', 'Drama', 'Romance']\n",
       "4        5                                         ['Comedy']"
      ]
     },
     "execution_count": 423,
     "metadata": {},
     "output_type": "execute_result"
    }
   ],
   "source": [
    "movie_genres = movies[[\"MovieID\", \"Genres\"]]\n",
    "movie_genres = movie_genres.apply(\n",
    "    lambda row: pd.Series(\n",
    "        [row[\"MovieID\"], str(str(row[\"Genres\"]).split(\"|\"))], index=[\"MovieID\", \"Genres\"]\n",
    "    ),\n",
    "    axis=1,\n",
    ")\n",
    "movie_genres.head()"
   ]
  },
  {
   "cell_type": "code",
   "execution_count": 424,
   "metadata": {},
   "outputs": [
    {
     "name": "stdout",
     "output_type": "stream",
     "text": [
      "<class 'pandas.core.frame.DataFrame'>\n",
      "RangeIndex: 87585 entries, 0 to 87584\n",
      "Data columns (total 2 columns):\n",
      " #   Column   Non-Null Count  Dtype \n",
      "---  ------   --------------  ----- \n",
      " 0   MovieID  87585 non-null  int64 \n",
      " 1   Genres   87585 non-null  object\n",
      "dtypes: int64(1), object(1)\n",
      "memory usage: 1.3+ MB\n"
     ]
    }
   ],
   "source": [
    "movie_genres.info()"
   ]
  },
  {
   "cell_type": "markdown",
   "metadata": {},
   "source": [
    "##### Plot"
   ]
  },
  {
   "cell_type": "code",
   "execution_count": 425,
   "metadata": {},
   "outputs": [
    {
     "name": "stdout",
     "output_type": "stream",
     "text": [
      "<class 'pandas.core.frame.DataFrame'>\n",
      "RangeIndex: 87585 entries, 0 to 87584\n",
      "Data columns (total 3 columns):\n",
      " #   Column   Non-Null Count  Dtype \n",
      "---  ------   --------------  ----- \n",
      " 0   MovieID  87585 non-null  int64 \n",
      " 1   IMDB     86412 non-null  object\n",
      " 2   TMDB     85844 non-null  object\n",
      "dtypes: int64(1), object(2)\n",
      "memory usage: 2.0+ MB\n"
     ]
    }
   ],
   "source": [
    "agg_plot = pd.merge(links, imdb[[\"ImdbID\", \"Plot\"]], on=\"ImdbID\", how=\"left\")\n",
    "agg_plot = agg_plot.drop([\"ImdbID\"], axis=1).rename({\"Plot\": \"IMDB\"}, axis=1)\n",
    "agg_plot = pd.merge(agg_plot, tmdb[[\"TmdbID\", \"Plot\"]], on=\"TmdbID\", how=\"left\")\n",
    "agg_plot = agg_plot.drop([\"TmdbID\"], axis=1).rename({\"Plot\": \"TMDB\"}, axis=1)\n",
    "agg_plot.info()"
   ]
  },
  {
   "cell_type": "code",
   "execution_count": 426,
   "metadata": {},
   "outputs": [
    {
     "name": "stdout",
     "output_type": "stream",
     "text": [
      "<class 'pandas.core.frame.DataFrame'>\n",
      "RangeIndex: 87585 entries, 0 to 87584\n",
      "Data columns (total 2 columns):\n",
      " #   Column   Non-Null Count  Dtype \n",
      "---  ------   --------------  ----- \n",
      " 0   MovieID  87585 non-null  int64 \n",
      " 1   Plot     87389 non-null  object\n",
      "dtypes: int64(1), object(1)\n",
      "memory usage: 1.3+ MB\n"
     ]
    }
   ],
   "source": [
    "def merge_plot(row):\n",
    "    movie_id, imdb, tmdb = row\n",
    "    plot = imdb if isinstance(imdb, str) else tmdb\n",
    "    if isinstance(plot, str):\n",
    "        plot = plot.replace(\"\\n\", \" \")\n",
    "    return pd.Series(\n",
    "        [int(movie_id), plot],\n",
    "        index=[\"MovieID\", \"Plot\"],\n",
    "    )\n",
    "merged_plot = agg_plot.apply(merge_plot, axis=1).astype(\n",
    "    {\"MovieID\": \"int64\", \"Plot\": \"object\"}\n",
    ")\n",
    "merged_plot.info()"
   ]
  },
  {
   "cell_type": "markdown",
   "metadata": {},
   "source": [
    "##### Directors"
   ]
  },
  {
   "cell_type": "code",
   "execution_count": 427,
   "metadata": {},
   "outputs": [
    {
     "name": "stdout",
     "output_type": "stream",
     "text": [
      "<class 'pandas.core.frame.DataFrame'>\n",
      "RangeIndex: 87585 entries, 0 to 87584\n",
      "Data columns (total 3 columns):\n",
      " #   Column   Non-Null Count  Dtype \n",
      "---  ------   --------------  ----- \n",
      " 0   MovieID  87585 non-null  int64 \n",
      " 1   IMDB     87585 non-null  object\n",
      " 2   TMDB     87533 non-null  object\n",
      "dtypes: int64(1), object(2)\n",
      "memory usage: 2.0+ MB\n"
     ]
    }
   ],
   "source": [
    "agg_directors = pd.merge(links, imdb[[\"ImdbID\", \"Directors\"]], on=\"ImdbID\", how=\"left\")\n",
    "agg_directors = agg_directors.drop([\"ImdbID\"], axis=1).rename({\"Directors\": \"IMDB\"}, axis=1)\n",
    "agg_directors = pd.merge(agg_directors, tmdb[[\"TmdbID\", \"Directors\"]], on=\"TmdbID\", how=\"left\")\n",
    "agg_directors = agg_directors.drop([\"TmdbID\"], axis=1).rename({\"Directors\": \"TMDB\"}, axis=1)\n",
    "agg_directors.info()"
   ]
  },
  {
   "cell_type": "code",
   "execution_count": 428,
   "metadata": {},
   "outputs": [
    {
     "name": "stdout",
     "output_type": "stream",
     "text": [
      "<class 'pandas.core.frame.DataFrame'>\n",
      "RangeIndex: 87585 entries, 0 to 87584\n",
      "Data columns (total 2 columns):\n",
      " #   Column     Non-Null Count  Dtype \n",
      "---  ------     --------------  ----- \n",
      " 0   MovieID    87585 non-null  int64 \n",
      " 1   Directors  87585 non-null  object\n",
      "dtypes: int64(1), object(1)\n",
      "memory usage: 1.3+ MB\n"
     ]
    }
   ],
   "source": [
    "def merge_directors(row):\n",
    "    movie_id, imdb, tmdb = row\n",
    "    if imdb != tmdb:\n",
    "        imdb = literal_eval(imdb) if isinstance(imdb, str) else []\n",
    "        tmdb = literal_eval(tmdb) if isinstance(tmdb, str) else []\n",
    "        directors = union_no_alias(imdb, tmdb)\n",
    "    else:\n",
    "        directors = literal_eval(imdb) if isinstance(imdb, str) else []\n",
    "    return pd.Series(\n",
    "        [int(movie_id), str(directors)],\n",
    "        index=[\"MovieID\", \"Directors\"],\n",
    "    )\n",
    "\n",
    "merged_directors = agg_directors.apply(merge_directors, axis=1).astype(\n",
    "    {\"MovieID\": \"int64\", \"Directors\": \"object\"}\n",
    ")\n",
    "merged_directors.info()"
   ]
  },
  {
   "cell_type": "markdown",
   "metadata": {},
   "source": [
    "##### Cast"
   ]
  },
  {
   "cell_type": "code",
   "execution_count": 429,
   "metadata": {},
   "outputs": [
    {
     "name": "stdout",
     "output_type": "stream",
     "text": [
      "<class 'pandas.core.frame.DataFrame'>\n",
      "RangeIndex: 87585 entries, 0 to 87584\n",
      "Data columns (total 3 columns):\n",
      " #   Column   Non-Null Count  Dtype \n",
      "---  ------   --------------  ----- \n",
      " 0   MovieID  87585 non-null  int64 \n",
      " 1   IMDB     85320 non-null  object\n",
      " 2   TMDB     87533 non-null  object\n",
      "dtypes: int64(1), object(2)\n",
      "memory usage: 2.0+ MB\n"
     ]
    }
   ],
   "source": [
    "agg_cast = pd.merge(links, imdb[[\"ImdbID\", \"Cast\"]], on=\"ImdbID\", how=\"left\")\n",
    "agg_cast = agg_cast.drop([\"ImdbID\"], axis=1).rename({\"Cast\": \"IMDB\"}, axis=1)\n",
    "agg_cast = pd.merge(agg_cast, tmdb[[\"TmdbID\", \"Cast\"]], on=\"TmdbID\", how=\"left\")\n",
    "agg_cast = agg_cast.drop([\"TmdbID\"], axis=1).rename({\"Cast\": \"TMDB\"}, axis=1)\n",
    "agg_cast.info()"
   ]
  },
  {
   "cell_type": "code",
   "execution_count": 430,
   "metadata": {},
   "outputs": [
    {
     "name": "stdout",
     "output_type": "stream",
     "text": [
      "<class 'pandas.core.frame.DataFrame'>\n",
      "RangeIndex: 87585 entries, 0 to 87584\n",
      "Data columns (total 2 columns):\n",
      " #   Column   Non-Null Count  Dtype \n",
      "---  ------   --------------  ----- \n",
      " 0   MovieID  87585 non-null  int64 \n",
      " 1   Cast     87585 non-null  object\n",
      "dtypes: int64(1), object(1)\n",
      "memory usage: 1.3+ MB\n"
     ]
    }
   ],
   "source": [
    "def merge_cast(row):\n",
    "    movie_id, imdb, tmdb = row\n",
    "    if imdb != tmdb:\n",
    "        imdb = literal_eval(imdb) if isinstance(imdb, str) else []\n",
    "        tmdb = literal_eval(tmdb) if isinstance(tmdb, str) else []\n",
    "        cast = union_no_alias(imdb, tmdb)\n",
    "    else:\n",
    "        cast = literal_eval(imdb) if isinstance(imdb, str) else []\n",
    "    return pd.Series(\n",
    "        [int(movie_id), str(cast)],\n",
    "        index=[\"MovieID\", \"Cast\"],\n",
    "    )\n",
    "\n",
    "\n",
    "merged_cast = agg_cast.apply(merge_cast, axis=1).astype(\n",
    "    {\"MovieID\": \"int64\", \"Cast\": \"object\"}\n",
    ")\n",
    "merged_cast.info()"
   ]
  },
  {
   "cell_type": "markdown",
   "metadata": {},
   "source": [
    "##### Countries"
   ]
  },
  {
   "cell_type": "code",
   "execution_count": 431,
   "metadata": {},
   "outputs": [
    {
     "name": "stdout",
     "output_type": "stream",
     "text": [
      "<class 'pandas.core.frame.DataFrame'>\n",
      "RangeIndex: 87585 entries, 0 to 87584\n",
      "Data columns (total 3 columns):\n",
      " #   Column   Non-Null Count  Dtype \n",
      "---  ------   --------------  ----- \n",
      " 0   MovieID  87585 non-null  int64 \n",
      " 1   IMDB     87582 non-null  object\n",
      " 2   TMDB     87533 non-null  object\n",
      "dtypes: int64(1), object(2)\n",
      "memory usage: 2.0+ MB\n"
     ]
    }
   ],
   "source": [
    "agg_countries = pd.merge(links, imdb[[\"ImdbID\", \"OriginCountries\"]], on=\"ImdbID\", how=\"left\")\n",
    "agg_countries = agg_countries.drop([\"ImdbID\"], axis=1).rename({\"OriginCountries\": \"IMDB\"}, axis=1)\n",
    "agg_countries = pd.merge(agg_countries, tmdb[[\"TmdbID\", \"OriginCountries\"]], on=\"TmdbID\", how=\"left\")\n",
    "agg_countries = agg_countries.drop([\"TmdbID\"], axis=1).rename({\"OriginCountries\": \"TMDB\"}, axis=1)\n",
    "agg_countries.info()"
   ]
  },
  {
   "cell_type": "code",
   "execution_count": 432,
   "metadata": {},
   "outputs": [
    {
     "data": {
      "text/plain": [
       "{'AU',\n",
       " 'BR',\n",
       " 'CA',\n",
       " 'CN',\n",
       " 'CZ',\n",
       " 'DE',\n",
       " 'DK',\n",
       " 'ES',\n",
       " 'FR',\n",
       " 'GB',\n",
       " 'IE',\n",
       " 'IN',\n",
       " 'IT',\n",
       " 'JP',\n",
       " 'KE',\n",
       " 'KR',\n",
       " 'NZ',\n",
       " 'RU',\n",
       " 'SE',\n",
       " 'US'}"
      ]
     },
     "execution_count": 432,
     "metadata": {},
     "output_type": "execute_result"
    }
   ],
   "source": [
    "missing_imdb_countries = agg_countries[(agg_countries[\"IMDB\"] == \"[]\") ^ agg_countries[\"IMDB\"].isna()]\n",
    "abbr_tmdb = set()\n",
    "for _, row in missing_imdb_countries.iterrows():\n",
    "    tmdb_c = row[\"TMDB\"]\n",
    "    tmdb_c = literal_eval(tmdb_c) if isinstance(tmdb_c, str) else []\n",
    "    abbr_tmdb = abbr_tmdb.union(set(tmdb_c))\n",
    "abbr_tmdb"
   ]
  },
  {
   "cell_type": "code",
   "execution_count": 433,
   "metadata": {},
   "outputs": [],
   "source": [
    "countries_mapper = {\n",
    "    \"AU\": \"Australia\",\n",
    "    \"BR\": \"Brazil\",\n",
    "    \"CA\": \"Canada\",\n",
    "    \"CN\": \"China\",\n",
    "    \"CZ\": \"Czech Republic\",\n",
    "    \"DE\": \"Germany\",\n",
    "    \"DK\": \"Denmark\",\n",
    "    \"ES\": \"Spain\",\n",
    "    \"FR\": \"France\",\n",
    "    \"GB\": \"United Kingdom\",\n",
    "    \"IE\": \"Ireland\",\n",
    "    \"IN\": \"India\",\n",
    "    \"IT\": \"Italy\",\n",
    "    \"JP\": \"Japan\",\n",
    "    \"KE\": \"Kenya\",\n",
    "    \"KR\": \"South Korea\",\n",
    "    \"NZ\": \"New Zealand\",\n",
    "    \"RU\": \"Russia\",\n",
    "    \"SE\": \"Sweden\",\n",
    "    \"US\": \"United States\",\n",
    "}"
   ]
  },
  {
   "cell_type": "code",
   "execution_count": 434,
   "metadata": {},
   "outputs": [
    {
     "name": "stdout",
     "output_type": "stream",
     "text": [
      "<class 'pandas.core.frame.DataFrame'>\n",
      "RangeIndex: 87585 entries, 0 to 87584\n",
      "Data columns (total 2 columns):\n",
      " #   Column           Non-Null Count  Dtype \n",
      "---  ------           --------------  ----- \n",
      " 0   MovieID          87585 non-null  int64 \n",
      " 1   OriginCountries  87585 non-null  object\n",
      "dtypes: int64(1), object(1)\n",
      "memory usage: 1.3+ MB\n"
     ]
    }
   ],
   "source": [
    "def merge_countries(row):\n",
    "    m_id, imdb, tmdb = row\n",
    "    imdb = literal_eval(imdb) if isinstance(imdb, str) else []\n",
    "    tmdb = literal_eval(tmdb) if isinstance(tmdb, str) else []\n",
    "    unique = set(imdb)\n",
    "    for lang in tmdb:\n",
    "        if lang in countries_mapper:\n",
    "            lang = countries_mapper[lang]\n",
    "            if lang in unique:\n",
    "                continue\n",
    "            imdb.append(lang)\n",
    "    return pd.Series([m_id, str(imdb)], [\"MovieID\", \"OriginCountries\"])\n",
    "\n",
    "merged_countries = agg_countries.apply(merge_countries, axis=1).astype({\"MovieID\": \"int64\"})\n",
    "merged_countries.info()"
   ]
  },
  {
   "cell_type": "markdown",
   "metadata": {},
   "source": [
    "##### Languages"
   ]
  },
  {
   "cell_type": "code",
   "execution_count": 435,
   "metadata": {},
   "outputs": [
    {
     "name": "stdout",
     "output_type": "stream",
     "text": [
      "<class 'pandas.core.frame.DataFrame'>\n",
      "RangeIndex: 87585 entries, 0 to 87584\n",
      "Data columns (total 3 columns):\n",
      " #   Column   Non-Null Count  Dtype \n",
      "---  ------   --------------  ----- \n",
      " 0   MovieID  87585 non-null  int64 \n",
      " 1   IMDB     87582 non-null  object\n",
      " 2   TMDB     87533 non-null  object\n",
      "dtypes: int64(1), object(2)\n",
      "memory usage: 2.0+ MB\n"
     ]
    }
   ],
   "source": [
    "agg_langs = pd.merge(links, imdb[[\"ImdbID\", \"Languages\"]], on=\"ImdbID\", how=\"left\")\n",
    "agg_langs = agg_langs.drop([\"ImdbID\"], axis=1).rename({\"Languages\": \"IMDB\"}, axis=1)\n",
    "agg_langs = pd.merge(agg_langs, tmdb[[\"TmdbID\", \"Languages\"]], on=\"TmdbID\", how=\"left\")\n",
    "agg_langs = agg_langs.drop([\"TmdbID\"], axis=1).rename({\"Languages\": \"TMDB\"}, axis=1)\n",
    "agg_langs.info()"
   ]
  },
  {
   "cell_type": "markdown",
   "metadata": {},
   "source": [
    "Remove/Convert specific languages"
   ]
  },
  {
   "cell_type": "code",
   "execution_count": 436,
   "metadata": {},
   "outputs": [],
   "source": [
    "imdb_languages_remove = [\n",
    "    \"Sign Language\",\n",
    "    \"Aboriginal\",\n",
    "    \"languages\",\n",
    "    \"Ancient\",\n",
    "    \"-\",\n",
    "    \"Kru\",\n",
    "    \"Low \",\n",
    "    \"Middle \",\n",
    "    \"Western \",\n",
    "    \" Old\",\n",
    "    \"Old \",\n",
    "]\n",
    "tmdb_languages_remove = [\"Raeto-Romance\"]\n",
    "imdb_convert_languages_map = {\n",
    "    \"Chinese\": \"Mandarin\",\n",
    "    \"Central Khmer\": \"Khmer\",\n",
    "    \"Irish Gaelic\": \"Irish\",\n",
    "    \"Aromanian\": \"Portuguese\",\n",
    "    \"Crimean Tatar\": \"Tatar\",\n",
    "    \"Ibo\": \"Igbo\",\n",
    "    \"Tonga (Tonga Islands)\": \"Tonga\",\n",
    "    \"None\": \"No Language\",\n",
    "}\n",
    "tmdb_convert_languages_map = {\n",
    "    \"Kalaallisut\": \"Greenlandic\",\n",
    "    \"Haitian; Haitian Creole\": \"Haitian\",\n",
    "    \"Chichewa; Nyanja\": \"Nyanja\",\n",
    "    \"Eastern Frisian\": \"Frisian\",\n",
    "    \"Serbo-Croatian\": \"Croatian\",\n",
    "    \"Norwegian Bokmål\": \"Norwegian\",\n",
    "    \"Ossetian; Ossetic\": \"Ossetian\",\n",
    "}"
   ]
  },
  {
   "cell_type": "code",
   "execution_count": 437,
   "metadata": {},
   "outputs": [],
   "source": [
    "def remove_specific_languages(row):\n",
    "    m_id, imdb, tmdb = row\n",
    "    new_imdb = []\n",
    "    if isinstance(imdb, str):\n",
    "        imdb = literal_eval(imdb)\n",
    "        for lang in imdb:\n",
    "            for s_lang in imdb_languages_remove:\n",
    "                if lang.find(s_lang) >= 0:\n",
    "                    break\n",
    "            else:\n",
    "                if lang in imdb_convert_languages_map:\n",
    "                    lang = imdb_convert_languages_map[lang]\n",
    "                new_imdb.append(lang)\n",
    "    new_tmdb = []\n",
    "    if isinstance(tmdb, str):\n",
    "        tmdb = literal_eval(tmdb)\n",
    "        for lang in tmdb:\n",
    "            for s_lang in tmdb_languages_remove:\n",
    "                if lang.find(s_lang) >= 0:\n",
    "                    break\n",
    "            else:\n",
    "                if lang in tmdb_convert_languages_map:\n",
    "                    lang = tmdb_convert_languages_map[lang]\n",
    "                new_tmdb.append(lang)\n",
    "    imdb = str(new_imdb)\n",
    "    tmdb = str(new_tmdb)\n",
    "    return pd.Series([m_id, imdb, tmdb], agg_langs.columns)\n",
    "\n",
    "agg_langs = agg_langs.apply(remove_specific_languages, axis=1)"
   ]
  },
  {
   "cell_type": "code",
   "execution_count": 438,
   "metadata": {},
   "outputs": [
    {
     "name": "stdout",
     "output_type": "stream",
     "text": [
      "<class 'pandas.core.frame.DataFrame'>\n",
      "RangeIndex: 87585 entries, 0 to 87584\n",
      "Data columns (total 2 columns):\n",
      " #   Column     Non-Null Count  Dtype \n",
      "---  ------     --------------  ----- \n",
      " 0   MovieID    87585 non-null  int64 \n",
      " 1   Languages  87585 non-null  object\n",
      "dtypes: int64(1), object(1)\n",
      "memory usage: 1.3+ MB\n"
     ]
    }
   ],
   "source": [
    "def merge_languages(row):\n",
    "    m_id, imdb, tmdb = row\n",
    "    imdb: list = literal_eval(imdb)\n",
    "    tmdb: list = literal_eval(tmdb)\n",
    "    unique = set(imdb)\n",
    "    for lang in tmdb:\n",
    "        # Ensure languages priority\n",
    "        if lang in unique:\n",
    "            continue\n",
    "        imdb.append(lang)\n",
    "    return pd.Series([m_id, str(imdb)], [\"MovieID\", \"Languages\"])\n",
    "\n",
    "merged_langs = agg_langs.apply(merge_languages, axis=1).astype({\"MovieID\": \"int64\"})\n",
    "merged_langs.info()"
   ]
  },
  {
   "cell_type": "markdown",
   "metadata": {},
   "source": [
    "##### Final merged"
   ]
  },
  {
   "cell_type": "code",
   "execution_count": 439,
   "metadata": {},
   "outputs": [
    {
     "name": "stdout",
     "output_type": "stream",
     "text": [
      "<class 'pandas.core.frame.DataFrame'>\n",
      "RangeIndex: 87585 entries, 0 to 87584\n",
      "Data columns (total 10 columns):\n",
      " #   Column           Non-Null Count  Dtype \n",
      "---  ------           --------------  ----- \n",
      " 0   MovieID          87585 non-null  int64 \n",
      " 1   Title            87585 non-null  object\n",
      " 2   Runtime          87530 non-null  object\n",
      " 3   ReleaseDate      87577 non-null  object\n",
      " 4   Genres           87585 non-null  object\n",
      " 5   Directors        87585 non-null  object\n",
      " 6   Cast             87585 non-null  object\n",
      " 7   OriginCountries  87585 non-null  object\n",
      " 8   Languages        87585 non-null  object\n",
      " 9   Plot             87389 non-null  object\n",
      "dtypes: int64(1), object(9)\n",
      "memory usage: 6.7+ MB\n"
     ]
    }
   ],
   "source": [
    "merged_metadata = movies[[\"MovieID\", \"Title\"]]\n",
    "merged_metadata = pd.merge(merged_metadata, merged_runtime, on=\"MovieID\", how=\"left\")\n",
    "merged_metadata = pd.merge(merged_metadata, merged_releasedate, on=\"MovieID\", how=\"left\")\n",
    "merged_metadata = pd.merge(merged_metadata, movie_genres, on=\"MovieID\", how=\"left\")\n",
    "merged_metadata = pd.merge(merged_metadata, merged_directors, on=\"MovieID\", how=\"left\")\n",
    "merged_metadata = pd.merge(merged_metadata, merged_cast, on=\"MovieID\", how=\"left\")\n",
    "merged_metadata = pd.merge(merged_metadata, merged_countries, on=\"MovieID\", how=\"left\")\n",
    "merged_metadata = pd.merge(merged_metadata, merged_langs, on=\"MovieID\", how=\"left\")\n",
    "merged_metadata = pd.merge(merged_metadata, merged_plot, on=\"MovieID\", how=\"left\")\n",
    "merged_metadata.info()"
   ]
  },
  {
   "cell_type": "code",
   "execution_count": null,
   "metadata": {},
   "outputs": [],
   "source": [
    "merged_metadata.to_csv(\"./database/merged/full/metadatas.csv\", index=False)"
   ]
  }
 ],
 "metadata": {
  "kernelspec": {
   "display_name": "walapy",
   "language": "python",
   "name": "python3"
  },
  "language_info": {
   "codemirror_mode": {
    "name": "ipython",
    "version": 3
   },
   "file_extension": ".py",
   "mimetype": "text/x-python",
   "name": "python",
   "nbconvert_exporter": "python",
   "pygments_lexer": "ipython3",
   "version": "3.12.1"
  }
 },
 "nbformat": 4,
 "nbformat_minor": 2
}
