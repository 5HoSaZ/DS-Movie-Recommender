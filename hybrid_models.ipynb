{
 "cells": [
  {
   "cell_type": "code",
   "execution_count": 1,
   "metadata": {},
   "outputs": [
    {
     "name": "stdout",
     "output_type": "stream",
     "text": [
      "Using cuda\n"
     ]
    },
    {
     "name": "stderr",
     "output_type": "stream",
     "text": [
      "\u001b[34m\u001b[1mwandb\u001b[0m: Using wandb-core as the SDK backend. Please refer to https://wandb.me/wandb-core for more information.\n",
      "\u001b[34m\u001b[1mwandb\u001b[0m: Currently logged in as: \u001b[33mdat-tht225482\u001b[0m (\u001b[33mdat-tht225482-hust\u001b[0m). Use \u001b[1m`wandb login --relogin`\u001b[0m to force relogin\n"
     ]
    },
    {
     "data": {
      "text/plain": [
       "True"
      ]
     },
     "execution_count": 1,
     "metadata": {},
     "output_type": "execute_result"
    }
   ],
   "source": [
    "import torch\n",
    "import torch.nn as nn\n",
    "import torch.nn.functional as F\n",
    "import torch.optim as optim\n",
    "from torch.utils.data import DataLoader\n",
    "from torchsummary import summary\n",
    "import pandas as pd\n",
    "\n",
    "# Utility\n",
    "import time\n",
    "import wandb\n",
    "\n",
    "from models.custom import RatingDataset\n",
    "from models.cb import FeatureGenerator\n",
    "from models.hybrid import EmbededHybridNet\n",
    "from models.training import train_model, test_model\n",
    "from utility import Mapper\n",
    "\n",
    "DEVICE = \"cuda\" if torch.cuda.is_available() else \"cpu\"\n",
    "print(\"Using \" + DEVICE)\n",
    "wandb.login()"
   ]
  },
  {
   "cell_type": "markdown",
   "metadata": {},
   "source": [
    "## Dataset"
   ]
  },
  {
   "cell_type": "code",
   "execution_count": 2,
   "metadata": {},
   "outputs": [
    {
     "name": "stdout",
     "output_type": "stream",
     "text": [
      "Number of users: 200948\n",
      "Number of items: 84432\n"
     ]
    }
   ],
   "source": [
    "DATASET = \"merged/full\"\n",
    "mapper = Mapper.load(f\"./database/{DATASET}/pydata/mapper.pkl\")\n",
    "full_mapper = Mapper.load(f\"./database/merged/mapper.pkl\")\n",
    "data = RatingDataset(f\"./database/{DATASET}\", full_mapper, True)\n",
    "print(\"Number of users:\", NUM_USER := len(mapper.user_fwd_map))\n",
    "print(\"Number of items:\", NUM_ITEM := len(mapper.item_fwd_map))"
   ]
  },
  {
   "cell_type": "markdown",
   "metadata": {},
   "source": [
    "## Hybrid Model Training"
   ]
  },
  {
   "cell_type": "code",
   "execution_count": 3,
   "metadata": {},
   "outputs": [],
   "source": [
    "# Training parameters\n",
    "EPOCHS = 40\n",
    "BATCH = 4096\n",
    "SEED = 291124"
   ]
  },
  {
   "cell_type": "code",
   "execution_count": 4,
   "metadata": {},
   "outputs": [
    {
     "data": {
      "application/vnd.jupyter.widget-view+json": {
       "model_id": "cc234ef6f9774c3eb1434f2a0f904a47",
       "version_major": 2,
       "version_minor": 0
      },
      "text/plain": [
       "VBox(children=(Label(value='Waiting for wandb.init()...\\r'), FloatProgress(value=0.011113115211143547, max=1.0…"
      ]
     },
     "metadata": {},
     "output_type": "display_data"
    },
    {
     "data": {
      "text/html": [
       "Tracking run with wandb version 0.18.5"
      ],
      "text/plain": [
       "<IPython.core.display.HTML object>"
      ]
     },
     "metadata": {},
     "output_type": "display_data"
    },
    {
     "data": {
      "text/html": [
       "Run data is saved locally in <code>/home/zelinix_window/workspace/movie-recommendation/wandb/run-20241214_110930-z6s5v8lf</code>"
      ],
      "text/plain": [
       "<IPython.core.display.HTML object>"
      ]
     },
     "metadata": {},
     "output_type": "display_data"
    },
    {
     "data": {
      "text/html": [
       "Syncing run <strong><a href='https://wandb.ai/dat-tht225482-hust/movie-recommendation-models/runs/z6s5v8lf' target=\"_blank\">sweet-energy-48</a></strong> to <a href='https://wandb.ai/dat-tht225482-hust/movie-recommendation-models' target=\"_blank\">Weights & Biases</a> (<a href='https://wandb.me/run' target=\"_blank\">docs</a>)<br/>"
      ],
      "text/plain": [
       "<IPython.core.display.HTML object>"
      ]
     },
     "metadata": {},
     "output_type": "display_data"
    },
    {
     "data": {
      "text/html": [
       " View project at <a href='https://wandb.ai/dat-tht225482-hust/movie-recommendation-models' target=\"_blank\">https://wandb.ai/dat-tht225482-hust/movie-recommendation-models</a>"
      ],
      "text/plain": [
       "<IPython.core.display.HTML object>"
      ]
     },
     "metadata": {},
     "output_type": "display_data"
    },
    {
     "data": {
      "text/html": [
       " View run at <a href='https://wandb.ai/dat-tht225482-hust/movie-recommendation-models/runs/z6s5v8lf' target=\"_blank\">https://wandb.ai/dat-tht225482-hust/movie-recommendation-models/runs/z6s5v8lf</a>"
      ],
      "text/plain": [
       "<IPython.core.display.HTML object>"
      ]
     },
     "metadata": {},
     "output_type": "display_data"
    },
    {
     "data": {
      "text/html": [
       "<button onClick=\"this.nextSibling.style.display='block';this.style.display='none';\">Display W&B run</button><iframe src='https://wandb.ai/dat-tht225482-hust/movie-recommendation-models/runs/z6s5v8lf?jupyter=true' style='border:none;width:100%;height:420px;display:none;'></iframe>"
      ],
      "text/plain": [
       "<wandb.sdk.wandb_run.Run at 0x7efeece49640>"
      ]
     },
     "execution_count": 4,
     "metadata": {},
     "output_type": "execute_result"
    }
   ],
   "source": [
    "wandb.init(\n",
    "    project=\"movie-recommendation-models\",\n",
    "    resume=\"allow\",\n",
    "    config={\n",
    "        \"dataset\": DATASET,\n",
    "        \"seed\": SEED,\n",
    "        \"batch_size\": BATCH,\n",
    "        \"epochs\": EPOCHS,\n",
    "        \"device\": DEVICE,\n",
    "    },\n",
    ")"
   ]
  },
  {
   "cell_type": "markdown",
   "metadata": {},
   "source": [
    "Train-Test Split"
   ]
  },
  {
   "cell_type": "code",
   "execution_count": 5,
   "metadata": {},
   "outputs": [],
   "source": [
    "train, test = data.split(0.8, seed=SEED)\n",
    "train_loader = DataLoader(train, batch_size=BATCH, shuffle=True, num_workers=3)\n",
    "test_loader = DataLoader(test, batch_size=BATCH, num_workers=3)"
   ]
  },
  {
   "cell_type": "code",
   "execution_count": 6,
   "metadata": {},
   "outputs": [],
   "source": [
    "genres = torch.load(\"./models/cb/genres_with_ratings.pt\").to(DEVICE)\n",
    "titles_and_plots = torch.load(\"./models/cb/titles_and_plots.pt\").to(DEVICE)\n",
    "directors_and_casts = torch.load(\"./models/cb/directors_and_cast.pt\").to(DEVICE)\n",
    "model = EmbededHybridNet(NUM_USER, genres, titles_and_plots, directors_and_casts).to(DEVICE)\n",
    "loss_fn = nn.MSELoss()\n",
    "l1 = nn.L1Loss()\n",
    "optimizer = optim.SGD(model.parameters())\n",
    "best_val_loss = float(\"inf\")\n",
    "wandb.watch(model)"
   ]
  },
  {
   "cell_type": "code",
   "execution_count": 7,
   "metadata": {},
   "outputs": [
    {
     "data": {
      "text/plain": [
       "EmbededHybridNet(\n",
       "  (item_weighted_genres): FeatureGenerator()\n",
       "  (item_titles_plots): FeatureGenerator()\n",
       "  (item_directors_casts): FeatureGenerator()\n",
       "  (user_weighted_genres): Embedding(200948, 20, sparse=True)\n",
       "  (user_titles_plots): Embedding(200948, 702, sparse=True)\n",
       "  (user_directors_casts): Embedding(200948, 485, sparse=True)\n",
       "  (dense_weighted_genres): Linear(in_features=40, out_features=2, bias=True)\n",
       "  (dense_titles_plots): Linear(in_features=1404, out_features=2, bias=True)\n",
       "  (dense_directors_casts): Linear(in_features=970, out_features=2, bias=True)\n",
       "  (out): Linear(in_features=6, out_features=1, bias=True)\n",
       "  (relu): ReLU()\n",
       ")"
      ]
     },
     "execution_count": 7,
     "metadata": {},
     "output_type": "execute_result"
    }
   ],
   "source": [
    "model"
   ]
  },
  {
   "cell_type": "code",
   "execution_count": 8,
   "metadata": {},
   "outputs": [],
   "source": [
    "def logging(epoch, train_loss, train_mae, test_loss, test_mae, time):\n",
    "    time = int(time)\n",
    "    logs = \"\"\n",
    "    logs += f\"Epoch {epoch}: \"\n",
    "    logs += f\"Train Loss: {train_loss:.4e} | \"\n",
    "    logs += f\"Train MAE: {train_mae:.4e} | \"\n",
    "    logs += f\"Test Loss: {test_loss:.4e} | \"\n",
    "    logs += f\"Test MAE: {test_mae:.4e} | \"\n",
    "    logs += f\"Time Taken: {time // 60}m {time % 60:02d}s\"\n",
    "    wandb.log(\n",
    "        {\n",
    "            \"epoch\": epoch,\n",
    "            \"train_loss\": train_loss,\n",
    "            \"train_mae\": train_mae,\n",
    "            \"test_loss\": test_loss,\n",
    "            \"test_mae\": test_mae,\n",
    "        }\n",
    "    )\n",
    "    print(logs, end=\" \")"
   ]
  },
  {
   "cell_type": "code",
   "execution_count": 9,
   "metadata": {},
   "outputs": [
    {
     "name": "stdout",
     "output_type": "stream",
     "text": [
      "Epoch 1: Train Loss: 7.5762e-02 | Train MAE: 2.1720e-01 | Test Loss: 5.1840e-02 | Test MAE: 1.8050e-01 | Time Taken: 10m 22s > Checkpoint saved!\n",
      "Epoch 2: Train Loss: 4.8513e-02 | Train MAE: 1.7415e-01 | Test Loss: 4.6372e-02 | Test MAE: 1.6999e-01 | Time Taken: 9m 08s > Checkpoint saved!\n",
      "Epoch 3: Train Loss: 4.5322e-02 | Train MAE: 1.6794e-01 | Test Loss: 4.4443e-02 | Test MAE: 1.6621e-01 | Time Taken: 7m 55s > Checkpoint saved!\n",
      "Epoch 4: Train Loss: 4.3898e-02 | Train MAE: 1.6513e-01 | Test Loss: 4.3378e-02 | Test MAE: 1.6408e-01 | Time Taken: 9m 41s > Checkpoint saved!\n",
      "Epoch 5: Train Loss: 4.3029e-02 | Train MAE: 1.6338e-01 | Test Loss: 4.2664e-02 | Test MAE: 1.6263e-01 | Time Taken: 7m 51s > Checkpoint saved!\n",
      "Epoch 6: Train Loss: 4.2410e-02 | Train MAE: 1.6210e-01 | Test Loss: 4.2123e-02 | Test MAE: 1.6152e-01 | Time Taken: 7m 30s > Checkpoint saved!\n",
      "Epoch 7: Train Loss: 4.1922e-02 | Train MAE: 1.6106e-01 | Test Loss: 4.1680e-02 | Test MAE: 1.6055e-01 | Time Taken: 9m 20s > Checkpoint saved!\n",
      "Epoch 8: Train Loss: 4.1511e-02 | Train MAE: 1.6017e-01 | Test Loss: 4.1299e-02 | Test MAE: 1.5971e-01 | Time Taken: 15m 44s > Checkpoint saved!\n",
      "Epoch 9: Train Loss: 4.1153e-02 | Train MAE: 1.5936e-01 | Test Loss: 4.0962e-02 | Test MAE: 1.5893e-01 | Time Taken: 16m 46s > Checkpoint saved!\n",
      "Epoch 10: Train Loss: 4.0831e-02 | Train MAE: 1.5862e-01 | Test Loss: 4.0658e-02 | Test MAE: 1.5825e-01 | Time Taken: 12m 22s > Checkpoint saved!\n",
      "Epoch 11: Train Loss: 4.0540e-02 | Train MAE: 1.5793e-01 | Test Loss: 4.0384e-02 | Test MAE: 1.5756e-01 | Time Taken: 7m 49s > Checkpoint saved!\n",
      "Epoch 12: Train Loss: 4.0281e-02 | Train MAE: 1.5730e-01 | Test Loss: 4.0136e-02 | Test MAE: 1.5696e-01 | Time Taken: 6m 12s > Checkpoint saved!\n",
      "Epoch 13: Train Loss: 4.0044e-02 | Train MAE: 1.5671e-01 | Test Loss: 3.9913e-02 | Test MAE: 1.5639e-01 | Time Taken: 6m 13s > Checkpoint saved!\n",
      "Epoch 14: Train Loss: 3.9833e-02 | Train MAE: 1.5616e-01 | Test Loss: 3.9713e-02 | Test MAE: 1.5586e-01 | Time Taken: 6m 10s > Checkpoint saved!\n",
      "Epoch 15: Train Loss: 3.9642e-02 | Train MAE: 1.5566e-01 | Test Loss: 3.9535e-02 | Test MAE: 1.5539e-01 | Time Taken: 6m 13s > Checkpoint saved!\n",
      "Epoch 16: Train Loss: 3.9474e-02 | Train MAE: 1.5521e-01 | Test Loss: 3.9376e-02 | Test MAE: 1.5496e-01 | Time Taken: 7m 31s > Checkpoint saved!\n",
      "Epoch 17: Train Loss: 3.9325e-02 | Train MAE: 1.5480e-01 | Test Loss: 3.9236e-02 | Test MAE: 1.5456e-01 | Time Taken: 8m 13s > Checkpoint saved!\n",
      "Epoch 18: Train Loss: 3.9193e-02 | Train MAE: 1.5444e-01 | Test Loss: 3.9113e-02 | Test MAE: 1.5423e-01 | Time Taken: 13m 29s > Checkpoint saved!\n",
      "Epoch 19: Train Loss: 3.9078e-02 | Train MAE: 1.5412e-01 | Test Loss: 3.9005e-02 | Test MAE: 1.5393e-01 | Time Taken: 13m 28s > Checkpoint saved!\n",
      "Epoch 20: Train Loss: 3.8976e-02 | Train MAE: 1.5383e-01 | Test Loss: 3.8911e-02 | Test MAE: 1.5365e-01 | Time Taken: 8m 56s > Checkpoint saved!\n",
      "Epoch 21: Train Loss: 3.8887e-02 | Train MAE: 1.5357e-01 | Test Loss: 3.8829e-02 | Test MAE: 1.5340e-01 | Time Taken: 7m 11s > Checkpoint saved!\n",
      "Epoch 22: Train Loss: 3.8812e-02 | Train MAE: 1.5335e-01 | Test Loss: 3.8759e-02 | Test MAE: 1.5321e-01 | Time Taken: 7m 29s > Checkpoint saved!\n",
      "Epoch 23: Train Loss: 3.8748e-02 | Train MAE: 1.5316e-01 | Test Loss: 3.8699e-02 | Test MAE: 1.5303e-01 | Time Taken: 7m 42s > Checkpoint saved!\n",
      "Epoch 24: Train Loss: 3.8691e-02 | Train MAE: 1.5300e-01 | Test Loss: 3.8647e-02 | Test MAE: 1.5286e-01 | Time Taken: 7m 50s > Checkpoint saved!\n",
      "Epoch 25: Train Loss: 3.8643e-02 | Train MAE: 1.5285e-01 | Test Loss: 3.8603e-02 | Test MAE: 1.5275e-01 | Time Taken: 7m 10s > Checkpoint saved!\n",
      "Epoch 26: Train Loss: 3.8603e-02 | Train MAE: 1.5273e-01 | Test Loss: 3.8566e-02 | Test MAE: 1.5261e-01 | Time Taken: 6m 58s > Checkpoint saved!\n",
      "Epoch 27: Train Loss: 3.8568e-02 | Train MAE: 1.5262e-01 | Test Loss: 3.8535e-02 | Test MAE: 1.5255e-01 | Time Taken: 6m 47s > Checkpoint saved!\n",
      "Epoch 28: Train Loss: 3.8541e-02 | Train MAE: 1.5254e-01 | Test Loss: 3.8509e-02 | Test MAE: 1.5247e-01 | Time Taken: 6m 35s > Checkpoint saved!\n",
      "Epoch 29: Train Loss: 3.8516e-02 | Train MAE: 1.5246e-01 | Test Loss: 3.8486e-02 | Test MAE: 1.5238e-01 | Time Taken: 6m 38s > Checkpoint saved!\n",
      "Epoch 30: Train Loss: 3.8497e-02 | Train MAE: 1.5240e-01 | Test Loss: 3.8468e-02 | Test MAE: 1.5232e-01 | Time Taken: 6m 55s > Checkpoint saved!\n",
      "Epoch 31: Train Loss: 3.8477e-02 | Train MAE: 1.5233e-01 | Test Loss: 3.8452e-02 | Test MAE: 1.5228e-01 | Time Taken: 7m 14s > Checkpoint saved!\n",
      "Epoch 32: Train Loss: 3.8463e-02 | Train MAE: 1.5229e-01 | Test Loss: 3.8438e-02 | Test MAE: 1.5223e-01 | Time Taken: 7m 07s > Checkpoint saved!\n",
      "Epoch 33: Train Loss: 3.8450e-02 | Train MAE: 1.5224e-01 | Test Loss: 3.8427e-02 | Test MAE: 1.5216e-01 | Time Taken: 6m 47s > Checkpoint saved!\n",
      "Epoch 34: Train Loss: 3.8439e-02 | Train MAE: 1.5221e-01 | Test Loss: 3.8417e-02 | Test MAE: 1.5214e-01 | Time Taken: 6m 30s > Checkpoint saved!\n",
      "Epoch 35: Train Loss: 3.8430e-02 | Train MAE: 1.5218e-01 | Test Loss: 3.8408e-02 | Test MAE: 1.5212e-01 | Time Taken: 6m 36s > Checkpoint saved!\n",
      "Epoch 36: Train Loss: 3.8424e-02 | Train MAE: 1.5215e-01 | Test Loss: 3.8401e-02 | Test MAE: 1.5208e-01 | Time Taken: 6m 38s > Checkpoint saved!\n",
      "Epoch 37: Train Loss: 3.8415e-02 | Train MAE: 1.5212e-01 | Test Loss: 3.8394e-02 | Test MAE: 1.5207e-01 | Time Taken: 6m 33s > Checkpoint saved!\n",
      "Epoch 38: Train Loss: 3.8410e-02 | Train MAE: 1.5210e-01 | Test Loss: 3.8388e-02 | Test MAE: 1.5205e-01 | Time Taken: 6m 35s > Checkpoint saved!\n",
      "Epoch 39: Train Loss: 3.8403e-02 | Train MAE: 1.5208e-01 | Test Loss: 3.8383e-02 | Test MAE: 1.5201e-01 | Time Taken: 6m 55s > Checkpoint saved!\n",
      "Epoch 40: Train Loss: 3.8398e-02 | Train MAE: 1.5206e-01 | Test Loss: 3.8378e-02 | Test MAE: 1.5200e-01 | Time Taken: 6m 46s > Checkpoint saved!\n"
     ]
    }
   ],
   "source": [
    "for epoch in range(1, EPOCHS + 1):\n",
    "    start_time = time.time()\n",
    "    train_loss, train_mae = train_model(\n",
    "        epoch, model, train_loader, loss_fn, optimizer, DEVICE\n",
    "    )\n",
    "    test_loss, test_mae = test_model(epoch, model, test_loader, loss_fn, DEVICE)\n",
    "    time_taken = time.time() - start_time\n",
    "    logging(epoch, train_loss, train_mae, test_loss, test_mae, time_taken)\n",
    "    if test_loss < best_val_loss:\n",
    "        best_val_loss = test_loss\n",
    "        torch.save(model.state_dict(), \"model.pth\")\n",
    "        print(\"> Checkpoint saved!\")\n",
    "    else:\n",
    "        print()"
   ]
  },
  {
   "cell_type": "code",
   "execution_count": 10,
   "metadata": {},
   "outputs": [
    {
     "data": {
      "application/vnd.jupyter.widget-view+json": {
       "model_id": "5b9c72899d3e4a789b0b08022e23062c",
       "version_major": 2,
       "version_minor": 0
      },
      "text/plain": [
       "VBox(children=(Label(value='0.005 MB of 0.005 MB uploaded\\r'), FloatProgress(value=1.0, max=1.0)))"
      ]
     },
     "metadata": {},
     "output_type": "display_data"
    },
    {
     "data": {
      "text/html": [
       "<style>\n",
       "    table.wandb td:nth-child(1) { padding: 0 10px; text-align: left ; width: auto;} td:nth-child(2) {text-align: left ; width: 100%}\n",
       "    .wandb-row { display: flex; flex-direction: row; flex-wrap: wrap; justify-content: flex-start; width: 100% }\n",
       "    .wandb-col { display: flex; flex-direction: column; flex-basis: 100%; flex: 1; padding: 10px; }\n",
       "    </style>\n",
       "<div class=\"wandb-row\"><div class=\"wandb-col\"><h3>Run history:</h3><br/><table class=\"wandb\"><tr><td>epoch</td><td>▁▁▁▂▂▂▂▂▂▃▃▃▃▃▄▄▄▄▄▄▅▅▅▅▅▅▆▆▆▆▆▇▇▇▇▇▇███</td></tr><tr><td>test_loss</td><td>█▅▄▄▃▃▃▃▂▂▂▂▂▂▂▂▁▁▁▁▁▁▁▁▁▁▁▁▁▁▁▁▁▁▁▁▁▁▁▁</td></tr><tr><td>test_mae</td><td>█▅▄▄▄▃▃▃▃▃▂▂▂▂▂▂▂▂▁▁▁▁▁▁▁▁▁▁▁▁▁▁▁▁▁▁▁▁▁▁</td></tr><tr><td>train_loss</td><td>█▃▂▂▂▂▂▂▂▁▁▁▁▁▁▁▁▁▁▁▁▁▁▁▁▁▁▁▁▁▁▁▁▁▁▁▁▁▁▁</td></tr><tr><td>train_mae</td><td>█▃▃▂▂▂▂▂▂▂▂▂▁▁▁▁▁▁▁▁▁▁▁▁▁▁▁▁▁▁▁▁▁▁▁▁▁▁▁▁</td></tr></table><br/></div><div class=\"wandb-col\"><h3>Run summary:</h3><br/><table class=\"wandb\"><tr><td>epoch</td><td>40</td></tr><tr><td>test_loss</td><td>0.03838</td></tr><tr><td>test_mae</td><td>0.152</td></tr><tr><td>train_loss</td><td>0.0384</td></tr><tr><td>train_mae</td><td>0.15206</td></tr></table><br/></div></div>"
      ],
      "text/plain": [
       "<IPython.core.display.HTML object>"
      ]
     },
     "metadata": {},
     "output_type": "display_data"
    },
    {
     "data": {
      "text/html": [
       " View run <strong style=\"color:#cdcd00\">sweet-energy-48</strong> at: <a href='https://wandb.ai/dat-tht225482-hust/movie-recommendation-models/runs/z6s5v8lf' target=\"_blank\">https://wandb.ai/dat-tht225482-hust/movie-recommendation-models/runs/z6s5v8lf</a><br/> View project at: <a href='https://wandb.ai/dat-tht225482-hust/movie-recommendation-models' target=\"_blank\">https://wandb.ai/dat-tht225482-hust/movie-recommendation-models</a><br/>Synced 5 W&B file(s), 0 media file(s), 0 artifact file(s) and 0 other file(s)"
      ],
      "text/plain": [
       "<IPython.core.display.HTML object>"
      ]
     },
     "metadata": {},
     "output_type": "display_data"
    },
    {
     "data": {
      "text/html": [
       "Find logs at: <code>./wandb/run-20241214_110930-z6s5v8lf/logs</code>"
      ],
      "text/plain": [
       "<IPython.core.display.HTML object>"
      ]
     },
     "metadata": {},
     "output_type": "display_data"
    }
   ],
   "source": [
    "wandb.finish()"
   ]
  },
  {
   "cell_type": "markdown",
   "metadata": {},
   "source": [
    "## Get recommendation"
   ]
  },
  {
   "cell_type": "code",
   "execution_count": 11,
   "metadata": {},
   "outputs": [
    {
     "data": {
      "text/plain": [
       "<All keys matched successfully>"
      ]
     },
     "execution_count": 11,
     "metadata": {},
     "output_type": "execute_result"
    }
   ],
   "source": [
    "movies = pd.read_csv(\"./database/merged/metadatas.csv\")\n",
    "full_mapper = Mapper.load(f\"./database/merged/mapper.pkl\")\n",
    "model = EmbededHybridNet(NUM_USER, genres, titles_and_plots, directors_and_casts).to(DEVICE)\n",
    "# model.load_state_dict(torch.load(\"./models/hybrid/embeded_hybrid.pth\"))\n",
    "model.load_state_dict(torch.load(\"./model.pth\"))"
   ]
  },
  {
   "cell_type": "code",
   "execution_count": 12,
   "metadata": {},
   "outputs": [],
   "source": [
    "def get_recommendation(user, model: nn.Module, top: int = 10):\n",
    "    user_idx = int(full_mapper.user_fwd_map[user])\n",
    "    num_items = len(full_mapper.item_fwd_map)\n",
    "    users = torch.tensor([user_idx] * num_items, dtype=torch.int64, device=DEVICE)\n",
    "    movies = torch.tensor(range(num_items), dtype=torch.int64, device=DEVICE)\n",
    "    model.eval()\n",
    "    with torch.no_grad():\n",
    "        ratings: torch.Tensor = model(users, movies)\n",
    "    ratings = [\n",
    "        (full_mapper.item_inv_map[i], float(r.item()))\n",
    "        for i, r in zip(range(num_items), ratings.to(\"cpu\"))\n",
    "    ]\n",
    "    ratings = sorted(ratings, key=lambda x: x[1], reverse=True)[:top]\n",
    "    return ratings"
   ]
  },
  {
   "cell_type": "code",
   "execution_count": 13,
   "metadata": {},
   "outputs": [
    {
     "data": {
      "text/html": [
       "<div>\n",
       "<style scoped>\n",
       "    .dataframe tbody tr th:only-of-type {\n",
       "        vertical-align: middle;\n",
       "    }\n",
       "\n",
       "    .dataframe tbody tr th {\n",
       "        vertical-align: top;\n",
       "    }\n",
       "\n",
       "    .dataframe thead th {\n",
       "        text-align: right;\n",
       "    }\n",
       "</style>\n",
       "<table border=\"1\" class=\"dataframe\">\n",
       "  <thead>\n",
       "    <tr style=\"text-align: right;\">\n",
       "      <th></th>\n",
       "      <th>Title</th>\n",
       "      <th>MovieID</th>\n",
       "      <th>Rating</th>\n",
       "    </tr>\n",
       "  </thead>\n",
       "  <tbody>\n",
       "    <tr>\n",
       "      <th>12</th>\n",
       "      <td>Along Came a Spider (2001)</td>\n",
       "      <td>4238</td>\n",
       "      <td>4.0</td>\n",
       "    </tr>\n",
       "    <tr>\n",
       "      <th>97</th>\n",
       "      <td>The Waiting (2016)</td>\n",
       "      <td>156903</td>\n",
       "      <td>4.0</td>\n",
       "    </tr>\n",
       "    <tr>\n",
       "      <th>59</th>\n",
       "      <td>Triangle (2009)</td>\n",
       "      <td>74228</td>\n",
       "      <td>4.0</td>\n",
       "    </tr>\n",
       "    <tr>\n",
       "      <th>147</th>\n",
       "      <td>A House on the Bayou (2021)</td>\n",
       "      <td>266756</td>\n",
       "      <td>3.5</td>\n",
       "    </tr>\n",
       "    <tr>\n",
       "      <th>163</th>\n",
       "      <td>Death Count (2022)</td>\n",
       "      <td>287421</td>\n",
       "      <td>1.0</td>\n",
       "    </tr>\n",
       "    <tr>\n",
       "      <th>112</th>\n",
       "      <td>The Odds (2019)</td>\n",
       "      <td>206135</td>\n",
       "      <td>4.0</td>\n",
       "    </tr>\n",
       "    <tr>\n",
       "      <th>82</th>\n",
       "      <td>Conjuring, The (2013)</td>\n",
       "      <td>103688</td>\n",
       "      <td>5.0</td>\n",
       "    </tr>\n",
       "    <tr>\n",
       "      <th>159</th>\n",
       "      <td>The Pope's Exorcist (2023)</td>\n",
       "      <td>286097</td>\n",
       "      <td>4.0</td>\n",
       "    </tr>\n",
       "    <tr>\n",
       "      <th>51</th>\n",
       "      <td>Taken (2008)</td>\n",
       "      <td>59369</td>\n",
       "      <td>4.0</td>\n",
       "    </tr>\n",
       "    <tr>\n",
       "      <th>100</th>\n",
       "      <td>Pyewacket (2017)</td>\n",
       "      <td>177611</td>\n",
       "      <td>2.5</td>\n",
       "    </tr>\n",
       "  </tbody>\n",
       "</table>\n",
       "</div>"
      ],
      "text/plain": [
       "                           Title  MovieID  Rating\n",
       "12    Along Came a Spider (2001)     4238     4.0\n",
       "97            The Waiting (2016)   156903     4.0\n",
       "59               Triangle (2009)    74228     4.0\n",
       "147  A House on the Bayou (2021)   266756     3.5\n",
       "163           Death Count (2022)   287421     1.0\n",
       "112              The Odds (2019)   206135     4.0\n",
       "82         Conjuring, The (2013)   103688     5.0\n",
       "159   The Pope's Exorcist (2023)   286097     4.0\n",
       "51                  Taken (2008)    59369     4.0\n",
       "100             Pyewacket (2017)   177611     2.5"
      ]
     },
     "execution_count": 13,
     "metadata": {},
     "output_type": "execute_result"
    }
   ],
   "source": [
    "user_id = 15375\n",
    "user_rated = data.dataset[data.dataset[\"UserID\"] == user_id]\n",
    "user_rated = pd.merge(movies[[\"MovieID\", \"Title\"]], user_rated, on=\"MovieID\", how=\"right\")\n",
    "user_rated = user_rated.sort_values(by=\"Rating\", ascending=False)\n",
    "user_rated = user_rated.reindex(columns=[\"Title\", \"MovieID\", \"Rating\"])\n",
    "user_rated.sample(10)"
   ]
  },
  {
   "cell_type": "code",
   "execution_count": 14,
   "metadata": {},
   "outputs": [
    {
     "name": "stdout",
     "output_type": "stream",
     "text": [
      "159817 Planet Earth (2006) 0.9146255254745483\n",
      "171011 Planet Earth II (2016) 0.9060686826705933\n",
      "318 Shawshank Redemption, The (1994) 0.9021295309066772\n",
      "858 Godfather, The (1972) 0.8916270732879639\n",
      "170705 Band of Brothers (2001) 0.8788440227508545\n",
      "527 Schindler's List (1993) 0.8732806444168091\n",
      "1221 Godfather: Part II, The (1974) 0.8714938163757324\n",
      "1203 12 Angry Men (1957) 0.8691617250442505\n",
      "296 Pulp Fiction (1994) 0.8582024574279785\n",
      "356 Forrest Gump (1994) 0.8548520803451538\n"
     ]
    }
   ],
   "source": [
    "for m_id, rate in get_recommendation(user_id, model):\n",
    "    print(m_id, movies[movies[\"MovieID\"] == m_id][\"Title\"].values[0], rate)"
   ]
  }
 ],
 "metadata": {
  "kernelspec": {
   "display_name": "vocalopy",
   "language": "python",
   "name": "python3"
  },
  "language_info": {
   "codemirror_mode": {
    "name": "ipython",
    "version": 3
   },
   "file_extension": ".py",
   "mimetype": "text/x-python",
   "name": "python",
   "nbconvert_exporter": "python",
   "pygments_lexer": "ipython3",
   "version": "3.12.2"
  }
 },
 "nbformat": 4,
 "nbformat_minor": 2
}
