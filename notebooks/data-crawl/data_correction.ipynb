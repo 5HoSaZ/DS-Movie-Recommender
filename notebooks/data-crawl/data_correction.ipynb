{
 "cells": [
  {
   "cell_type": "markdown",
   "metadata": {},
   "source": [
    "# Data Correction"
   ]
  },
  {
   "cell_type": "code",
   "execution_count": 2,
   "metadata": {},
   "outputs": [],
   "source": [
    "import pandas as pd\n",
    "from scrapers.drivers import Requester"
   ]
  },
  {
   "cell_type": "markdown",
   "metadata": {},
   "source": [
    "Base Movielens dataset"
   ]
  },
  {
   "cell_type": "code",
   "execution_count": 3,
   "metadata": {},
   "outputs": [],
   "source": [
    "links = pd.read_csv(\"./database/ml-32m/links.csv\").rename(\n",
    "    {\"movieId\": \"MovieID\", \"imdbId\": \"ImdbID\", \"tmdbId\": \"TmdbID\"}, axis=1\n",
    ")\n",
    "movies = pd.read_csv(\"./database/ml-32m/movies.csv\").rename(\n",
    "    {\"movieId\": \"MovieID\", \"title\": \"Title\", \"genres\": \"Genres\"}, axis=1\n",
    ")"
   ]
  },
  {
   "cell_type": "markdown",
   "metadata": {},
   "source": [
    "#### Problem 1: Missing imdb entries"
   ]
  },
  {
   "cell_type": "markdown",
   "metadata": {},
   "source": [
    "Some imdb entries is missing due to outdated links or removed."
   ]
  },
  {
   "cell_type": "code",
   "execution_count": 4,
   "metadata": {},
   "outputs": [],
   "source": [
    "imdb = pd.read_csv(\"./database/imdb/movie_entries.csv\")"
   ]
  },
  {
   "cell_type": "code",
   "execution_count": 23,
   "metadata": {},
   "outputs": [
    {
     "data": {
      "text/html": [
       "<div>\n",
       "<style scoped>\n",
       "    .dataframe tbody tr th:only-of-type {\n",
       "        vertical-align: middle;\n",
       "    }\n",
       "\n",
       "    .dataframe tbody tr th {\n",
       "        vertical-align: top;\n",
       "    }\n",
       "\n",
       "    .dataframe thead th {\n",
       "        text-align: right;\n",
       "    }\n",
       "</style>\n",
       "<table border=\"1\" class=\"dataframe\">\n",
       "  <thead>\n",
       "    <tr style=\"text-align: right;\">\n",
       "      <th></th>\n",
       "      <th>MovieID</th>\n",
       "      <th>ImdbID</th>\n",
       "      <th>TmdbID</th>\n",
       "      <th>Title</th>\n",
       "      <th>Genres</th>\n",
       "    </tr>\n",
       "  </thead>\n",
       "  <tbody>\n",
       "    <tr>\n",
       "      <th>705</th>\n",
       "      <td>720</td>\n",
       "      <td>118114</td>\n",
       "      <td>503475.0</td>\n",
       "      <td>Wallace &amp; Gromit: The Best of Aardman Animatio...</td>\n",
       "      <td>Adventure|Animation|Comedy</td>\n",
       "    </tr>\n",
       "    <tr>\n",
       "      <th>16391</th>\n",
       "      <td>86668</td>\n",
       "      <td>1347439</td>\n",
       "      <td>241620.0</td>\n",
       "      <td>Louis Theroux: Law &amp; Disorder (2008)</td>\n",
       "      <td>Documentary</td>\n",
       "    </tr>\n",
       "    <tr>\n",
       "      <th>30274</th>\n",
       "      <td>135539</td>\n",
       "      <td>3416042</td>\n",
       "      <td>335676.0</td>\n",
       "      <td>Aurora (2015)</td>\n",
       "      <td>(no genres listed)</td>\n",
       "    </tr>\n",
       "    <tr>\n",
       "      <th>73230</th>\n",
       "      <td>237946</td>\n",
       "      <td>10141686</td>\n",
       "      <td>632378.0</td>\n",
       "      <td>American Bullet (2019)</td>\n",
       "      <td>Action|Adventure</td>\n",
       "    </tr>\n",
       "    <tr>\n",
       "      <th>75263</th>\n",
       "      <td>247468</td>\n",
       "      <td>12446902</td>\n",
       "      <td>811303.0</td>\n",
       "      <td>Audition (2021)</td>\n",
       "      <td>(no genres listed)</td>\n",
       "    </tr>\n",
       "    <tr>\n",
       "      <th>86271</th>\n",
       "      <td>288099</td>\n",
       "      <td>22811298</td>\n",
       "      <td>1061605.0</td>\n",
       "      <td>Don't Look Deeper (2022)</td>\n",
       "      <td>Drama|Sci-Fi</td>\n",
       "    </tr>\n",
       "  </tbody>\n",
       "</table>\n",
       "</div>"
      ],
      "text/plain": [
       "       MovieID    ImdbID     TmdbID  \\\n",
       "705        720    118114   503475.0   \n",
       "16391    86668   1347439   241620.0   \n",
       "30274   135539   3416042   335676.0   \n",
       "73230   237946  10141686   632378.0   \n",
       "75263   247468  12446902   811303.0   \n",
       "86271   288099  22811298  1061605.0   \n",
       "\n",
       "                                                   Title  \\\n",
       "705    Wallace & Gromit: The Best of Aardman Animatio...   \n",
       "16391               Louis Theroux: Law & Disorder (2008)   \n",
       "30274                                      Aurora (2015)   \n",
       "73230                             American Bullet (2019)   \n",
       "75263                                    Audition (2021)   \n",
       "86271                           Don't Look Deeper (2022)   \n",
       "\n",
       "                           Genres  \n",
       "705    Adventure|Animation|Comedy  \n",
       "16391                 Documentary  \n",
       "30274          (no genres listed)  \n",
       "73230            Action|Adventure  \n",
       "75263          (no genres listed)  \n",
       "86271                Drama|Sci-Fi  "
      ]
     },
     "execution_count": 23,
     "metadata": {},
     "output_type": "execute_result"
    }
   ],
   "source": [
    "nan_imdb = imdb[imdb[\"Directors\"].isna()][\"ImdbID\"].values\n",
    "nan_id = links[links[\"ImdbID\"].isin(nan_imdb)][\"MovieID\"]\n",
    "links_and_title = pd.merge(links, movies, on=\"MovieID\", how=\"left\")\n",
    "missing_imdb = links_and_title[links_and_title[\"MovieID\"].isin(nan_id)]\n",
    "missing_imdb"
   ]
  },
  {
   "cell_type": "markdown",
   "metadata": {},
   "source": [
    "Solution: Manual search"
   ]
  },
  {
   "cell_type": "code",
   "execution_count": 46,
   "metadata": {},
   "outputs": [],
   "source": [
    "filter_missing = imdb[~imdb[\"ImdbID\"].isin(missing_imdb[\"ImdbID\"].values)]\n",
    "filter_missing.to_csv(\"./database/imdb/movie_entries.csv\", index=False)"
   ]
  },
  {
   "cell_type": "code",
   "execution_count": null,
   "metadata": {},
   "outputs": [],
   "source": [
    "imdb_correction_map = { # MovieID, new ImdbID\n",
    "    720: 31416047,      # Wallace & Gromit: The Best of Aardman Animatio...\n",
    "    86668: 2585192,     # Louis Theroux: Law & Disorder (2008)\t\n",
    "    135539: 3411580,    # Aurora (2015)\n",
    "    288099: 10488234,   # Don't Look Deeper (2022)\n",
    "}\n",
    "imdb_removed_entries = [237946, 247468] # Also removed on tmdb"
   ]
  },
  {
   "cell_type": "markdown",
   "metadata": {},
   "source": [
    "Replace wrong ImdbID"
   ]
  },
  {
   "cell_type": "code",
   "execution_count": 52,
   "metadata": {},
   "outputs": [],
   "source": [
    "def correct(row):\n",
    "    movie_id, imdb, tmdb = row\n",
    "    movie_id = int(movie_id)\n",
    "    if movie_id in imdb_correction_map:\n",
    "        imdb = imdb_correction_map[movie_id]\n",
    "    return pd.Series([movie_id, imdb, tmdb], [\"movieId\", \"imdbId\", \"tmdbId\"])\n",
    "\n",
    "new_links = (links\n",
    " .apply(correct, axis=1)\n",
    " .astype({\"movieId\": \"int64\", \"imdbId\": \"int64\"}))\n",
    "new_links.to_csv(\"../database/ml-32m/links.csv\", index=False)"
   ]
  },
  {
   "cell_type": "markdown",
   "metadata": {},
   "source": [
    "Add removed entries"
   ]
  },
  {
   "cell_type": "code",
   "execution_count": null,
   "metadata": {},
   "outputs": [],
   "source": [
    "# ['ImdbID', 'Runtime', 'ReleaseDate', 'Rating', 'VoteCount', 'Directors', 'Cast', 'OriginCountries', 'Languages', 'Genres', 'Plot']\n",
    "custom_imdb_entries = [\n",
    "    # American Bullet (2019)\n",
    "    [\n",
    "        10141686,\n",
    "        \"01:32:00\",\n",
    "        \"2019\",\n",
    "        None,\n",
    "        None,\n",
    "        [\"Brando Benetton\", \"Marielle Woods\"],\n",
    "        [\"Dylan Baker\", \"Spencer Treat\"],\n",
    "        [\"United States\", \"Italy\"],\n",
    "        [\"English\"],\n",
    "        [\"Action\", \"War\"],\n",
    "        \"A collection of short war tales from young, future storytellers. Each story tackles subjects like war, honor, sacrifice and humanity.\",\n",
    "    ],\n",
    "    # Audition (2021), source: www.amazon.co.uk\n",
    "    [\n",
    "        12446902,\n",
    "        \"01:15:00\",\n",
    "        \"2021\",\n",
    "        \"9\",\n",
    "        \"27\",\n",
    "        [\"Edward Whelan\"],\n",
    "        [\"Romilly Carboni\", \"Rose Galbraith\", \"Jack Firoozan\", \"Barney Mercer\"],\n",
    "        [\"United Kingdom\"],\n",
    "        [\"English\"],\n",
    "        [\"Drama\", \"Romance\"],\n",
    "        \"Alex, a wide-eyed, ambitious student auditions for a role that could change his life, but to succeed, he must impress two draconian judges at any cost.\",\n",
    "    ],\n",
    "]\n",
    "new_imdb_entries = pd.DataFrame(custom_imdb_entries, columns=imdb.columns)"
   ]
  },
  {
   "cell_type": "code",
   "execution_count": 63,
   "metadata": {},
   "outputs": [],
   "source": [
    "imdb = pd.read_csv(\"../database/imdb/movie_entries.csv\")\n",
    "new_imdb = pd.concat([imdb, new_imdb_entries])\n",
    "new_imdb = new_imdb.drop_duplicates(subset=\"ImdbID\")\n",
    "new_imdb.to_csv(\"../database/imdb/movie_entries.csv\", index=False)"
   ]
  },
  {
   "cell_type": "markdown",
   "metadata": {},
   "source": [
    "#### Problem 2: Missing tmdb entries"
   ]
  },
  {
   "cell_type": "markdown",
   "metadata": {},
   "source": [
    "Some tmdb links are missing or not exist. Use TMDB api to try to get the rest.  \n"
   ]
  },
  {
   "cell_type": "code",
   "execution_count": 4,
   "metadata": {},
   "outputs": [
    {
     "name": "stdout",
     "output_type": "stream",
     "text": [
      "1/52: 125877 --> None\n",
      "2/52: 38426 --> None\n",
      "3/52: 102336 --> None\n",
      "4/52: 113212 --> 1397138\n",
      "5/52: 123953 --> None\n",
      "6/52: 120881 --> None\n",
      "7/52: 133090 --> None\n",
      "8/52: 133361 --> None\n",
      "9/52: 87690 --> None\n",
      "10/52: 341315 --> None\n",
      "11/52: 81454 --> None\n",
      "12/52: 56600 --> None\n",
      "13/52: 223249 --> None\n",
      "14/52: 348862 --> None\n",
      "15/52: 142032 --> None\n",
      "16/52: 377059 --> None\n",
      "17/52: 1141486 --> None\n",
      "18/52: 1517595 --> None\n",
      "19/52: 1104746 --> None\n",
      "20/52: 1433856 --> None\n",
      "21/52: 1594971 --> None\n",
      "22/52: 874957 --> None\n",
      "23/52: 1103248 --> None\n",
      "24/52: 466214 --> None\n",
      "25/52: 495705 --> None\n",
      "26/52: 1590050 --> None\n",
      "27/52: 199208 --> None\n",
      "28/52: 1753881 --> None\n",
      "29/52: 1759871 --> None\n",
      "30/52: 1226036 --> None\n",
      "31/52: 901206 --> None\n",
      "32/52: 159542 --> None\n",
      "33/52: 368520 --> None\n",
      "34/52: 2109106 --> None\n",
      "35/52: 2327631 --> None\n",
      "36/52: 1706542 --> None\n",
      "37/52: 1337601 --> None\n",
      "38/52: 2380408 --> None\n",
      "39/52: 2060305 --> None\n",
      "40/52: 2973064 --> None\n",
      "41/52: 2510620 --> None\n",
      "42/52: 1647292 --> None\n",
      "43/52: 401019 --> None\n",
      "44/52: 2928078 --> None\n",
      "45/52: 2285557 --> None\n",
      "46/52: 1220553 --> None\n",
      "47/52: 2138180 --> None\n",
      "48/52: 1765980 --> None\n",
      "49/52: 308188 --> None\n",
      "50/52: 3670792 --> None\n",
      "51/52: 4438688 --> None\n",
      "52/52: 8819192 --> None\n"
     ]
    }
   ],
   "source": [
    "converter = Requester()\n",
    "missing = links[links[\"TmdbID\"].isna()]\n",
    "missing_count = len(missing)\n",
    "for i, idx in enumerate(missing.index):\n",
    "    imdb_id = int(links.iloc[idx][\"ImdbID\"])\n",
    "    url = (f\"https://api.themoviedb.org/3/find/tt{imdb_id:07d}?external_source=imdb_id\")\n",
    "    results = converter.get(url)[\"movie_results\"]\n",
    "    if results:\n",
    "        tmdb_id = results[0][\"id\"]\n",
    "    else:\n",
    "        tmdb_id = None\n",
    "    print(f\"{i + 1}/{missing_count}: {imdb_id} --> {tmdb_id}\")\n",
    "    links.loc[int(idx), \"TmdbID\"] = tmdb_id\n",
    "links.to_csv(\"../database/ml-32m/links.csv\", index=False)"
   ]
  }
 ],
 "metadata": {
  "kernelspec": {
   "display_name": "vocalopy",
   "language": "python",
   "name": "python3"
  },
  "language_info": {
   "codemirror_mode": {
    "name": "ipython",
    "version": 3
   },
   "file_extension": ".py",
   "mimetype": "text/x-python",
   "name": "python",
   "nbconvert_exporter": "python",
   "pygments_lexer": "ipython3",
   "version": "3.12.2"
  }
 },
 "nbformat": 4,
 "nbformat_minor": 2
}
